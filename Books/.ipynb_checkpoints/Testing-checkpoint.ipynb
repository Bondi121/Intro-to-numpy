{
 "cells": [
  {
   "cell_type": "code",
   "execution_count": 3,
   "id": "9aa1c6fe",
   "metadata": {},
   "outputs": [],
   "source": [
    "import pandas as pd\n",
    "books = pd.read_csv('books.csv')"
   ]
  },
  {
   "cell_type": "code",
   "execution_count": 11,
   "id": "ed8d5407",
   "metadata": {},
   "outputs": [
    {
     "data": {
      "text/html": [
       "<div>\n",
       "<style scoped>\n",
       "    .dataframe tbody tr th:only-of-type {\n",
       "        vertical-align: middle;\n",
       "    }\n",
       "\n",
       "    .dataframe tbody tr th {\n",
       "        vertical-align: top;\n",
       "    }\n",
       "\n",
       "    .dataframe thead th {\n",
       "        text-align: right;\n",
       "    }\n",
       "</style>\n",
       "<table border=\"1\" class=\"dataframe\">\n",
       "  <thead>\n",
       "    <tr style=\"text-align: right;\">\n",
       "      <th></th>\n",
       "      <th>bookID</th>\n",
       "      <th>title</th>\n",
       "      <th>authors</th>\n",
       "      <th>average_rating</th>\n",
       "      <th>isbn</th>\n",
       "      <th>isbn13</th>\n",
       "      <th>language_code</th>\n",
       "      <th>num_pages</th>\n",
       "      <th>ratings_count</th>\n",
       "      <th>text_reviews_count</th>\n",
       "      <th>publication_date</th>\n",
       "      <th>publisher</th>\n",
       "    </tr>\n",
       "  </thead>\n",
       "  <tbody>\n",
       "    <tr>\n",
       "      <th>0</th>\n",
       "      <td>1</td>\n",
       "      <td>The Ultimate Hitchhiker's Guide: Five Complete...</td>\n",
       "      <td>Douglas Adams</td>\n",
       "      <td>4.38</td>\n",
       "      <td>517226952</td>\n",
       "      <td>9780517226957</td>\n",
       "      <td>eng</td>\n",
       "      <td>815</td>\n",
       "      <td>3628</td>\n",
       "      <td>254</td>\n",
       "      <td>11/01/2005</td>\n",
       "      <td>Gramercy Books</td>\n",
       "    </tr>\n",
       "    <tr>\n",
       "      <th>1</th>\n",
       "      <td>2</td>\n",
       "      <td>The Ultimate Hitchhiker's Guide to the Galaxy ...</td>\n",
       "      <td>Douglas Adams</td>\n",
       "      <td>4.38</td>\n",
       "      <td>345453743</td>\n",
       "      <td>9780345453747</td>\n",
       "      <td>eng</td>\n",
       "      <td>815</td>\n",
       "      <td>249558</td>\n",
       "      <td>4080</td>\n",
       "      <td>04/30/2002</td>\n",
       "      <td>Del Rey Books</td>\n",
       "    </tr>\n",
       "    <tr>\n",
       "      <th>2</th>\n",
       "      <td>4</td>\n",
       "      <td>The Hitchhiker's Guide to the Galaxy (Hitchhik...</td>\n",
       "      <td>Douglas Adams</td>\n",
       "      <td>4.22</td>\n",
       "      <td>1400052920</td>\n",
       "      <td>9781400052929</td>\n",
       "      <td>eng</td>\n",
       "      <td>215</td>\n",
       "      <td>4930</td>\n",
       "      <td>460</td>\n",
       "      <td>08/03/2004</td>\n",
       "      <td>Crown</td>\n",
       "    </tr>\n",
       "  </tbody>\n",
       "</table>\n",
       "</div>"
      ],
      "text/plain": [
       "   bookID                                              title        authors  \\\n",
       "0       1  The Ultimate Hitchhiker's Guide: Five Complete...  Douglas Adams   \n",
       "1       2  The Ultimate Hitchhiker's Guide to the Galaxy ...  Douglas Adams   \n",
       "2       4  The Hitchhiker's Guide to the Galaxy (Hitchhik...  Douglas Adams   \n",
       "\n",
       "   average_rating        isbn         isbn13 language_code  num_pages  \\\n",
       "0            4.38   517226952  9780517226957           eng        815   \n",
       "1            4.38   345453743  9780345453747           eng        815   \n",
       "2            4.22  1400052920  9781400052929           eng        215   \n",
       "\n",
       "   ratings_count  text_reviews_count publication_date       publisher  \n",
       "0           3628                 254       11/01/2005  Gramercy Books  \n",
       "1         249558                4080       04/30/2002   Del Rey Books  \n",
       "2           4930                 460       08/03/2004           Crown  "
      ]
     },
     "execution_count": 11,
     "metadata": {},
     "output_type": "execute_result"
    }
   ],
   "source": [
    "books.head(3)"
   ]
  },
  {
   "cell_type": "code",
   "execution_count": 12,
   "id": "176a02b8",
   "metadata": {},
   "outputs": [
    {
     "data": {
      "text/html": [
       "<div>\n",
       "<style scoped>\n",
       "    .dataframe tbody tr th:only-of-type {\n",
       "        vertical-align: middle;\n",
       "    }\n",
       "\n",
       "    .dataframe tbody tr th {\n",
       "        vertical-align: top;\n",
       "    }\n",
       "\n",
       "    .dataframe thead th {\n",
       "        text-align: right;\n",
       "    }\n",
       "</style>\n",
       "<table border=\"1\" class=\"dataframe\">\n",
       "  <thead>\n",
       "    <tr style=\"text-align: right;\">\n",
       "      <th></th>\n",
       "      <th>bookID</th>\n",
       "      <th>title</th>\n",
       "      <th>authors</th>\n",
       "      <th>average_rating</th>\n",
       "      <th>isbn</th>\n",
       "      <th>isbn13</th>\n",
       "      <th>language_code</th>\n",
       "      <th>num_pages</th>\n",
       "      <th>ratings_count</th>\n",
       "      <th>text_reviews_count</th>\n",
       "      <th>publication_date</th>\n",
       "      <th>publisher</th>\n",
       "    </tr>\n",
       "  </thead>\n",
       "  <tbody>\n",
       "    <tr>\n",
       "      <th>11124</th>\n",
       "      <td>45634</td>\n",
       "      <td>The Ice-Shirt (Seven Dreams #1)</td>\n",
       "      <td>William T. Vollmann</td>\n",
       "      <td>3.96</td>\n",
       "      <td>140131965</td>\n",
       "      <td>9780140131963</td>\n",
       "      <td>eng</td>\n",
       "      <td>415</td>\n",
       "      <td>820</td>\n",
       "      <td>95</td>\n",
       "      <td>08/01/1993</td>\n",
       "      <td>Penguin Books</td>\n",
       "    </tr>\n",
       "    <tr>\n",
       "      <th>11125</th>\n",
       "      <td>45639</td>\n",
       "      <td>Poor People</td>\n",
       "      <td>William T. Vollmann</td>\n",
       "      <td>3.72</td>\n",
       "      <td>60878827</td>\n",
       "      <td>9780060878825</td>\n",
       "      <td>eng</td>\n",
       "      <td>434</td>\n",
       "      <td>769</td>\n",
       "      <td>139</td>\n",
       "      <td>02/27/2007</td>\n",
       "      <td>Ecco</td>\n",
       "    </tr>\n",
       "    <tr>\n",
       "      <th>11126</th>\n",
       "      <td>45641</td>\n",
       "      <td>Artemis Fowl (Artemis Fowl  #1)</td>\n",
       "      <td>Eoin Colfer/Nathaniel Parker</td>\n",
       "      <td>3.84</td>\n",
       "      <td>1400085918</td>\n",
       "      <td>9781400085910</td>\n",
       "      <td>eng</td>\n",
       "      <td>6</td>\n",
       "      <td>55</td>\n",
       "      <td>14</td>\n",
       "      <td>04/06/2004</td>\n",
       "      <td>Listening Library</td>\n",
       "    </tr>\n",
       "  </tbody>\n",
       "</table>\n",
       "</div>"
      ],
      "text/plain": [
       "       bookID                            title                       authors  \\\n",
       "11124   45634  The Ice-Shirt (Seven Dreams #1)           William T. Vollmann   \n",
       "11125   45639                      Poor People           William T. Vollmann   \n",
       "11126   45641  Artemis Fowl (Artemis Fowl  #1)  Eoin Colfer/Nathaniel Parker   \n",
       "\n",
       "       average_rating        isbn         isbn13 language_code  num_pages  \\\n",
       "11124            3.96   140131965  9780140131963           eng        415   \n",
       "11125            3.72    60878827  9780060878825           eng        434   \n",
       "11126            3.84  1400085918  9781400085910           eng          6   \n",
       "\n",
       "       ratings_count  text_reviews_count publication_date          publisher  \n",
       "11124            820                  95       08/01/1993      Penguin Books  \n",
       "11125            769                 139       02/27/2007               Ecco  \n",
       "11126             55                  14       04/06/2004  Listening Library  "
      ]
     },
     "execution_count": 12,
     "metadata": {},
     "output_type": "execute_result"
    }
   ],
   "source": [
    "books.tail(3)"
   ]
  },
  {
   "cell_type": "code",
   "execution_count": 13,
   "id": "5a7ce33a",
   "metadata": {},
   "outputs": [
    {
     "data": {
      "text/html": [
       "<div>\n",
       "<style scoped>\n",
       "    .dataframe tbody tr th:only-of-type {\n",
       "        vertical-align: middle;\n",
       "    }\n",
       "\n",
       "    .dataframe tbody tr th {\n",
       "        vertical-align: top;\n",
       "    }\n",
       "\n",
       "    .dataframe thead th {\n",
       "        text-align: right;\n",
       "    }\n",
       "</style>\n",
       "<table border=\"1\" class=\"dataframe\">\n",
       "  <thead>\n",
       "    <tr style=\"text-align: right;\">\n",
       "      <th></th>\n",
       "      <th>bookID</th>\n",
       "      <th>average_rating</th>\n",
       "      <th>isbn13</th>\n",
       "      <th>num_pages</th>\n",
       "      <th>ratings_count</th>\n",
       "      <th>text_reviews_count</th>\n",
       "    </tr>\n",
       "  </thead>\n",
       "  <tbody>\n",
       "    <tr>\n",
       "      <th>count</th>\n",
       "      <td>11127.000000</td>\n",
       "      <td>11127.000000</td>\n",
       "      <td>1.112700e+04</td>\n",
       "      <td>11127.000000</td>\n",
       "      <td>1.112700e+04</td>\n",
       "      <td>11127.000000</td>\n",
       "    </tr>\n",
       "    <tr>\n",
       "      <th>mean</th>\n",
       "      <td>21310.938887</td>\n",
       "      <td>3.933631</td>\n",
       "      <td>9.759888e+12</td>\n",
       "      <td>336.376921</td>\n",
       "      <td>1.793641e+04</td>\n",
       "      <td>541.854498</td>\n",
       "    </tr>\n",
       "    <tr>\n",
       "      <th>std</th>\n",
       "      <td>13093.358023</td>\n",
       "      <td>0.352445</td>\n",
       "      <td>4.428964e+11</td>\n",
       "      <td>241.127305</td>\n",
       "      <td>1.124794e+05</td>\n",
       "      <td>2576.176608</td>\n",
       "    </tr>\n",
       "    <tr>\n",
       "      <th>min</th>\n",
       "      <td>1.000000</td>\n",
       "      <td>0.000000</td>\n",
       "      <td>8.987060e+09</td>\n",
       "      <td>0.000000</td>\n",
       "      <td>0.000000e+00</td>\n",
       "      <td>0.000000</td>\n",
       "    </tr>\n",
       "    <tr>\n",
       "      <th>25%</th>\n",
       "      <td>10287.000000</td>\n",
       "      <td>3.770000</td>\n",
       "      <td>9.780345e+12</td>\n",
       "      <td>192.000000</td>\n",
       "      <td>1.040000e+02</td>\n",
       "      <td>9.000000</td>\n",
       "    </tr>\n",
       "    <tr>\n",
       "      <th>50%</th>\n",
       "      <td>20287.000000</td>\n",
       "      <td>3.960000</td>\n",
       "      <td>9.780586e+12</td>\n",
       "      <td>299.000000</td>\n",
       "      <td>7.450000e+02</td>\n",
       "      <td>46.000000</td>\n",
       "    </tr>\n",
       "    <tr>\n",
       "      <th>75%</th>\n",
       "      <td>32104.500000</td>\n",
       "      <td>4.135000</td>\n",
       "      <td>9.780873e+12</td>\n",
       "      <td>416.000000</td>\n",
       "      <td>4.993500e+03</td>\n",
       "      <td>237.500000</td>\n",
       "    </tr>\n",
       "    <tr>\n",
       "      <th>max</th>\n",
       "      <td>45641.000000</td>\n",
       "      <td>5.000000</td>\n",
       "      <td>9.790008e+12</td>\n",
       "      <td>6576.000000</td>\n",
       "      <td>4.597666e+06</td>\n",
       "      <td>94265.000000</td>\n",
       "    </tr>\n",
       "  </tbody>\n",
       "</table>\n",
       "</div>"
      ],
      "text/plain": [
       "             bookID  average_rating        isbn13     num_pages  \\\n",
       "count  11127.000000    11127.000000  1.112700e+04  11127.000000   \n",
       "mean   21310.938887        3.933631  9.759888e+12    336.376921   \n",
       "std    13093.358023        0.352445  4.428964e+11    241.127305   \n",
       "min        1.000000        0.000000  8.987060e+09      0.000000   \n",
       "25%    10287.000000        3.770000  9.780345e+12    192.000000   \n",
       "50%    20287.000000        3.960000  9.780586e+12    299.000000   \n",
       "75%    32104.500000        4.135000  9.780873e+12    416.000000   \n",
       "max    45641.000000        5.000000  9.790008e+12   6576.000000   \n",
       "\n",
       "       ratings_count  text_reviews_count  \n",
       "count   1.112700e+04        11127.000000  \n",
       "mean    1.793641e+04          541.854498  \n",
       "std     1.124794e+05         2576.176608  \n",
       "min     0.000000e+00            0.000000  \n",
       "25%     1.040000e+02            9.000000  \n",
       "50%     7.450000e+02           46.000000  \n",
       "75%     4.993500e+03          237.500000  \n",
       "max     4.597666e+06        94265.000000  "
      ]
     },
     "execution_count": 13,
     "metadata": {},
     "output_type": "execute_result"
    }
   ],
   "source": [
    "books.describe()"
   ]
  },
  {
   "cell_type": "code",
   "execution_count": 14,
   "id": "eceb08dd",
   "metadata": {},
   "outputs": [
    {
     "data": {
      "text/plain": [
       "11127"
      ]
     },
     "execution_count": 14,
     "metadata": {},
     "output_type": "execute_result"
    }
   ],
   "source": [
    "len(books)"
   ]
  },
  {
   "cell_type": "code",
   "execution_count": 15,
   "id": "dd150c5b",
   "metadata": {},
   "outputs": [
    {
     "data": {
      "text/plain": [
       "(11127, 12)"
      ]
     },
     "execution_count": 15,
     "metadata": {},
     "output_type": "execute_result"
    }
   ],
   "source": [
    "books.shape"
   ]
  },
  {
   "cell_type": "code",
   "execution_count": 17,
   "id": "797f43ca",
   "metadata": {},
   "outputs": [],
   "source": [
    "books['publication_date'] = pd.to_datetime(books['publication_date'])"
   ]
  },
  {
   "cell_type": "code",
   "execution_count": 18,
   "id": "555b2e73",
   "metadata": {},
   "outputs": [
    {
     "data": {
      "text/plain": [
       "bookID                         int64\n",
       "title                         object\n",
       "authors                       object\n",
       "average_rating               float64\n",
       "isbn                          object\n",
       "isbn13                         int64\n",
       "language_code                 object\n",
       "num_pages                      int64\n",
       "ratings_count                  int64\n",
       "text_reviews_count             int64\n",
       "publication_date      datetime64[ns]\n",
       "publisher                     object\n",
       "dtype: object"
      ]
     },
     "execution_count": 18,
     "metadata": {},
     "output_type": "execute_result"
    }
   ],
   "source": [
    "books.dtypes"
   ]
  },
  {
   "cell_type": "code",
   "execution_count": 19,
   "id": "4b41f4ee",
   "metadata": {},
   "outputs": [
    {
     "data": {
      "text/plain": [
       "5.0"
      ]
     },
     "execution_count": 19,
     "metadata": {},
     "output_type": "execute_result"
    }
   ],
   "source": [
    "books['average_rating'].max()"
   ]
  },
  {
   "cell_type": "code",
   "execution_count": 32,
   "id": "f28a6aef",
   "metadata": {},
   "outputs": [
    {
     "data": {
      "text/html": [
       "<div>\n",
       "<style scoped>\n",
       "    .dataframe tbody tr th:only-of-type {\n",
       "        vertical-align: middle;\n",
       "    }\n",
       "\n",
       "    .dataframe tbody tr th {\n",
       "        vertical-align: top;\n",
       "    }\n",
       "\n",
       "    .dataframe thead th {\n",
       "        text-align: right;\n",
       "    }\n",
       "</style>\n",
       "<table border=\"1\" class=\"dataframe\">\n",
       "  <thead>\n",
       "    <tr style=\"text-align: right;\">\n",
       "      <th></th>\n",
       "      <th>bookID</th>\n",
       "      <th>title</th>\n",
       "      <th>authors</th>\n",
       "      <th>average_rating</th>\n",
       "      <th>isbn</th>\n",
       "      <th>isbn13</th>\n",
       "      <th>language_code</th>\n",
       "      <th>num_pages</th>\n",
       "      <th>ratings_count</th>\n",
       "      <th>text_reviews_count</th>\n",
       "      <th>publication_date</th>\n",
       "      <th>publisher</th>\n",
       "    </tr>\n",
       "  </thead>\n",
       "  <tbody>\n",
       "    <tr>\n",
       "      <th>10340</th>\n",
       "      <td>41865</td>\n",
       "      <td>Twilight (Twilight  #1)</td>\n",
       "      <td>Stephenie Meyer</td>\n",
       "      <td>3.59</td>\n",
       "      <td>316015849</td>\n",
       "      <td>9780316015844</td>\n",
       "      <td>eng</td>\n",
       "      <td>501</td>\n",
       "      <td>4597666</td>\n",
       "      <td>94265</td>\n",
       "      <td>2006-09-06</td>\n",
       "      <td>Little  Brown and Company</td>\n",
       "    </tr>\n",
       "  </tbody>\n",
       "</table>\n",
       "</div>"
      ],
      "text/plain": [
       "       bookID                    title          authors  average_rating  \\\n",
       "10340   41865  Twilight (Twilight  #1)  Stephenie Meyer            3.59   \n",
       "\n",
       "            isbn         isbn13 language_code  num_pages  ratings_count  \\\n",
       "10340  316015849  9780316015844           eng        501        4597666   \n",
       "\n",
       "       text_reviews_count publication_date                  publisher  \n",
       "10340               94265       2006-09-06  Little  Brown and Company  "
      ]
     },
     "execution_count": 32,
     "metadata": {},
     "output_type": "execute_result"
    }
   ],
   "source": [
    "popularity = books[books['ratings_count'] > 3000000]\n",
    "popularity"
   ]
  },
  {
   "cell_type": "code",
   "execution_count": 31,
   "id": "b383bfae",
   "metadata": {},
   "outputs": [
    {
     "data": {
      "text/html": [
       "<div>\n",
       "<style scoped>\n",
       "    .dataframe tbody tr th:only-of-type {\n",
       "        vertical-align: middle;\n",
       "    }\n",
       "\n",
       "    .dataframe tbody tr th {\n",
       "        vertical-align: top;\n",
       "    }\n",
       "\n",
       "    .dataframe thead th {\n",
       "        text-align: right;\n",
       "    }\n",
       "</style>\n",
       "<table border=\"1\" class=\"dataframe\">\n",
       "  <thead>\n",
       "    <tr style=\"text-align: right;\">\n",
       "      <th></th>\n",
       "      <th>bookID</th>\n",
       "      <th>title</th>\n",
       "      <th>authors</th>\n",
       "      <th>average_rating</th>\n",
       "      <th>isbn</th>\n",
       "      <th>isbn13</th>\n",
       "      <th>language_code</th>\n",
       "      <th>num_pages</th>\n",
       "      <th>ratings_count</th>\n",
       "      <th>text_reviews_count</th>\n",
       "      <th>publication_date</th>\n",
       "      <th>publisher</th>\n",
       "    </tr>\n",
       "  </thead>\n",
       "  <tbody>\n",
       "    <tr>\n",
       "      <th>10340</th>\n",
       "      <td>41865</td>\n",
       "      <td>Twilight (Twilight  #1)</td>\n",
       "      <td>Stephenie Meyer</td>\n",
       "      <td>3.59</td>\n",
       "      <td>316015849</td>\n",
       "      <td>9780316015844</td>\n",
       "      <td>eng</td>\n",
       "      <td>501</td>\n",
       "      <td>4597666</td>\n",
       "      <td>94265</td>\n",
       "      <td>2006-09-06</td>\n",
       "      <td>Little  Brown and Company</td>\n",
       "    </tr>\n",
       "  </tbody>\n",
       "</table>\n",
       "</div>"
      ],
      "text/plain": [
       "       bookID                    title          authors  average_rating  \\\n",
       "10340   41865  Twilight (Twilight  #1)  Stephenie Meyer            3.59   \n",
       "\n",
       "            isbn         isbn13 language_code  num_pages  ratings_count  \\\n",
       "10340  316015849  9780316015844           eng        501        4597666   \n",
       "\n",
       "       text_reviews_count publication_date                  publisher  \n",
       "10340               94265       2006-09-06  Little  Brown and Company  "
      ]
     },
     "execution_count": 31,
     "metadata": {},
     "output_type": "execute_result"
    }
   ],
   "source": [
    "books.loc[books['ratings_count'] > 3000000]"
   ]
  },
  {
   "cell_type": "code",
   "execution_count": 37,
   "id": "ab02b888",
   "metadata": {},
   "outputs": [
    {
     "data": {
      "text/html": [
       "<div>\n",
       "<style scoped>\n",
       "    .dataframe tbody tr th:only-of-type {\n",
       "        vertical-align: middle;\n",
       "    }\n",
       "\n",
       "    .dataframe tbody tr th {\n",
       "        vertical-align: top;\n",
       "    }\n",
       "\n",
       "    .dataframe thead th {\n",
       "        text-align: right;\n",
       "    }\n",
       "</style>\n",
       "<table border=\"1\" class=\"dataframe\">\n",
       "  <thead>\n",
       "    <tr style=\"text-align: right;\">\n",
       "      <th></th>\n",
       "      <th>bookID</th>\n",
       "      <th>title</th>\n",
       "      <th>authors</th>\n",
       "      <th>average_rating</th>\n",
       "      <th>isbn</th>\n",
       "      <th>isbn13</th>\n",
       "      <th>language_code</th>\n",
       "      <th>num_pages</th>\n",
       "      <th>ratings_count</th>\n",
       "      <th>text_reviews_count</th>\n",
       "      <th>publication_date</th>\n",
       "      <th>publisher</th>\n",
       "    </tr>\n",
       "  </thead>\n",
       "  <tbody>\n",
       "    <tr>\n",
       "      <th>11</th>\n",
       "      <td>18</td>\n",
       "      <td>Harry Potter Boxed Set  Books 1-5 (Harry Potte...</td>\n",
       "      <td>J.K. Rowling/Mary GrandPré</td>\n",
       "      <td>4.78</td>\n",
       "      <td>439682584</td>\n",
       "      <td>9780439682589</td>\n",
       "      <td>eng</td>\n",
       "      <td>2690</td>\n",
       "      <td>41428</td>\n",
       "      <td>164</td>\n",
       "      <td>2004-09-13</td>\n",
       "      <td>Scholastic</td>\n",
       "    </tr>\n",
       "    <tr>\n",
       "      <th>13</th>\n",
       "      <td>22</td>\n",
       "      <td>Harry Potter Collection (Harry Potter  #1-6)</td>\n",
       "      <td>J.K. Rowling</td>\n",
       "      <td>4.73</td>\n",
       "      <td>439827604</td>\n",
       "      <td>9780439827607</td>\n",
       "      <td>eng</td>\n",
       "      <td>3342</td>\n",
       "      <td>28242</td>\n",
       "      <td>808</td>\n",
       "      <td>2005-09-12</td>\n",
       "      <td>Scholastic</td>\n",
       "    </tr>\n",
       "    <tr>\n",
       "      <th>6590</th>\n",
       "      <td>24812</td>\n",
       "      <td>The Complete Calvin and Hobbes</td>\n",
       "      <td>Bill Watterson</td>\n",
       "      <td>4.82</td>\n",
       "      <td>740748475</td>\n",
       "      <td>9780740748479</td>\n",
       "      <td>eng</td>\n",
       "      <td>1456</td>\n",
       "      <td>32213</td>\n",
       "      <td>930</td>\n",
       "      <td>2005-09-06</td>\n",
       "      <td>Andrews McMeel Publishing</td>\n",
       "    </tr>\n",
       "    <tr>\n",
       "      <th>6592</th>\n",
       "      <td>24814</td>\n",
       "      <td>It's a Magical World (Calvin and Hobbes  #11)</td>\n",
       "      <td>Bill Watterson</td>\n",
       "      <td>4.76</td>\n",
       "      <td>836221362</td>\n",
       "      <td>9780836221367</td>\n",
       "      <td>eng</td>\n",
       "      <td>176</td>\n",
       "      <td>23875</td>\n",
       "      <td>303</td>\n",
       "      <td>1996-09-01</td>\n",
       "      <td>Andrews McMeel Publishing</td>\n",
       "    </tr>\n",
       "    <tr>\n",
       "      <th>6593</th>\n",
       "      <td>24816</td>\n",
       "      <td>Homicidal Psycho Jungle Cat (Calvin and Hobbes...</td>\n",
       "      <td>Bill Watterson</td>\n",
       "      <td>4.72</td>\n",
       "      <td>836217691</td>\n",
       "      <td>9780836217698</td>\n",
       "      <td>eng</td>\n",
       "      <td>176</td>\n",
       "      <td>15365</td>\n",
       "      <td>290</td>\n",
       "      <td>1994-09-06</td>\n",
       "      <td>Andrews McMeel Publishing</td>\n",
       "    </tr>\n",
       "    <tr>\n",
       "      <th>6596</th>\n",
       "      <td>24820</td>\n",
       "      <td>Calvin and Hobbes: Sunday Pages 1985-1995: An ...</td>\n",
       "      <td>Bill Watterson</td>\n",
       "      <td>4.71</td>\n",
       "      <td>740721356</td>\n",
       "      <td>9780740721359</td>\n",
       "      <td>eng</td>\n",
       "      <td>96</td>\n",
       "      <td>3613</td>\n",
       "      <td>85</td>\n",
       "      <td>2001-09-17</td>\n",
       "      <td>Andrews McMeel Publishing</td>\n",
       "    </tr>\n",
       "  </tbody>\n",
       "</table>\n",
       "</div>"
      ],
      "text/plain": [
       "      bookID                                              title  \\\n",
       "11        18  Harry Potter Boxed Set  Books 1-5 (Harry Potte...   \n",
       "13        22       Harry Potter Collection (Harry Potter  #1-6)   \n",
       "6590   24812                     The Complete Calvin and Hobbes   \n",
       "6592   24814      It's a Magical World (Calvin and Hobbes  #11)   \n",
       "6593   24816  Homicidal Psycho Jungle Cat (Calvin and Hobbes...   \n",
       "6596   24820  Calvin and Hobbes: Sunday Pages 1985-1995: An ...   \n",
       "\n",
       "                         authors  average_rating       isbn         isbn13  \\\n",
       "11    J.K. Rowling/Mary GrandPré            4.78  439682584  9780439682589   \n",
       "13                  J.K. Rowling            4.73  439827604  9780439827607   \n",
       "6590              Bill Watterson            4.82  740748475  9780740748479   \n",
       "6592              Bill Watterson            4.76  836221362  9780836221367   \n",
       "6593              Bill Watterson            4.72  836217691  9780836217698   \n",
       "6596              Bill Watterson            4.71  740721356  9780740721359   \n",
       "\n",
       "     language_code  num_pages  ratings_count  text_reviews_count  \\\n",
       "11             eng       2690          41428                 164   \n",
       "13             eng       3342          28242                 808   \n",
       "6590           eng       1456          32213                 930   \n",
       "6592           eng        176          23875                 303   \n",
       "6593           eng        176          15365                 290   \n",
       "6596           eng         96           3613                  85   \n",
       "\n",
       "     publication_date                  publisher  \n",
       "11         2004-09-13                 Scholastic  \n",
       "13         2005-09-12                 Scholastic  \n",
       "6590       2005-09-06  Andrews McMeel Publishing  \n",
       "6592       1996-09-01  Andrews McMeel Publishing  \n",
       "6593       1994-09-06  Andrews McMeel Publishing  \n",
       "6596       2001-09-17  Andrews McMeel Publishing  "
      ]
     },
     "execution_count": 37,
     "metadata": {},
     "output_type": "execute_result"
    }
   ],
   "source": [
    "popularity = books[books['ratings_count'] > 500]\n",
    "popularity = popularity[popularity['average_rating'] > 4.7]\n",
    "popularity"
   ]
  },
  {
   "cell_type": "code",
   "execution_count": 51,
   "id": "61460422",
   "metadata": {},
   "outputs": [
    {
     "data": {
      "text/html": [
       "<div>\n",
       "<style scoped>\n",
       "    .dataframe tbody tr th:only-of-type {\n",
       "        vertical-align: middle;\n",
       "    }\n",
       "\n",
       "    .dataframe tbody tr th {\n",
       "        vertical-align: top;\n",
       "    }\n",
       "\n",
       "    .dataframe thead th {\n",
       "        text-align: right;\n",
       "    }\n",
       "</style>\n",
       "<table border=\"1\" class=\"dataframe\">\n",
       "  <thead>\n",
       "    <tr style=\"text-align: right;\">\n",
       "      <th></th>\n",
       "      <th>bookID</th>\n",
       "      <th>title</th>\n",
       "      <th>authors</th>\n",
       "      <th>average_rating</th>\n",
       "      <th>isbn</th>\n",
       "      <th>isbn13</th>\n",
       "      <th>language_code</th>\n",
       "      <th>num_pages</th>\n",
       "      <th>ratings_count</th>\n",
       "      <th>text_reviews_count</th>\n",
       "      <th>publication_date</th>\n",
       "      <th>publisher</th>\n",
       "    </tr>\n",
       "  </thead>\n",
       "  <tbody>\n",
       "    <tr>\n",
       "      <th>6596</th>\n",
       "      <td>24820</td>\n",
       "      <td>Calvin and Hobbes: Sunday Pages 1985-1995: An ...</td>\n",
       "      <td>Bill Watterson</td>\n",
       "      <td>4.71</td>\n",
       "      <td>740721356</td>\n",
       "      <td>9780740721359</td>\n",
       "      <td>eng</td>\n",
       "      <td>96</td>\n",
       "      <td>3613</td>\n",
       "      <td>85</td>\n",
       "      <td>2001-09-17</td>\n",
       "      <td>Andrews McMeel Publishing</td>\n",
       "    </tr>\n",
       "  </tbody>\n",
       "</table>\n",
       "</div>"
      ],
      "text/plain": [
       "      bookID                                              title  \\\n",
       "6596   24820  Calvin and Hobbes: Sunday Pages 1985-1995: An ...   \n",
       "\n",
       "             authors  average_rating       isbn         isbn13 language_code  \\\n",
       "6596  Bill Watterson            4.71  740721356  9780740721359           eng   \n",
       "\n",
       "      num_pages  ratings_count  text_reviews_count publication_date  \\\n",
       "6596         96           3613                  85       2001-09-17   \n",
       "\n",
       "                      publisher  \n",
       "6596  Andrews McMeel Publishing  "
      ]
     },
     "execution_count": 51,
     "metadata": {},
     "output_type": "execute_result"
    }
   ],
   "source": [
    "popularity = books[books['ratings_count'] > 500]\n",
    "popularity = popularity[popularity['average_rating'] > 4.7]\n",
    "popularity.sort_values(by=['average_rating'], ascending=True) [:1]"
   ]
  },
  {
   "cell_type": "code",
   "execution_count": 64,
   "id": "b33dbd7b",
   "metadata": {},
   "outputs": [
    {
     "data": {
      "text/html": [
       "<div>\n",
       "<style scoped>\n",
       "    .dataframe tbody tr th:only-of-type {\n",
       "        vertical-align: middle;\n",
       "    }\n",
       "\n",
       "    .dataframe tbody tr th {\n",
       "        vertical-align: top;\n",
       "    }\n",
       "\n",
       "    .dataframe thead th {\n",
       "        text-align: right;\n",
       "    }\n",
       "</style>\n",
       "<table border=\"1\" class=\"dataframe\">\n",
       "  <thead>\n",
       "    <tr style=\"text-align: right;\">\n",
       "      <th></th>\n",
       "      <th>bookID</th>\n",
       "      <th>title</th>\n",
       "      <th>authors</th>\n",
       "      <th>average_rating</th>\n",
       "      <th>isbn</th>\n",
       "      <th>isbn13</th>\n",
       "      <th>language_code</th>\n",
       "      <th>num_pages</th>\n",
       "      <th>ratings_count</th>\n",
       "      <th>text_reviews_count</th>\n",
       "      <th>publication_date</th>\n",
       "      <th>publisher</th>\n",
       "    </tr>\n",
       "  </thead>\n",
       "  <tbody>\n",
       "    <tr>\n",
       "      <th>10340</th>\n",
       "      <td>41865</td>\n",
       "      <td>Twilight (Twilight  #1)</td>\n",
       "      <td>Stephenie Meyer</td>\n",
       "      <td>3.59</td>\n",
       "      <td>316015849</td>\n",
       "      <td>9780316015844</td>\n",
       "      <td>eng</td>\n",
       "      <td>501</td>\n",
       "      <td>4597666</td>\n",
       "      <td>94265</td>\n",
       "      <td>2006-09-06</td>\n",
       "      <td>Little  Brown and Company</td>\n",
       "    </tr>\n",
       "  </tbody>\n",
       "</table>\n",
       "</div>"
      ],
      "text/plain": [
       "       bookID                    title          authors  average_rating  \\\n",
       "10340   41865  Twilight (Twilight  #1)  Stephenie Meyer            3.59   \n",
       "\n",
       "            isbn         isbn13 language_code  num_pages  ratings_count  \\\n",
       "10340  316015849  9780316015844           eng        501        4597666   \n",
       "\n",
       "       text_reviews_count publication_date                  publisher  \n",
       "10340               94265       2006-09-06  Little  Brown and Company  "
      ]
     },
     "execution_count": 64,
     "metadata": {},
     "output_type": "execute_result"
    }
   ],
   "source": [
    "popularity = books[books['ratings_count'] > 3000000]\n",
    "popularity"
   ]
  },
  {
   "cell_type": "code",
   "execution_count": 65,
   "id": "ccd44a4a",
   "metadata": {},
   "outputs": [
    {
     "data": {
      "text/html": [
       "<div>\n",
       "<style scoped>\n",
       "    .dataframe tbody tr th:only-of-type {\n",
       "        vertical-align: middle;\n",
       "    }\n",
       "\n",
       "    .dataframe tbody tr th {\n",
       "        vertical-align: top;\n",
       "    }\n",
       "\n",
       "    .dataframe thead th {\n",
       "        text-align: right;\n",
       "    }\n",
       "</style>\n",
       "<table border=\"1\" class=\"dataframe\">\n",
       "  <thead>\n",
       "    <tr style=\"text-align: right;\">\n",
       "      <th></th>\n",
       "      <th>bookID</th>\n",
       "      <th>title</th>\n",
       "      <th>authors</th>\n",
       "      <th>average_rating</th>\n",
       "      <th>isbn</th>\n",
       "      <th>isbn13</th>\n",
       "      <th>language_code</th>\n",
       "      <th>num_pages</th>\n",
       "      <th>ratings_count</th>\n",
       "      <th>text_reviews_count</th>\n",
       "      <th>publication_date</th>\n",
       "      <th>publisher</th>\n",
       "    </tr>\n",
       "  </thead>\n",
       "  <tbody>\n",
       "    <tr>\n",
       "      <th>10340</th>\n",
       "      <td>41865</td>\n",
       "      <td>Twilight (Twilight  #1)</td>\n",
       "      <td>Stephenie Meyer</td>\n",
       "      <td>3.59</td>\n",
       "      <td>316015849</td>\n",
       "      <td>9780316015844</td>\n",
       "      <td>eng</td>\n",
       "      <td>501</td>\n",
       "      <td>4597666</td>\n",
       "      <td>94265</td>\n",
       "      <td>2006-09-06</td>\n",
       "      <td>Little  Brown and Company</td>\n",
       "    </tr>\n",
       "  </tbody>\n",
       "</table>\n",
       "</div>"
      ],
      "text/plain": [
       "       bookID                    title          authors  average_rating  \\\n",
       "10340   41865  Twilight (Twilight  #1)  Stephenie Meyer            3.59   \n",
       "\n",
       "            isbn         isbn13 language_code  num_pages  ratings_count  \\\n",
       "10340  316015849  9780316015844           eng        501        4597666   \n",
       "\n",
       "       text_reviews_count publication_date                  publisher  \n",
       "10340               94265       2006-09-06  Little  Brown and Company  "
      ]
     },
     "execution_count": 65,
     "metadata": {},
     "output_type": "execute_result"
    }
   ],
   "source": [
    "books.loc[books['ratings_count'] > 3000000]"
   ]
  },
  {
   "cell_type": "code",
   "execution_count": 75,
   "id": "910d433d",
   "metadata": {
    "scrolled": true
   },
   "outputs": [
    {
     "name": "stdout",
     "output_type": "stream",
     "text": [
      "5049\n",
      "Douglas Adams\n",
      "6865\n",
      "Bill Bryson\n",
      "8014\n",
      "J.K. Rowling\n",
      "12537\n",
      "J.R.R. Tolkien\n",
      "18219\n",
      "Stephen King\n",
      "18219\n",
      "Stephen King\n"
     ]
    }
   ],
   "source": [
    "max = 0\n",
    "top_author = None\n",
    "\n",
    "all_authors = books['authors'].unique()\n",
    "\n",
    "for author in all_authors:\n",
    "    total_pages = books.loc[books['authors'] == author, 'num_pages'].sum()\n",
    "    if total_pages > max:\n",
    "        max = total_pages\n",
    "        top_author = author \n",
    "        print(max)\n",
    "        print(author)\n",
    "        \n",
    "print(max)\n",
    "print(top_author)"
   ]
  },
  {
   "cell_type": "code",
   "execution_count": 76,
   "id": "a6009f0c",
   "metadata": {},
   "outputs": [
    {
     "name": "stdout",
     "output_type": "stream",
     "text": [
      "455.475\n"
     ]
    }
   ],
   "source": [
    "their_pages = books.loc[books['authors'] == 'Stephen King', 'num_pages'].sum()\n",
    "their_books = (books['authors'] == 'Stephen King').value_counts() [1]\n",
    "avg_pages = their_pages / their_books\n",
    "print(avg_pages)"
   ]
  },
  {
   "cell_type": "code",
   "execution_count": 77,
   "id": "07048fca",
   "metadata": {},
   "outputs": [
    {
     "data": {
      "text/plain": [
       "2898"
      ]
     },
     "execution_count": 77,
     "metadata": {},
     "output_type": "execute_result"
    }
   ],
   "source": [
    "len(books[books['num_pages'] < 200])"
   ]
  },
  {
   "cell_type": "code",
   "execution_count": 78,
   "id": "c31cbe13",
   "metadata": {},
   "outputs": [],
   "source": [
    "test_balance_data = {\n",
    "    'pasan': 20.00,\n",
    "    'treasure': 20.18,\n",
    "    'ashley': 1.05,\n",
    "    'craig': 11.11,\n",
    "}"
   ]
  },
  {
   "cell_type": "code",
   "execution_count": 80,
   "id": "19b24fdc",
   "metadata": {},
   "outputs": [
    {
     "data": {
      "text/plain": [
       "pasan       20.00\n",
       "treasure    20.18\n",
       "ashley       1.05\n",
       "craig       11.11\n",
       "dtype: float64"
      ]
     },
     "execution_count": 80,
     "metadata": {},
     "output_type": "execute_result"
    }
   ],
   "source": [
    "balances = pd.Series(test_balance_data)\n",
    "balances"
   ]
  },
  {
   "cell_type": "code",
   "execution_count": 81,
   "id": "5f8cf624",
   "metadata": {},
   "outputs": [
    {
     "data": {
      "text/plain": [
       "0    20.00\n",
       "1    20.18\n",
       "2     1.05\n",
       "3    42.42\n",
       "dtype: float64"
      ]
     },
     "execution_count": 81,
     "metadata": {},
     "output_type": "execute_result"
    }
   ],
   "source": [
    "unlabeled_balances = pd.Series([20.00, 20.18, 1.05, 42.42])\n",
    "unlabeled_balances"
   ]
  },
  {
   "cell_type": "code",
   "execution_count": 83,
   "id": "5296fd89",
   "metadata": {},
   "outputs": [
    {
     "data": {
      "text/plain": [
       "pasan       20.00\n",
       "treasure    20.18\n",
       "ashley       1.05\n",
       "craig       42.42\n",
       "dtype: float64"
      ]
     },
     "execution_count": 83,
     "metadata": {},
     "output_type": "execute_result"
    }
   ],
   "source": [
    "labeled_balances = pd.Series(\n",
    "    [20.00, 20.18, 1.05, 42.42],\n",
    "    index=['pasan', 'treasure', 'ashley', 'craig']\n",
    ")\n",
    "labeled_balances"
   ]
  },
  {
   "cell_type": "code",
   "execution_count": 85,
   "id": "93a05511",
   "metadata": {},
   "outputs": [
    {
     "data": {
      "text/plain": [
       "guil     50.0\n",
       "jay      50.0\n",
       "james    50.0\n",
       "ben      50.0\n",
       "nick     50.0\n",
       "dtype: float64"
      ]
     },
     "execution_count": 85,
     "metadata": {},
     "output_type": "execute_result"
    }
   ],
   "source": [
    "pd.Series(50.00, index=[\"guil\", \"jay\", \"james\", \"ben\", \"nick\"])"
   ]
  },
  {
   "cell_type": "code",
   "execution_count": null,
   "id": "c05d9230",
   "metadata": {},
   "outputs": [],
   "source": []
  },
  {
   "cell_type": "code",
   "execution_count": null,
   "id": "47d24bea",
   "metadata": {},
   "outputs": [],
   "source": []
  },
  {
   "cell_type": "code",
   "execution_count": null,
   "id": "0aeff777",
   "metadata": {},
   "outputs": [],
   "source": []
  },
  {
   "cell_type": "code",
   "execution_count": null,
   "id": "486b14e0",
   "metadata": {},
   "outputs": [],
   "source": []
  }
 ],
 "metadata": {
  "kernelspec": {
   "display_name": "Python 3 (ipykernel)",
   "language": "python",
   "name": "python3"
  },
  "language_info": {
   "codemirror_mode": {
    "name": "ipython",
    "version": 3
   },
   "file_extension": ".py",
   "mimetype": "text/x-python",
   "name": "python",
   "nbconvert_exporter": "python",
   "pygments_lexer": "ipython3",
   "version": "3.10.9"
  }
 },
 "nbformat": 4,
 "nbformat_minor": 5
}
