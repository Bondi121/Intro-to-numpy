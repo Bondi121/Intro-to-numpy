{
 "cells": [
  {
   "cell_type": "code",
   "execution_count": 1,
   "id": "eacf5d0e",
   "metadata": {},
   "outputs": [],
   "source": [
    "# Setup\n",
    "import pandas as pd\n",
    "\n",
    "from utils import render\n",
    "\n",
    "\n",
    "# Standard Python dictionary\n",
    "test_balance_data = {\n",
    "    'pasan': 20.00,\n",
    "    'treasure': 20.18,\n",
    "    'ashley': 1.05,\n",
    "    'craig': 42.42,\n",
    "}\n",
    "\n",
    "balances = pd.Series(test_balance_data)"
   ]
  },
  {
   "cell_type": "code",
   "execution_count": 2,
   "id": "473ef182",
   "metadata": {},
   "outputs": [
    {
     "data": {
      "text/plain": [
       "1.05"
      ]
     },
     "execution_count": 2,
     "metadata": {},
     "output_type": "execute_result"
    }
   ],
   "source": [
    "balances[2]"
   ]
  },
  {
   "cell_type": "code",
   "execution_count": 3,
   "id": "c7358cc5",
   "metadata": {
    "scrolled": true
   },
   "outputs": [
    {
     "data": {
      "text/plain": [
       "numpy.float64"
      ]
     },
     "execution_count": 3,
     "metadata": {},
     "output_type": "execute_result"
    }
   ],
   "source": [
    "type(balances[3])"
   ]
  },
  {
   "cell_type": "code",
   "execution_count": 4,
   "id": "31786597",
   "metadata": {},
   "outputs": [
    {
     "data": {
      "text/plain": [
       "1.05"
      ]
     },
     "execution_count": 4,
     "metadata": {},
     "output_type": "execute_result"
    }
   ],
   "source": [
    "balances[-2]"
   ]
  },
  {
   "cell_type": "code",
   "execution_count": 5,
   "id": "0e2db100",
   "metadata": {},
   "outputs": [
    {
     "data": {
      "text/plain": [
       "pasan       20.00\n",
       "treasure    20.18\n",
       "ashley       1.05\n",
       "dtype: float64"
      ]
     },
     "execution_count": 5,
     "metadata": {},
     "output_type": "execute_result"
    }
   ],
   "source": [
    "balances.loc['pasan':'ashley']"
   ]
  },
  {
   "cell_type": "code",
   "execution_count": null,
   "id": "061de856",
   "metadata": {},
   "outputs": [],
   "source": []
  },
  {
   "cell_type": "code",
   "execution_count": 6,
   "id": "581c140a",
   "metadata": {},
   "outputs": [],
   "source": [
    "import pandas as pd\n",
    "\n",
    "test_balance_data = {\n",
    "    'pasan': 20.00,\n",
    "    'treasure': 20.18,\n",
    "    'ashley': 1.05,\n",
    "    'craig': 42.42,\n",
    "}\n",
    "\n",
    "test_deposit_data = {\n",
    "    'pasan': 30,\n",
    "    'treasure': 10,\n",
    "    'ashley': 100,\n",
    "    'craig': 55,   \n",
    "}\n",
    "\n",
    "balances = pd.Series(test_balance_data)\n",
    "deposits = pd.Series(test_deposit_data)"
   ]
  },
  {
   "cell_type": "code",
   "execution_count": 7,
   "id": "b69fd4ef",
   "metadata": {},
   "outputs": [
    {
     "data": {
      "text/plain": [
       "pasan        50.00\n",
       "treasure     30.18\n",
       "ashley      101.05\n",
       "craig        97.42\n",
       "dtype: float64"
      ]
     },
     "execution_count": 7,
     "metadata": {},
     "output_type": "execute_result"
    }
   ],
   "source": [
    "for seve, fettarsch in deposits.items():\n",
    "    balances[seve] += fettarsch\n",
    "balances"
   ]
  },
  {
   "cell_type": "code",
   "execution_count": 8,
   "id": "482642b9",
   "metadata": {},
   "outputs": [
    {
     "data": {
      "text/plain": [
       "pasan       20.00\n",
       "treasure    20.18\n",
       "ashley       1.05\n",
       "craig       42.42\n",
       "dtype: float64"
      ]
     },
     "execution_count": 8,
     "metadata": {},
     "output_type": "execute_result"
    }
   ],
   "source": [
    "balances -= deposits\n",
    "balances"
   ]
  },
  {
   "cell_type": "code",
   "execution_count": 9,
   "id": "d730485a",
   "metadata": {},
   "outputs": [
    {
     "data": {
      "text/plain": [
       "pasan        50.00\n",
       "treasure     30.18\n",
       "ashley      101.05\n",
       "craig        97.42\n",
       "dtype: float64"
      ]
     },
     "execution_count": 9,
     "metadata": {},
     "output_type": "execute_result"
    }
   ],
   "source": [
    "balances += deposits\n",
    "balances"
   ]
  },
  {
   "cell_type": "code",
   "execution_count": 10,
   "id": "98c42212",
   "metadata": {},
   "outputs": [
    {
     "data": {
      "text/plain": [
       "pasan        50.00\n",
       "treasure     30.18\n",
       "ashley      101.05\n",
       "craig        97.42\n",
       "dtype: float64"
      ]
     },
     "execution_count": 10,
     "metadata": {},
     "output_type": "execute_result"
    }
   ],
   "source": [
    "balances + 5\n",
    "balances"
   ]
  },
  {
   "cell_type": "code",
   "execution_count": 11,
   "id": "a1f96607",
   "metadata": {},
   "outputs": [
    {
     "data": {
      "text/plain": [
       "pasan        35\n",
       "treasure     15\n",
       "ashley      105\n",
       "craig        60\n",
       "dtype: int64"
      ]
     },
     "execution_count": 11,
     "metadata": {},
     "output_type": "execute_result"
    }
   ],
   "source": [
    "deposits + 5"
   ]
  },
  {
   "cell_type": "code",
   "execution_count": 12,
   "id": "a1c2af9f",
   "metadata": {},
   "outputs": [
    {
     "data": {
      "text/plain": [
       "craig     7\n",
       "ashley    7\n",
       "james     7\n",
       "dtype: int64"
      ]
     },
     "execution_count": 12,
     "metadata": {},
     "output_type": "execute_result"
    }
   ],
   "source": [
    "coupons = pd.Series(7, ['craig', 'ashley', 'james'])\n",
    "coupons"
   ]
  },
  {
   "cell_type": "code",
   "execution_count": 13,
   "id": "07f51f70",
   "metadata": {},
   "outputs": [
    {
     "data": {
      "text/plain": [
       "pasan        50.00\n",
       "treasure     30.18\n",
       "ashley      101.05\n",
       "craig        97.42\n",
       "dtype: float64"
      ]
     },
     "execution_count": 13,
     "metadata": {},
     "output_type": "execute_result"
    }
   ],
   "source": [
    "balances"
   ]
  },
  {
   "cell_type": "code",
   "execution_count": 14,
   "id": "eba5412d",
   "metadata": {},
   "outputs": [
    {
     "data": {
      "text/plain": [
       "craig     7\n",
       "ashley    7\n",
       "james     7\n",
       "dtype: int64"
      ]
     },
     "execution_count": 14,
     "metadata": {},
     "output_type": "execute_result"
    }
   ],
   "source": [
    "coupons"
   ]
  },
  {
   "cell_type": "code",
   "execution_count": 15,
   "id": "052088f3",
   "metadata": {},
   "outputs": [
    {
     "data": {
      "text/plain": [
       "ashley      108.05\n",
       "craig       104.42\n",
       "james          NaN\n",
       "pasan          NaN\n",
       "treasure       NaN\n",
       "dtype: float64"
      ]
     },
     "execution_count": 15,
     "metadata": {},
     "output_type": "execute_result"
    }
   ],
   "source": [
    "balances + coupons"
   ]
  },
  {
   "cell_type": "code",
   "execution_count": 16,
   "id": "a3e808cd",
   "metadata": {},
   "outputs": [
    {
     "data": {
      "text/plain": [
       "ashley      108.05\n",
       "craig       104.42\n",
       "james         7.00\n",
       "pasan        50.00\n",
       "treasure     30.18\n",
       "dtype: float64"
      ]
     },
     "execution_count": 16,
     "metadata": {},
     "output_type": "execute_result"
    }
   ],
   "source": [
    "balances.add(coupons, fill_value=0)"
   ]
  },
  {
   "cell_type": "code",
   "execution_count": 17,
   "id": "fd06e46f",
   "metadata": {},
   "outputs": [],
   "source": [
    "import pandas as pd"
   ]
  },
  {
   "cell_type": "code",
   "execution_count": 18,
   "id": "3d64802e",
   "metadata": {},
   "outputs": [
    {
     "data": {
      "text/html": [
       "<div>\n",
       "<style scoped>\n",
       "    .dataframe tbody tr th:only-of-type {\n",
       "        vertical-align: middle;\n",
       "    }\n",
       "\n",
       "    .dataframe tbody tr th {\n",
       "        vertical-align: top;\n",
       "    }\n",
       "\n",
       "    .dataframe thead th {\n",
       "        text-align: right;\n",
       "    }\n",
       "</style>\n",
       "<table border=\"1\" class=\"dataframe\">\n",
       "  <thead>\n",
       "    <tr style=\"text-align: right;\">\n",
       "      <th></th>\n",
       "      <th>0</th>\n",
       "      <th>1</th>\n",
       "      <th>2</th>\n",
       "    </tr>\n",
       "  </thead>\n",
       "  <tbody>\n",
       "    <tr>\n",
       "      <th>0</th>\n",
       "      <td>Craig</td>\n",
       "      <td>Dennis</td>\n",
       "      <td>42.42</td>\n",
       "    </tr>\n",
       "    <tr>\n",
       "      <th>1</th>\n",
       "      <td>Treasure</td>\n",
       "      <td>Porth</td>\n",
       "      <td>25.00</td>\n",
       "    </tr>\n",
       "  </tbody>\n",
       "</table>\n",
       "</div>"
      ],
      "text/plain": [
       "          0       1      2\n",
       "0     Craig  Dennis  42.42\n",
       "1  Treasure   Porth  25.00"
      ]
     },
     "execution_count": 18,
     "metadata": {},
     "output_type": "execute_result"
    }
   ],
   "source": [
    "test_users_list = [\n",
    "    ['Craig', 'Dennis', 42.42],\n",
    "    ['Treasure', 'Porth', 25.00]\n",
    "]\n",
    "\n",
    "pd.DataFrame(test_users_list)"
   ]
  },
  {
   "cell_type": "code",
   "execution_count": 19,
   "id": "92df25d5",
   "metadata": {},
   "outputs": [
    {
     "data": {
      "text/html": [
       "<div>\n",
       "<style scoped>\n",
       "    .dataframe tbody tr th:only-of-type {\n",
       "        vertical-align: middle;\n",
       "    }\n",
       "\n",
       "    .dataframe tbody tr th {\n",
       "        vertical-align: top;\n",
       "    }\n",
       "\n",
       "    .dataframe thead th {\n",
       "        text-align: right;\n",
       "    }\n",
       "</style>\n",
       "<table border=\"1\" class=\"dataframe\">\n",
       "  <thead>\n",
       "    <tr style=\"text-align: right;\">\n",
       "      <th></th>\n",
       "      <th>first_name</th>\n",
       "      <th>last_name</th>\n",
       "      <th>balance</th>\n",
       "    </tr>\n",
       "  </thead>\n",
       "  <tbody>\n",
       "    <tr>\n",
       "      <th>craigsdennis</th>\n",
       "      <td>Craig</td>\n",
       "      <td>Dennis</td>\n",
       "      <td>42.42</td>\n",
       "    </tr>\n",
       "    <tr>\n",
       "      <th>treasure</th>\n",
       "      <td>Treasure</td>\n",
       "      <td>Porth</td>\n",
       "      <td>25.00</td>\n",
       "    </tr>\n",
       "  </tbody>\n",
       "</table>\n",
       "</div>"
      ],
      "text/plain": [
       "             first_name last_name  balance\n",
       "craigsdennis      Craig    Dennis    42.42\n",
       "treasure       Treasure     Porth    25.00"
      ]
     },
     "execution_count": 19,
     "metadata": {},
     "output_type": "execute_result"
    }
   ],
   "source": [
    "pd.DataFrame(test_users_list, index=['craigsdennis', 'treasure'],\n",
    "            columns=['first_name', 'last_name', 'balance'])"
   ]
  },
  {
   "cell_type": "code",
   "execution_count": 20,
   "id": "5ab6ce22",
   "metadata": {},
   "outputs": [
    {
     "data": {
      "text/html": [
       "<div>\n",
       "<style scoped>\n",
       "    .dataframe tbody tr th:only-of-type {\n",
       "        vertical-align: middle;\n",
       "    }\n",
       "\n",
       "    .dataframe tbody tr th {\n",
       "        vertical-align: top;\n",
       "    }\n",
       "\n",
       "    .dataframe thead th {\n",
       "        text-align: right;\n",
       "    }\n",
       "</style>\n",
       "<table border=\"1\" class=\"dataframe\">\n",
       "  <thead>\n",
       "    <tr style=\"text-align: right;\">\n",
       "      <th></th>\n",
       "      <th>first_name</th>\n",
       "      <th>last_name</th>\n",
       "      <th>balance</th>\n",
       "    </tr>\n",
       "  </thead>\n",
       "  <tbody>\n",
       "    <tr>\n",
       "      <th>0</th>\n",
       "      <td>Craig</td>\n",
       "      <td>Dennis</td>\n",
       "      <td>42.42</td>\n",
       "    </tr>\n",
       "    <tr>\n",
       "      <th>1</th>\n",
       "      <td>Treasure</td>\n",
       "      <td>Porth</td>\n",
       "      <td>25.00</td>\n",
       "    </tr>\n",
       "  </tbody>\n",
       "</table>\n",
       "</div>"
      ],
      "text/plain": [
       "  first_name last_name  balance\n",
       "0      Craig    Dennis    42.42\n",
       "1   Treasure     Porth    25.00"
      ]
     },
     "execution_count": 20,
     "metadata": {},
     "output_type": "execute_result"
    }
   ],
   "source": [
    "test_user_data = {\n",
    "    'first_name': ['Craig', 'Treasure'],\n",
    "    'last_name': ['Dennis', 'Porth'],\n",
    "    'balance': [42.42, 25.00]\n",
    "}\n",
    "\n",
    "pd.DataFrame(test_user_data)"
   ]
  },
  {
   "cell_type": "code",
   "execution_count": 21,
   "id": "77512fec",
   "metadata": {},
   "outputs": [
    {
     "data": {
      "text/html": [
       "<div>\n",
       "<style scoped>\n",
       "    .dataframe tbody tr th:only-of-type {\n",
       "        vertical-align: middle;\n",
       "    }\n",
       "\n",
       "    .dataframe tbody tr th {\n",
       "        vertical-align: top;\n",
       "    }\n",
       "\n",
       "    .dataframe thead th {\n",
       "        text-align: right;\n",
       "    }\n",
       "</style>\n",
       "<table border=\"1\" class=\"dataframe\">\n",
       "  <thead>\n",
       "    <tr style=\"text-align: right;\">\n",
       "      <th></th>\n",
       "      <th>first_name</th>\n",
       "      <th>last_name</th>\n",
       "      <th>balance</th>\n",
       "    </tr>\n",
       "  </thead>\n",
       "  <tbody>\n",
       "    <tr>\n",
       "      <th>craigsdennis</th>\n",
       "      <td>Craig</td>\n",
       "      <td>Dennis</td>\n",
       "      <td>42.42</td>\n",
       "    </tr>\n",
       "    <tr>\n",
       "      <th>treasure</th>\n",
       "      <td>Treasure</td>\n",
       "      <td>Porth</td>\n",
       "      <td>25.00</td>\n",
       "    </tr>\n",
       "  </tbody>\n",
       "</table>\n",
       "</div>"
      ],
      "text/plain": [
       "             first_name last_name  balance\n",
       "craigsdennis      Craig    Dennis    42.42\n",
       "treasure       Treasure     Porth    25.00"
      ]
     },
     "execution_count": 21,
     "metadata": {},
     "output_type": "execute_result"
    }
   ],
   "source": [
    "pd.DataFrame(test_user_data, index=['craigsdennis', 'treasure'])"
   ]
  },
  {
   "cell_type": "code",
   "execution_count": 22,
   "id": "8af2bea6",
   "metadata": {},
   "outputs": [
    {
     "data": {
      "text/html": [
       "<div>\n",
       "<style scoped>\n",
       "    .dataframe tbody tr th:only-of-type {\n",
       "        vertical-align: middle;\n",
       "    }\n",
       "\n",
       "    .dataframe tbody tr th {\n",
       "        vertical-align: top;\n",
       "    }\n",
       "\n",
       "    .dataframe thead th {\n",
       "        text-align: right;\n",
       "    }\n",
       "</style>\n",
       "<table border=\"1\" class=\"dataframe\">\n",
       "  <thead>\n",
       "    <tr style=\"text-align: right;\">\n",
       "      <th></th>\n",
       "      <th>first_name</th>\n",
       "      <th>last_name</th>\n",
       "      <th>balance</th>\n",
       "    </tr>\n",
       "  </thead>\n",
       "  <tbody>\n",
       "    <tr>\n",
       "      <th>craigsdennis</th>\n",
       "      <td>Craig</td>\n",
       "      <td>Dennis</td>\n",
       "      <td>42.42</td>\n",
       "    </tr>\n",
       "    <tr>\n",
       "      <th>treasure</th>\n",
       "      <td>Treasure</td>\n",
       "      <td>Porth</td>\n",
       "      <td>25.00</td>\n",
       "    </tr>\n",
       "  </tbody>\n",
       "</table>\n",
       "</div>"
      ],
      "text/plain": [
       "             first_name last_name  balance\n",
       "craigsdennis      Craig    Dennis    42.42\n",
       "treasure       Treasure     Porth    25.00"
      ]
     },
     "execution_count": 22,
     "metadata": {},
     "output_type": "execute_result"
    }
   ],
   "source": [
    "by_username = {\n",
    "    'craigsdennis': {\n",
    "        'first_name': 'Craig',\n",
    "        'last_name': 'Dennis',\n",
    "        'balance': 42.42\n",
    "    },\n",
    "    'treasure': {\n",
    "        'first_name': 'Treasure',\n",
    "        'last_name': 'Porth',\n",
    "        'balance': 25.00\n",
    "    }\n",
    "}\n",
    "\n",
    "pd.DataFrame.from_dict(by_username, orient='index')"
   ]
  },
  {
   "cell_type": "code",
   "execution_count": 23,
   "id": "8519c2c1",
   "metadata": {},
   "outputs": [],
   "source": [
    "# Setup\n",
    "import pandas as pd\n",
    "\n",
    "test_user_data = {\n",
    "    'first_name': ['Craig', 'Treasure', 'Ashley', 'Guil'],\n",
    "    'last_name': ['Dennis', 'Porth', 'Boucher', 'Hernandez'],\n",
    "    'balance': [42.42, 25.00, 2.02, 87.00]\n",
    "}\n",
    "test_user_names = ['craigsdennis', 'treasure', 'lindsay2000', 'guil']\n",
    "\n",
    "users = pd.DataFrame(test_user_data, index=test_user_names)"
   ]
  },
  {
   "cell_type": "code",
   "execution_count": 24,
   "id": "602ad6a1",
   "metadata": {},
   "outputs": [
    {
     "data": {
      "text/plain": [
       "craigsdennis    42.42\n",
       "treasure        25.00\n",
       "lindsay2000      2.02\n",
       "guil            87.00\n",
       "Name: balance, dtype: float64"
      ]
     },
     "execution_count": 24,
     "metadata": {},
     "output_type": "execute_result"
    }
   ],
   "source": [
    "balances = users['balance']\n",
    "balances"
   ]
  },
  {
   "cell_type": "code",
   "execution_count": 25,
   "id": "1da7f149",
   "metadata": {},
   "outputs": [
    {
     "data": {
      "text/plain": [
       "'balance'"
      ]
     },
     "execution_count": 25,
     "metadata": {},
     "output_type": "execute_result"
    }
   ],
   "source": [
    "balances.name"
   ]
  },
  {
   "cell_type": "code",
   "execution_count": 26,
   "id": "4191107a",
   "metadata": {},
   "outputs": [
    {
     "data": {
      "text/plain": [
       "first_name    Treasure\n",
       "last_name        Porth\n",
       "balance           25.0\n",
       "Name: treasure, dtype: object"
      ]
     },
     "execution_count": 26,
     "metadata": {},
     "output_type": "execute_result"
    }
   ],
   "source": [
    "users.loc['treasure']"
   ]
  },
  {
   "cell_type": "code",
   "execution_count": 27,
   "id": "b0865477",
   "metadata": {},
   "outputs": [
    {
     "data": {
      "text/plain": [
       "first_name     Craig\n",
       "last_name     Dennis\n",
       "balance        42.42\n",
       "Name: craigsdennis, dtype: object"
      ]
     },
     "execution_count": 27,
     "metadata": {},
     "output_type": "execute_result"
    }
   ],
   "source": [
    "users.loc['craigsdennis']"
   ]
  },
  {
   "cell_type": "code",
   "execution_count": 28,
   "id": "47185e16",
   "metadata": {},
   "outputs": [
    {
     "data": {
      "text/plain": [
       "first_name     Craig\n",
       "last_name     Dennis\n",
       "balance        42.42\n",
       "Name: craigsdennis, dtype: object"
      ]
     },
     "execution_count": 28,
     "metadata": {},
     "output_type": "execute_result"
    }
   ],
   "source": [
    "users.iloc[0]"
   ]
  },
  {
   "cell_type": "code",
   "execution_count": 29,
   "id": "a306d976",
   "metadata": {},
   "outputs": [],
   "source": [
    "# Setup\n",
    "import pandas as pd\n",
    "\n",
    "test_user_data = {\n",
    "    'first_name': ['Craig', 'Treasure', 'Ashley', 'Guil'],\n",
    "    'last_name': ['Dennis', 'Porth', 'Boucher', 'Hernandez'],\n",
    "    'balance': [42.42, 25.00, 2.02, 87.00]\n",
    "}\n",
    "test_user_names = ['craigsdennis', 'treasure', 'lindsay2000', 'guil']\n",
    "\n",
    "users = pd.DataFrame(test_user_data, index=test_user_names)\n",
    "deposits = pd.Series(test_deposit_data)"
   ]
  },
  {
   "cell_type": "code",
   "execution_count": 30,
   "id": "85735f96",
   "metadata": {},
   "outputs": [
    {
     "data": {
      "text/plain": [
       "'Craig'"
      ]
     },
     "execution_count": 30,
     "metadata": {},
     "output_type": "execute_result"
    }
   ],
   "source": [
    "users['first_name']['craigsdennis']"
   ]
  },
  {
   "cell_type": "code",
   "execution_count": 31,
   "id": "e9f57c70",
   "metadata": {},
   "outputs": [
    {
     "data": {
      "text/plain": [
       "'Craig'"
      ]
     },
     "execution_count": 31,
     "metadata": {},
     "output_type": "execute_result"
    }
   ],
   "source": [
    "users.loc['craigsdennis']['first_name']"
   ]
  },
  {
   "cell_type": "code",
   "execution_count": 32,
   "id": "182c15e6",
   "metadata": {},
   "outputs": [
    {
     "data": {
      "text/html": [
       "<div>\n",
       "<style scoped>\n",
       "    .dataframe tbody tr th:only-of-type {\n",
       "        vertical-align: middle;\n",
       "    }\n",
       "\n",
       "    .dataframe tbody tr th {\n",
       "        vertical-align: top;\n",
       "    }\n",
       "\n",
       "    .dataframe thead th {\n",
       "        text-align: right;\n",
       "    }\n",
       "</style>\n",
       "<table border=\"1\" class=\"dataframe\">\n",
       "  <thead>\n",
       "    <tr style=\"text-align: right;\">\n",
       "      <th></th>\n",
       "      <th>balance</th>\n",
       "      <th>first_name</th>\n",
       "      <th>last_name</th>\n",
       "    </tr>\n",
       "  </thead>\n",
       "  <tbody>\n",
       "    <tr>\n",
       "      <th>craigsdennis</th>\n",
       "      <td>42.42</td>\n",
       "      <td>Craig</td>\n",
       "      <td>Dennis</td>\n",
       "    </tr>\n",
       "    <tr>\n",
       "      <th>treasure</th>\n",
       "      <td>25.00</td>\n",
       "      <td>Treasure</td>\n",
       "      <td>Porth</td>\n",
       "    </tr>\n",
       "    <tr>\n",
       "      <th>lindsay2000</th>\n",
       "      <td>2.02</td>\n",
       "      <td>Ashley</td>\n",
       "      <td>Boucher</td>\n",
       "    </tr>\n",
       "    <tr>\n",
       "      <th>guil</th>\n",
       "      <td>87.00</td>\n",
       "      <td>Guil</td>\n",
       "      <td>Hernandez</td>\n",
       "    </tr>\n",
       "  </tbody>\n",
       "</table>\n",
       "</div>"
      ],
      "text/plain": [
       "              balance first_name  last_name\n",
       "craigsdennis    42.42      Craig     Dennis\n",
       "treasure        25.00   Treasure      Porth\n",
       "lindsay2000      2.02     Ashley    Boucher\n",
       "guil            87.00       Guil  Hernandez"
      ]
     },
     "execution_count": 32,
     "metadata": {},
     "output_type": "execute_result"
    }
   ],
   "source": [
    "users.loc[:, ['balance', 'first_name', 'last_name']]"
   ]
  },
  {
   "cell_type": "code",
   "execution_count": 33,
   "id": "18b2cfc7",
   "metadata": {},
   "outputs": [
    {
     "data": {
      "text/html": [
       "<div>\n",
       "<style scoped>\n",
       "    .dataframe tbody tr th:only-of-type {\n",
       "        vertical-align: middle;\n",
       "    }\n",
       "\n",
       "    .dataframe tbody tr th {\n",
       "        vertical-align: top;\n",
       "    }\n",
       "\n",
       "    .dataframe thead th {\n",
       "        text-align: right;\n",
       "    }\n",
       "</style>\n",
       "<table border=\"1\" class=\"dataframe\">\n",
       "  <thead>\n",
       "    <tr style=\"text-align: right;\">\n",
       "      <th></th>\n",
       "      <th>first_name</th>\n",
       "      <th>last_name</th>\n",
       "      <th>balance</th>\n",
       "    </tr>\n",
       "  </thead>\n",
       "  <tbody>\n",
       "    <tr>\n",
       "      <th>treasure</th>\n",
       "      <td>Treasure</td>\n",
       "      <td>Porth</td>\n",
       "      <td>25.00</td>\n",
       "    </tr>\n",
       "    <tr>\n",
       "      <th>lindsay2000</th>\n",
       "      <td>Ashley</td>\n",
       "      <td>Boucher</td>\n",
       "      <td>2.02</td>\n",
       "    </tr>\n",
       "    <tr>\n",
       "      <th>guil</th>\n",
       "      <td>Guil</td>\n",
       "      <td>Hernandez</td>\n",
       "      <td>87.00</td>\n",
       "    </tr>\n",
       "  </tbody>\n",
       "</table>\n",
       "</div>"
      ],
      "text/plain": [
       "            first_name  last_name  balance\n",
       "treasure      Treasure      Porth    25.00\n",
       "lindsay2000     Ashley    Boucher     2.02\n",
       "guil              Guil  Hernandez    87.00"
      ]
     },
     "execution_count": 33,
     "metadata": {},
     "output_type": "execute_result"
    }
   ],
   "source": [
    "users.loc['treasure':'guil', :]"
   ]
  },
  {
   "cell_type": "code",
   "execution_count": 34,
   "id": "5943ddcc",
   "metadata": {},
   "outputs": [
    {
     "data": {
      "text/html": [
       "<div>\n",
       "<style scoped>\n",
       "    .dataframe tbody tr th:only-of-type {\n",
       "        vertical-align: middle;\n",
       "    }\n",
       "\n",
       "    .dataframe tbody tr th {\n",
       "        vertical-align: top;\n",
       "    }\n",
       "\n",
       "    .dataframe thead th {\n",
       "        text-align: right;\n",
       "    }\n",
       "</style>\n",
       "<table border=\"1\" class=\"dataframe\">\n",
       "  <thead>\n",
       "    <tr style=\"text-align: right;\">\n",
       "      <th></th>\n",
       "      <th>first_name</th>\n",
       "      <th>last_name</th>\n",
       "      <th>balance</th>\n",
       "    </tr>\n",
       "  </thead>\n",
       "  <tbody>\n",
       "    <tr>\n",
       "      <th>craigsdennis</th>\n",
       "      <td>Craig</td>\n",
       "      <td>Dennis</td>\n",
       "      <td>42.42</td>\n",
       "    </tr>\n",
       "    <tr>\n",
       "      <th>treasure</th>\n",
       "      <td>Treasure</td>\n",
       "      <td>Porth</td>\n",
       "      <td>25.00</td>\n",
       "    </tr>\n",
       "    <tr>\n",
       "      <th>lindsay2000</th>\n",
       "      <td>Ashley</td>\n",
       "      <td>Boucher</td>\n",
       "      <td>2.02</td>\n",
       "    </tr>\n",
       "    <tr>\n",
       "      <th>guil</th>\n",
       "      <td>Guil</td>\n",
       "      <td>Hernandez</td>\n",
       "      <td>87.00</td>\n",
       "    </tr>\n",
       "  </tbody>\n",
       "</table>\n",
       "</div>"
      ],
      "text/plain": [
       "             first_name  last_name  balance\n",
       "craigsdennis      Craig     Dennis    42.42\n",
       "treasure       Treasure      Porth    25.00\n",
       "lindsay2000      Ashley    Boucher     2.02\n",
       "guil               Guil  Hernandez    87.00"
      ]
     },
     "execution_count": 34,
     "metadata": {},
     "output_type": "execute_result"
    }
   ],
   "source": [
    "users.iloc[0:5, 0:4]"
   ]
  },
  {
   "cell_type": "code",
   "execution_count": 35,
   "id": "9c177aec",
   "metadata": {},
   "outputs": [
    {
     "data": {
      "text/html": [
       "<div>\n",
       "<style scoped>\n",
       "    .dataframe tbody tr th:only-of-type {\n",
       "        vertical-align: middle;\n",
       "    }\n",
       "\n",
       "    .dataframe tbody tr th {\n",
       "        vertical-align: top;\n",
       "    }\n",
       "\n",
       "    .dataframe thead th {\n",
       "        text-align: right;\n",
       "    }\n",
       "</style>\n",
       "<table border=\"1\" class=\"dataframe\">\n",
       "  <thead>\n",
       "    <tr style=\"text-align: right;\">\n",
       "      <th></th>\n",
       "      <th>last_name</th>\n",
       "      <th>balance</th>\n",
       "    </tr>\n",
       "  </thead>\n",
       "  <tbody>\n",
       "    <tr>\n",
       "      <th>treasure</th>\n",
       "      <td>Porth</td>\n",
       "      <td>25.0</td>\n",
       "    </tr>\n",
       "  </tbody>\n",
       "</table>\n",
       "</div>"
      ],
      "text/plain": [
       "         last_name  balance\n",
       "treasure     Porth     25.0"
      ]
     },
     "execution_count": 35,
     "metadata": {},
     "output_type": "execute_result"
    }
   ],
   "source": [
    "users.iloc[1:2, 1:]"
   ]
  },
  {
   "cell_type": "code",
   "execution_count": 36,
   "id": "57bd63e7",
   "metadata": {},
   "outputs": [
    {
     "data": {
      "text/plain": [
       "'data\\\\users.csv'"
      ]
     },
     "execution_count": 36,
     "metadata": {},
     "output_type": "execute_result"
    }
   ],
   "source": [
    "# Setup\n",
    "import os\n",
    "import pandas as pd\n",
    "\n",
    "# We use os.path.join because Windows uses a back slash (\\) to separate directories\n",
    "#  while others use a forward slash (/)\n",
    "users_file_name = os.path.join('data', 'users.csv')\n",
    "users_file_name"
   ]
  },
  {
   "cell_type": "code",
   "execution_count": 37,
   "id": "94855ff2",
   "metadata": {},
   "outputs": [
    {
     "name": "stdout",
     "output_type": "stream",
     "text": [
      ",first_name,last_name,email,email_verified,signup_date,referral_count,balance\n",
      "\n",
      "aaron,Aaron,Davis,aaron6348@gmail.com,True,2018-08-31,6,18.14\n",
      "\n",
      "acook,Anthony,Cook,cook@gmail.com,True,2018-05-12,2,55.45\n",
      "\n",
      "adam.saunders,Adam,Saunders,adam@gmail.com,False,2018-05-29,3,72.12\n",
      "\n",
      "adrian,Adrian,Fang,adrian.fang@teamtreehouse.com,True,2018-04-28,3,30.01\n",
      "\n"
     ]
    }
   ],
   "source": [
    "# Open the file and print out the first 5 lines\n",
    "with open(users_file_name) as lines:\n",
    "    for _ in range(5):\n",
    "        # The `file` object is an iterator, so just get the next line \n",
    "        print(next(lines))"
   ]
  },
  {
   "cell_type": "code",
   "execution_count": 38,
   "id": "8a7dcfb3",
   "metadata": {},
   "outputs": [
    {
     "data": {
      "text/html": [
       "<div>\n",
       "<style scoped>\n",
       "    .dataframe tbody tr th:only-of-type {\n",
       "        vertical-align: middle;\n",
       "    }\n",
       "\n",
       "    .dataframe tbody tr th {\n",
       "        vertical-align: top;\n",
       "    }\n",
       "\n",
       "    .dataframe thead th {\n",
       "        text-align: right;\n",
       "    }\n",
       "</style>\n",
       "<table border=\"1\" class=\"dataframe\">\n",
       "  <thead>\n",
       "    <tr style=\"text-align: right;\">\n",
       "      <th></th>\n",
       "      <th>first_name</th>\n",
       "      <th>last_name</th>\n",
       "      <th>balance</th>\n",
       "    </tr>\n",
       "  </thead>\n",
       "  <tbody>\n",
       "    <tr>\n",
       "      <th>craigsdennis</th>\n",
       "      <td>Craig</td>\n",
       "      <td>Dennis</td>\n",
       "      <td>42.42</td>\n",
       "    </tr>\n",
       "    <tr>\n",
       "      <th>treasure</th>\n",
       "      <td>Treasure</td>\n",
       "      <td>Porth</td>\n",
       "      <td>25.00</td>\n",
       "    </tr>\n",
       "    <tr>\n",
       "      <th>lindsay2000</th>\n",
       "      <td>Ashley</td>\n",
       "      <td>Boucher</td>\n",
       "      <td>2.02</td>\n",
       "    </tr>\n",
       "    <tr>\n",
       "      <th>guil</th>\n",
       "      <td>Guil</td>\n",
       "      <td>Hernandez</td>\n",
       "      <td>87.00</td>\n",
       "    </tr>\n",
       "  </tbody>\n",
       "</table>\n",
       "</div>"
      ],
      "text/plain": [
       "             first_name  last_name  balance\n",
       "craigsdennis      Craig     Dennis    42.42\n",
       "treasure       Treasure      Porth    25.00\n",
       "lindsay2000      Ashley    Boucher     2.02\n",
       "guil               Guil  Hernandez    87.00"
      ]
     },
     "execution_count": 38,
     "metadata": {},
     "output_type": "execute_result"
    }
   ],
   "source": [
    "users.head()"
   ]
  },
  {
   "cell_type": "code",
   "execution_count": 39,
   "id": "8daec2d8",
   "metadata": {},
   "outputs": [],
   "source": [
    "users = pd.read_csv(users_file_name, index_col=0)"
   ]
  },
  {
   "cell_type": "code",
   "execution_count": 40,
   "id": "5a735958",
   "metadata": {},
   "outputs": [
    {
     "name": "stdout",
     "output_type": "stream",
     "text": [
      ",first_name,last_name,email,email_verified,signup_date,referral_count,balance\n",
      "\n",
      "aaron,Aaron,Davis,aaron6348@gmail.com,True,2018-08-31,6,18.14\n",
      "\n",
      "acook,Anthony,Cook,cook@gmail.com,True,2018-05-12,2,55.45\n",
      "\n",
      "adam.saunders,Adam,Saunders,adam@gmail.com,False,2018-05-29,3,72.12\n",
      "\n",
      "adrian,Adrian,Fang,adrian.fang@teamtreehouse.com,True,2018-04-28,3,30.01\n",
      "\n"
     ]
    }
   ],
   "source": [
    "with open(users_file_name) as lines:\n",
    "    for _ in range(5):\n",
    "        # The `file` object is an iterator, so just get the next line \n",
    "        print(next(lines))"
   ]
  },
  {
   "cell_type": "code",
   "execution_count": 41,
   "id": "859ad88a",
   "metadata": {},
   "outputs": [
    {
     "data": {
      "text/html": [
       "<div>\n",
       "<style scoped>\n",
       "    .dataframe tbody tr th:only-of-type {\n",
       "        vertical-align: middle;\n",
       "    }\n",
       "\n",
       "    .dataframe tbody tr th {\n",
       "        vertical-align: top;\n",
       "    }\n",
       "\n",
       "    .dataframe thead th {\n",
       "        text-align: right;\n",
       "    }\n",
       "</style>\n",
       "<table border=\"1\" class=\"dataframe\">\n",
       "  <thead>\n",
       "    <tr style=\"text-align: right;\">\n",
       "      <th></th>\n",
       "      <th>first_name</th>\n",
       "      <th>last_name</th>\n",
       "      <th>email</th>\n",
       "      <th>email_verified</th>\n",
       "      <th>signup_date</th>\n",
       "      <th>referral_count</th>\n",
       "      <th>balance</th>\n",
       "    </tr>\n",
       "  </thead>\n",
       "  <tbody>\n",
       "    <tr>\n",
       "      <th>aaron</th>\n",
       "      <td>Aaron</td>\n",
       "      <td>Davis</td>\n",
       "      <td>aaron6348@gmail.com</td>\n",
       "      <td>True</td>\n",
       "      <td>2018-08-31</td>\n",
       "      <td>6</td>\n",
       "      <td>18.14</td>\n",
       "    </tr>\n",
       "    <tr>\n",
       "      <th>acook</th>\n",
       "      <td>Anthony</td>\n",
       "      <td>Cook</td>\n",
       "      <td>cook@gmail.com</td>\n",
       "      <td>True</td>\n",
       "      <td>2018-05-12</td>\n",
       "      <td>2</td>\n",
       "      <td>55.45</td>\n",
       "    </tr>\n",
       "    <tr>\n",
       "      <th>adam.saunders</th>\n",
       "      <td>Adam</td>\n",
       "      <td>Saunders</td>\n",
       "      <td>adam@gmail.com</td>\n",
       "      <td>False</td>\n",
       "      <td>2018-05-29</td>\n",
       "      <td>3</td>\n",
       "      <td>72.12</td>\n",
       "    </tr>\n",
       "    <tr>\n",
       "      <th>adrian</th>\n",
       "      <td>Adrian</td>\n",
       "      <td>Fang</td>\n",
       "      <td>adrian.fang@teamtreehouse.com</td>\n",
       "      <td>True</td>\n",
       "      <td>2018-04-28</td>\n",
       "      <td>3</td>\n",
       "      <td>30.01</td>\n",
       "    </tr>\n",
       "    <tr>\n",
       "      <th>adrian.blair</th>\n",
       "      <td>Adrian</td>\n",
       "      <td>Blair</td>\n",
       "      <td>adrian9335@gmail.com</td>\n",
       "      <td>True</td>\n",
       "      <td>2018-06-16</td>\n",
       "      <td>7</td>\n",
       "      <td>25.85</td>\n",
       "    </tr>\n",
       "  </tbody>\n",
       "</table>\n",
       "</div>"
      ],
      "text/plain": [
       "              first_name last_name                          email  \\\n",
       "aaron              Aaron     Davis            aaron6348@gmail.com   \n",
       "acook            Anthony      Cook                 cook@gmail.com   \n",
       "adam.saunders       Adam  Saunders                 adam@gmail.com   \n",
       "adrian            Adrian      Fang  adrian.fang@teamtreehouse.com   \n",
       "adrian.blair      Adrian     Blair           adrian9335@gmail.com   \n",
       "\n",
       "               email_verified signup_date  referral_count  balance  \n",
       "aaron                    True  2018-08-31               6    18.14  \n",
       "acook                    True  2018-05-12               2    55.45  \n",
       "adam.saunders           False  2018-05-29               3    72.12  \n",
       "adrian                   True  2018-04-28               3    30.01  \n",
       "adrian.blair             True  2018-06-16               7    25.85  "
      ]
     },
     "execution_count": 41,
     "metadata": {},
     "output_type": "execute_result"
    }
   ],
   "source": [
    "users.head()"
   ]
  },
  {
   "cell_type": "code",
   "execution_count": 42,
   "id": "f7d933df",
   "metadata": {},
   "outputs": [
    {
     "data": {
      "text/plain": [
       "475"
      ]
     },
     "execution_count": 42,
     "metadata": {},
     "output_type": "execute_result"
    }
   ],
   "source": [
    "len(users)"
   ]
  },
  {
   "cell_type": "code",
   "execution_count": 43,
   "id": "5915cef9",
   "metadata": {},
   "outputs": [
    {
     "data": {
      "text/plain": [
       "(475, 7)"
      ]
     },
     "execution_count": 43,
     "metadata": {},
     "output_type": "execute_result"
    }
   ],
   "source": [
    "users.shape"
   ]
  },
  {
   "cell_type": "code",
   "execution_count": 44,
   "id": "bab6647a",
   "metadata": {},
   "outputs": [
    {
     "data": {
      "text/plain": [
       "first_name        475\n",
       "last_name         430\n",
       "email             475\n",
       "email_verified    475\n",
       "signup_date       475\n",
       "referral_count    475\n",
       "balance           475\n",
       "dtype: int64"
      ]
     },
     "execution_count": 44,
     "metadata": {},
     "output_type": "execute_result"
    }
   ],
   "source": [
    "users.count()"
   ]
  },
  {
   "cell_type": "code",
   "execution_count": 45,
   "id": "36071b25",
   "metadata": {},
   "outputs": [
    {
     "data": {
      "text/plain": [
       "first_name         object\n",
       "last_name          object\n",
       "email              object\n",
       "email_verified       bool\n",
       "signup_date        object\n",
       "referral_count      int64\n",
       "balance           float64\n",
       "dtype: object"
      ]
     },
     "execution_count": 45,
     "metadata": {},
     "output_type": "execute_result"
    }
   ],
   "source": [
    "users.dtypes"
   ]
  },
  {
   "cell_type": "code",
   "execution_count": 46,
   "id": "dd18f004",
   "metadata": {},
   "outputs": [
    {
     "data": {
      "text/html": [
       "<div>\n",
       "<style scoped>\n",
       "    .dataframe tbody tr th:only-of-type {\n",
       "        vertical-align: middle;\n",
       "    }\n",
       "\n",
       "    .dataframe tbody tr th {\n",
       "        vertical-align: top;\n",
       "    }\n",
       "\n",
       "    .dataframe thead th {\n",
       "        text-align: right;\n",
       "    }\n",
       "</style>\n",
       "<table border=\"1\" class=\"dataframe\">\n",
       "  <thead>\n",
       "    <tr style=\"text-align: right;\">\n",
       "      <th></th>\n",
       "      <th>referral_count</th>\n",
       "      <th>balance</th>\n",
       "    </tr>\n",
       "  </thead>\n",
       "  <tbody>\n",
       "    <tr>\n",
       "      <th>count</th>\n",
       "      <td>475.000000</td>\n",
       "      <td>475.000000</td>\n",
       "    </tr>\n",
       "    <tr>\n",
       "      <th>mean</th>\n",
       "      <td>3.429474</td>\n",
       "      <td>49.933263</td>\n",
       "    </tr>\n",
       "    <tr>\n",
       "      <th>std</th>\n",
       "      <td>2.281085</td>\n",
       "      <td>28.280448</td>\n",
       "    </tr>\n",
       "    <tr>\n",
       "      <th>min</th>\n",
       "      <td>0.000000</td>\n",
       "      <td>0.050000</td>\n",
       "    </tr>\n",
       "    <tr>\n",
       "      <th>25%</th>\n",
       "      <td>2.000000</td>\n",
       "      <td>25.305000</td>\n",
       "    </tr>\n",
       "    <tr>\n",
       "      <th>50%</th>\n",
       "      <td>3.000000</td>\n",
       "      <td>51.570000</td>\n",
       "    </tr>\n",
       "    <tr>\n",
       "      <th>75%</th>\n",
       "      <td>5.000000</td>\n",
       "      <td>74.480000</td>\n",
       "    </tr>\n",
       "    <tr>\n",
       "      <th>max</th>\n",
       "      <td>7.000000</td>\n",
       "      <td>99.900000</td>\n",
       "    </tr>\n",
       "  </tbody>\n",
       "</table>\n",
       "</div>"
      ],
      "text/plain": [
       "       referral_count     balance\n",
       "count      475.000000  475.000000\n",
       "mean         3.429474   49.933263\n",
       "std          2.281085   28.280448\n",
       "min          0.000000    0.050000\n",
       "25%          2.000000   25.305000\n",
       "50%          3.000000   51.570000\n",
       "75%          5.000000   74.480000\n",
       "max          7.000000   99.900000"
      ]
     },
     "execution_count": 46,
     "metadata": {},
     "output_type": "execute_result"
    }
   ],
   "source": [
    "users.describe()"
   ]
  },
  {
   "cell_type": "code",
   "execution_count": 47,
   "id": "8ebb0773",
   "metadata": {},
   "outputs": [
    {
     "name": "stderr",
     "output_type": "stream",
     "text": [
      "C:\\Users\\gabri\\AppData\\Local\\Temp\\ipykernel_20580\\1867495925.py:1: FutureWarning: The default value of numeric_only in DataFrame.mean is deprecated. In a future version, it will default to False. In addition, specifying 'numeric_only=None' is deprecated. Select only valid columns or specify the value of numeric_only to silence this warning.\n",
      "  users.mean()\n"
     ]
    },
    {
     "data": {
      "text/plain": [
       "email_verified     0.818947\n",
       "referral_count     3.429474\n",
       "balance           49.933263\n",
       "dtype: float64"
      ]
     },
     "execution_count": 47,
     "metadata": {},
     "output_type": "execute_result"
    }
   ],
   "source": [
    "users.mean()"
   ]
  },
  {
   "cell_type": "code",
   "execution_count": 48,
   "id": "6f05ae83",
   "metadata": {},
   "outputs": [
    {
     "name": "stderr",
     "output_type": "stream",
     "text": [
      "C:\\Users\\gabri\\AppData\\Local\\Temp\\ipykernel_20580\\527113547.py:1: FutureWarning: The default value of numeric_only in DataFrame.std is deprecated. In a future version, it will default to False. In addition, specifying 'numeric_only=None' is deprecated. Select only valid columns or specify the value of numeric_only to silence this warning.\n",
      "  users.std()\n"
     ]
    },
    {
     "data": {
      "text/plain": [
       "email_verified     0.385468\n",
       "referral_count     2.281085\n",
       "balance           28.280448\n",
       "dtype: float64"
      ]
     },
     "execution_count": 48,
     "metadata": {},
     "output_type": "execute_result"
    }
   ],
   "source": [
    "users.std()"
   ]
  },
  {
   "cell_type": "code",
   "execution_count": 49,
   "id": "5742bc7f",
   "metadata": {},
   "outputs": [
    {
     "name": "stderr",
     "output_type": "stream",
     "text": [
      "C:\\Users\\gabri\\AppData\\Local\\Temp\\ipykernel_20580\\1370270913.py:1: FutureWarning: The default value of numeric_only in DataFrame.min is deprecated. In a future version, it will default to False. In addition, specifying 'numeric_only=None' is deprecated. Select only valid columns or specify the value of numeric_only to silence this warning.\n",
      "  users.min()\n"
     ]
    },
    {
     "data": {
      "text/plain": [
       "first_name                       Aaron\n",
       "email             aalvarez@hotmail.com\n",
       "email_verified                   False\n",
       "signup_date                 2018-01-01\n",
       "referral_count                       0\n",
       "balance                           0.05\n",
       "dtype: object"
      ]
     },
     "execution_count": 49,
     "metadata": {},
     "output_type": "execute_result"
    }
   ],
   "source": [
    "users.min()"
   ]
  },
  {
   "cell_type": "code",
   "execution_count": 50,
   "id": "bdcc8930",
   "metadata": {},
   "outputs": [
    {
     "name": "stderr",
     "output_type": "stream",
     "text": [
      "C:\\Users\\gabri\\AppData\\Local\\Temp\\ipykernel_20580\\160620571.py:1: FutureWarning: The default value of numeric_only in DataFrame.max is deprecated. In a future version, it will default to False. In addition, specifying 'numeric_only=None' is deprecated. Select only valid columns or specify the value of numeric_only to silence this warning.\n",
      "  users.max()\n"
     ]
    },
    {
     "data": {
      "text/plain": [
       "first_name                Zachary\n",
       "email             zneal@gmail.com\n",
       "email_verified               True\n",
       "signup_date            2018-09-25\n",
       "referral_count                  7\n",
       "balance                      99.9\n",
       "dtype: object"
      ]
     },
     "execution_count": 50,
     "metadata": {},
     "output_type": "execute_result"
    }
   ],
   "source": [
    "users.max()"
   ]
  },
  {
   "cell_type": "code",
   "execution_count": 51,
   "id": "8875447b",
   "metadata": {},
   "outputs": [
    {
     "data": {
      "text/plain": [
       "True     389\n",
       "False     86\n",
       "Name: email_verified, dtype: int64"
      ]
     },
     "execution_count": 51,
     "metadata": {},
     "output_type": "execute_result"
    }
   ],
   "source": [
    "users.email_verified.value_counts()"
   ]
  },
  {
   "cell_type": "code",
   "execution_count": 52,
   "id": "55c1350e",
   "metadata": {},
   "outputs": [
    {
     "data": {
      "text/plain": [
       "Mark           11\n",
       "David          10\n",
       "Michael         9\n",
       "Christopher     7\n",
       "Robert          7\n",
       "Name: first_name, dtype: int64"
      ]
     },
     "execution_count": 52,
     "metadata": {},
     "output_type": "execute_result"
    }
   ],
   "source": [
    "users.first_name.value_counts().head()"
   ]
  },
  {
   "cell_type": "code",
   "execution_count": 53,
   "id": "07c7cd60",
   "metadata": {},
   "outputs": [
    {
     "data": {
      "text/html": [
       "<div>\n",
       "<style scoped>\n",
       "    .dataframe tbody tr th:only-of-type {\n",
       "        vertical-align: middle;\n",
       "    }\n",
       "\n",
       "    .dataframe tbody tr th {\n",
       "        vertical-align: top;\n",
       "    }\n",
       "\n",
       "    .dataframe thead th {\n",
       "        text-align: right;\n",
       "    }\n",
       "</style>\n",
       "<table border=\"1\" class=\"dataframe\">\n",
       "  <thead>\n",
       "    <tr style=\"text-align: right;\">\n",
       "      <th></th>\n",
       "      <th>first_name</th>\n",
       "      <th>last_name</th>\n",
       "      <th>email</th>\n",
       "      <th>email_verified</th>\n",
       "      <th>signup_date</th>\n",
       "      <th>referral_count</th>\n",
       "      <th>balance</th>\n",
       "    </tr>\n",
       "  </thead>\n",
       "  <tbody>\n",
       "    <tr>\n",
       "      <th>twhite</th>\n",
       "      <td>Timothy</td>\n",
       "      <td>White</td>\n",
       "      <td>white5136@hotmail.com</td>\n",
       "      <td>True</td>\n",
       "      <td>2018-07-06</td>\n",
       "      <td>5</td>\n",
       "      <td>99.90</td>\n",
       "    </tr>\n",
       "    <tr>\n",
       "      <th>karen.snow</th>\n",
       "      <td>Karen</td>\n",
       "      <td>Snow</td>\n",
       "      <td>ksnow@yahoo.com</td>\n",
       "      <td>True</td>\n",
       "      <td>2018-05-06</td>\n",
       "      <td>2</td>\n",
       "      <td>99.38</td>\n",
       "    </tr>\n",
       "    <tr>\n",
       "      <th>king</th>\n",
       "      <td>Billy</td>\n",
       "      <td>King</td>\n",
       "      <td>billy.king@hotmail.com</td>\n",
       "      <td>True</td>\n",
       "      <td>2018-05-29</td>\n",
       "      <td>4</td>\n",
       "      <td>98.80</td>\n",
       "    </tr>\n",
       "    <tr>\n",
       "      <th>king3246</th>\n",
       "      <td>Brittney</td>\n",
       "      <td>King</td>\n",
       "      <td>brittney@yahoo.com</td>\n",
       "      <td>True</td>\n",
       "      <td>2018-04-15</td>\n",
       "      <td>6</td>\n",
       "      <td>98.79</td>\n",
       "    </tr>\n",
       "    <tr>\n",
       "      <th>crane203</th>\n",
       "      <td>Valerie</td>\n",
       "      <td>Crane</td>\n",
       "      <td>valerie7051@hotmail.com</td>\n",
       "      <td>True</td>\n",
       "      <td>2018-05-12</td>\n",
       "      <td>3</td>\n",
       "      <td>98.69</td>\n",
       "    </tr>\n",
       "  </tbody>\n",
       "</table>\n",
       "</div>"
      ],
      "text/plain": [
       "           first_name last_name                    email  email_verified  \\\n",
       "twhite        Timothy     White    white5136@hotmail.com            True   \n",
       "karen.snow      Karen      Snow          ksnow@yahoo.com            True   \n",
       "king            Billy      King   billy.king@hotmail.com            True   \n",
       "king3246     Brittney      King       brittney@yahoo.com            True   \n",
       "crane203      Valerie     Crane  valerie7051@hotmail.com            True   \n",
       "\n",
       "           signup_date  referral_count  balance  \n",
       "twhite      2018-07-06               5    99.90  \n",
       "karen.snow  2018-05-06               2    99.38  \n",
       "king        2018-05-29               4    98.80  \n",
       "king3246    2018-04-15               6    98.79  \n",
       "crane203    2018-05-12               3    98.69  "
      ]
     },
     "execution_count": 53,
     "metadata": {},
     "output_type": "execute_result"
    }
   ],
   "source": [
    "users.sort_values(by='balance', ascending=False).head()"
   ]
  },
  {
   "cell_type": "code",
   "execution_count": 54,
   "id": "3ef71376",
   "metadata": {},
   "outputs": [
    {
     "data": {
      "text/html": [
       "<div>\n",
       "<style scoped>\n",
       "    .dataframe tbody tr th:only-of-type {\n",
       "        vertical-align: middle;\n",
       "    }\n",
       "\n",
       "    .dataframe tbody tr th {\n",
       "        vertical-align: top;\n",
       "    }\n",
       "\n",
       "    .dataframe thead th {\n",
       "        text-align: right;\n",
       "    }\n",
       "</style>\n",
       "<table border=\"1\" class=\"dataframe\">\n",
       "  <thead>\n",
       "    <tr style=\"text-align: right;\">\n",
       "      <th></th>\n",
       "      <th>first_name</th>\n",
       "      <th>last_name</th>\n",
       "      <th>email</th>\n",
       "      <th>email_verified</th>\n",
       "      <th>signup_date</th>\n",
       "      <th>referral_count</th>\n",
       "      <th>balance</th>\n",
       "    </tr>\n",
       "  </thead>\n",
       "  <tbody>\n",
       "    <tr>\n",
       "      <th>darlene.adams</th>\n",
       "      <td>Darlene</td>\n",
       "      <td>Adams</td>\n",
       "      <td>adams@hotmail.com</td>\n",
       "      <td>True</td>\n",
       "      <td>2018-09-15</td>\n",
       "      <td>2</td>\n",
       "      <td>67.02</td>\n",
       "    </tr>\n",
       "    <tr>\n",
       "      <th>lauren</th>\n",
       "      <td>Lauren</td>\n",
       "      <td>Aguilar</td>\n",
       "      <td>lauren.aguilar@summers.com</td>\n",
       "      <td>False</td>\n",
       "      <td>2018-05-31</td>\n",
       "      <td>4</td>\n",
       "      <td>69.90</td>\n",
       "    </tr>\n",
       "    <tr>\n",
       "      <th>daniel</th>\n",
       "      <td>Daniel</td>\n",
       "      <td>Allen</td>\n",
       "      <td>allen@hotmail.com</td>\n",
       "      <td>False</td>\n",
       "      <td>2018-07-01</td>\n",
       "      <td>2</td>\n",
       "      <td>21.21</td>\n",
       "    </tr>\n",
       "    <tr>\n",
       "      <th>kallen</th>\n",
       "      <td>Kathy</td>\n",
       "      <td>Allen</td>\n",
       "      <td>kathy@hotmail.com</td>\n",
       "      <td>False</td>\n",
       "      <td>2018-02-20</td>\n",
       "      <td>1</td>\n",
       "      <td>43.72</td>\n",
       "    </tr>\n",
       "    <tr>\n",
       "      <th>alvarado</th>\n",
       "      <td>Denise</td>\n",
       "      <td>Alvarado</td>\n",
       "      <td>alvarado@hotmail.com</td>\n",
       "      <td>True</td>\n",
       "      <td>2018-09-07</td>\n",
       "      <td>6</td>\n",
       "      <td>26.72</td>\n",
       "    </tr>\n",
       "  </tbody>\n",
       "</table>\n",
       "</div>"
      ],
      "text/plain": [
       "              first_name last_name                       email  \\\n",
       "darlene.adams    Darlene     Adams           adams@hotmail.com   \n",
       "lauren            Lauren   Aguilar  lauren.aguilar@summers.com   \n",
       "daniel            Daniel     Allen           allen@hotmail.com   \n",
       "kallen             Kathy     Allen           kathy@hotmail.com   \n",
       "alvarado          Denise  Alvarado        alvarado@hotmail.com   \n",
       "\n",
       "               email_verified signup_date  referral_count  balance  \n",
       "darlene.adams            True  2018-09-15               2    67.02  \n",
       "lauren                  False  2018-05-31               4    69.90  \n",
       "daniel                  False  2018-07-01               2    21.21  \n",
       "kallen                  False  2018-02-20               1    43.72  \n",
       "alvarado                 True  2018-09-07               6    26.72  "
      ]
     },
     "execution_count": 54,
     "metadata": {},
     "output_type": "execute_result"
    }
   ],
   "source": [
    "# Sort first by last_name and then first_name. By default, np.nan show up at the end\n",
    "users.sort_values(by=['last_name', 'first_name'], inplace=True)\n",
    "# Sort order is now changed\n",
    "users.head()"
   ]
  },
  {
   "cell_type": "code",
   "execution_count": 55,
   "id": "0b641987",
   "metadata": {},
   "outputs": [
    {
     "data": {
      "text/html": [
       "<div>\n",
       "<style scoped>\n",
       "    .dataframe tbody tr th:only-of-type {\n",
       "        vertical-align: middle;\n",
       "    }\n",
       "\n",
       "    .dataframe tbody tr th {\n",
       "        vertical-align: top;\n",
       "    }\n",
       "\n",
       "    .dataframe thead th {\n",
       "        text-align: right;\n",
       "    }\n",
       "</style>\n",
       "<table border=\"1\" class=\"dataframe\">\n",
       "  <thead>\n",
       "    <tr style=\"text-align: right;\">\n",
       "      <th></th>\n",
       "      <th>first_name</th>\n",
       "      <th>last_name</th>\n",
       "      <th>email</th>\n",
       "      <th>email_verified</th>\n",
       "      <th>signup_date</th>\n",
       "      <th>referral_count</th>\n",
       "      <th>balance</th>\n",
       "    </tr>\n",
       "  </thead>\n",
       "  <tbody>\n",
       "    <tr>\n",
       "      <th>aaron</th>\n",
       "      <td>Aaron</td>\n",
       "      <td>Davis</td>\n",
       "      <td>aaron6348@gmail.com</td>\n",
       "      <td>True</td>\n",
       "      <td>2018-08-31</td>\n",
       "      <td>6</td>\n",
       "      <td>18.14</td>\n",
       "    </tr>\n",
       "    <tr>\n",
       "      <th>acook</th>\n",
       "      <td>Anthony</td>\n",
       "      <td>Cook</td>\n",
       "      <td>cook@gmail.com</td>\n",
       "      <td>True</td>\n",
       "      <td>2018-05-12</td>\n",
       "      <td>2</td>\n",
       "      <td>55.45</td>\n",
       "    </tr>\n",
       "    <tr>\n",
       "      <th>adam.saunders</th>\n",
       "      <td>Adam</td>\n",
       "      <td>Saunders</td>\n",
       "      <td>adam@gmail.com</td>\n",
       "      <td>False</td>\n",
       "      <td>2018-05-29</td>\n",
       "      <td>3</td>\n",
       "      <td>72.12</td>\n",
       "    </tr>\n",
       "    <tr>\n",
       "      <th>adrian</th>\n",
       "      <td>Adrian</td>\n",
       "      <td>Fang</td>\n",
       "      <td>adrian.fang@teamtreehouse.com</td>\n",
       "      <td>True</td>\n",
       "      <td>2018-04-28</td>\n",
       "      <td>3</td>\n",
       "      <td>30.01</td>\n",
       "    </tr>\n",
       "    <tr>\n",
       "      <th>adrian.blair</th>\n",
       "      <td>Adrian</td>\n",
       "      <td>Blair</td>\n",
       "      <td>adrian9335@gmail.com</td>\n",
       "      <td>True</td>\n",
       "      <td>2018-06-16</td>\n",
       "      <td>7</td>\n",
       "      <td>25.85</td>\n",
       "    </tr>\n",
       "  </tbody>\n",
       "</table>\n",
       "</div>"
      ],
      "text/plain": [
       "              first_name last_name                          email  \\\n",
       "aaron              Aaron     Davis            aaron6348@gmail.com   \n",
       "acook            Anthony      Cook                 cook@gmail.com   \n",
       "adam.saunders       Adam  Saunders                 adam@gmail.com   \n",
       "adrian            Adrian      Fang  adrian.fang@teamtreehouse.com   \n",
       "adrian.blair      Adrian     Blair           adrian9335@gmail.com   \n",
       "\n",
       "               email_verified signup_date  referral_count  balance  \n",
       "aaron                    True  2018-08-31               6    18.14  \n",
       "acook                    True  2018-05-12               2    55.45  \n",
       "adam.saunders           False  2018-05-29               3    72.12  \n",
       "adrian                   True  2018-04-28               3    30.01  \n",
       "adrian.blair             True  2018-06-16               7    25.85  "
      ]
     },
     "execution_count": 55,
     "metadata": {},
     "output_type": "execute_result"
    }
   ],
   "source": [
    "users.sort_index(inplace=True)\n",
    "users.head()"
   ]
  },
  {
   "cell_type": "code",
   "execution_count": null,
   "id": "8256f2d1",
   "metadata": {},
   "outputs": [],
   "source": []
  },
  {
   "cell_type": "code",
   "execution_count": 56,
   "id": "2b4c351a",
   "metadata": {},
   "outputs": [
    {
     "data": {
      "text/plain": [
       "475"
      ]
     },
     "execution_count": 56,
     "metadata": {},
     "output_type": "execute_result"
    }
   ],
   "source": [
    "import os\n",
    "import pandas as pd\n",
    "\n",
    "users = pd.read_csv(os.path.join('data', 'users.csv'), index_col=0)\n",
    "# Pop out a quick sanity check\n",
    "len(users)"
   ]
  },
  {
   "cell_type": "code",
   "execution_count": 57,
   "id": "b4dbaade",
   "metadata": {},
   "outputs": [
    {
     "data": {
      "text/plain": [
       "aaron            False\n",
       "acook            False\n",
       "adam.saunders    False\n",
       "adrian           False\n",
       "adrian.blair     False\n",
       "Name: referral_count, dtype: bool"
      ]
     },
     "execution_count": 57,
     "metadata": {},
     "output_type": "execute_result"
    }
   ],
   "source": [
    "# This vectorized comparison returns a new `Series` ... \n",
    "#   We are naming it so we can use it later.\n",
    "no_referrals_index = users['referral_count'] < 1\n",
    "# See how the boolean `Series` returned includes all rows from the `DataFrame`.\n",
    "#  The value is the result of each comparison\n",
    "no_referrals_index.head()"
   ]
  },
  {
   "cell_type": "code",
   "execution_count": 58,
   "id": "f72586ee",
   "metadata": {},
   "outputs": [
    {
     "data": {
      "text/html": [
       "<div>\n",
       "<style scoped>\n",
       "    .dataframe tbody tr th:only-of-type {\n",
       "        vertical-align: middle;\n",
       "    }\n",
       "\n",
       "    .dataframe tbody tr th {\n",
       "        vertical-align: top;\n",
       "    }\n",
       "\n",
       "    .dataframe thead th {\n",
       "        text-align: right;\n",
       "    }\n",
       "</style>\n",
       "<table border=\"1\" class=\"dataframe\">\n",
       "  <thead>\n",
       "    <tr style=\"text-align: right;\">\n",
       "      <th></th>\n",
       "      <th>first_name</th>\n",
       "      <th>last_name</th>\n",
       "      <th>email</th>\n",
       "      <th>email_verified</th>\n",
       "      <th>signup_date</th>\n",
       "      <th>referral_count</th>\n",
       "      <th>balance</th>\n",
       "    </tr>\n",
       "  </thead>\n",
       "  <tbody>\n",
       "    <tr>\n",
       "      <th>alan9443</th>\n",
       "      <td>Alan</td>\n",
       "      <td>Pope</td>\n",
       "      <td>pope@hotmail.com</td>\n",
       "      <td>True</td>\n",
       "      <td>2018-04-17</td>\n",
       "      <td>0</td>\n",
       "      <td>56.09</td>\n",
       "    </tr>\n",
       "    <tr>\n",
       "      <th>andrew.alvarez</th>\n",
       "      <td>Andrew</td>\n",
       "      <td>Alvarez</td>\n",
       "      <td>aalvarez@hotmail.com</td>\n",
       "      <td>False</td>\n",
       "      <td>2018-08-01</td>\n",
       "      <td>0</td>\n",
       "      <td>81.66</td>\n",
       "    </tr>\n",
       "    <tr>\n",
       "      <th>boyer7005</th>\n",
       "      <td>Sara</td>\n",
       "      <td>Boyer</td>\n",
       "      <td>boyer8636@gmail.com</td>\n",
       "      <td>True</td>\n",
       "      <td>2018-07-31</td>\n",
       "      <td>0</td>\n",
       "      <td>91.41</td>\n",
       "    </tr>\n",
       "    <tr>\n",
       "      <th>brandon.gilbert</th>\n",
       "      <td>Brandon</td>\n",
       "      <td>Gilbert</td>\n",
       "      <td>brandon.gilbert@hotmail.com</td>\n",
       "      <td>True</td>\n",
       "      <td>2018-04-28</td>\n",
       "      <td>0</td>\n",
       "      <td>10.17</td>\n",
       "    </tr>\n",
       "    <tr>\n",
       "      <th>brooke2027</th>\n",
       "      <td>Brooke</td>\n",
       "      <td>NaN</td>\n",
       "      <td>brooke6938@gmail.com</td>\n",
       "      <td>False</td>\n",
       "      <td>2018-05-23</td>\n",
       "      <td>0</td>\n",
       "      <td>7.22</td>\n",
       "    </tr>\n",
       "  </tbody>\n",
       "</table>\n",
       "</div>"
      ],
      "text/plain": [
       "                first_name last_name                        email  \\\n",
       "alan9443              Alan      Pope             pope@hotmail.com   \n",
       "andrew.alvarez      Andrew   Alvarez         aalvarez@hotmail.com   \n",
       "boyer7005             Sara     Boyer          boyer8636@gmail.com   \n",
       "brandon.gilbert    Brandon   Gilbert  brandon.gilbert@hotmail.com   \n",
       "brooke2027          Brooke       NaN         brooke6938@gmail.com   \n",
       "\n",
       "                 email_verified signup_date  referral_count  balance  \n",
       "alan9443                   True  2018-04-17               0    56.09  \n",
       "andrew.alvarez            False  2018-08-01               0    81.66  \n",
       "boyer7005                  True  2018-07-31               0    91.41  \n",
       "brandon.gilbert            True  2018-04-28               0    10.17  \n",
       "brooke2027                False  2018-05-23               0     7.22  "
      ]
     },
     "execution_count": 58,
     "metadata": {},
     "output_type": "execute_result"
    }
   ],
   "source": [
    "users[no_referrals_index].head()"
   ]
  },
  {
   "cell_type": "code",
   "execution_count": 59,
   "id": "0f7e0d55",
   "metadata": {},
   "outputs": [
    {
     "data": {
      "text/plain": [
       "aaron            True\n",
       "acook            True\n",
       "adam.saunders    True\n",
       "adrian           True\n",
       "adrian.blair     True\n",
       "Name: referral_count, dtype: bool"
      ]
     },
     "execution_count": 59,
     "metadata": {},
     "output_type": "execute_result"
    }
   ],
   "source": [
    "~no_referrals_index.head()"
   ]
  },
  {
   "cell_type": "code",
   "execution_count": 60,
   "id": "bc9cf1e8",
   "metadata": {},
   "outputs": [
    {
     "data": {
      "text/plain": [
       "aaron            True\n",
       "acook            True\n",
       "adam.saunders    True\n",
       "adrian           True\n",
       "adrian.blair     True\n",
       "Name: referral_count, dtype: bool"
      ]
     },
     "execution_count": 60,
     "metadata": {},
     "output_type": "execute_result"
    }
   ],
   "source": [
    "~no_referrals_index.head()"
   ]
  },
  {
   "cell_type": "code",
   "execution_count": 61,
   "id": "e959ce86",
   "metadata": {
    "scrolled": true
   },
   "outputs": [
    {
     "data": {
      "text/html": [
       "<div>\n",
       "<style scoped>\n",
       "    .dataframe tbody tr th:only-of-type {\n",
       "        vertical-align: middle;\n",
       "    }\n",
       "\n",
       "    .dataframe tbody tr th {\n",
       "        vertical-align: top;\n",
       "    }\n",
       "\n",
       "    .dataframe thead th {\n",
       "        text-align: right;\n",
       "    }\n",
       "</style>\n",
       "<table border=\"1\" class=\"dataframe\">\n",
       "  <thead>\n",
       "    <tr style=\"text-align: right;\">\n",
       "      <th></th>\n",
       "      <th>first_name</th>\n",
       "      <th>last_name</th>\n",
       "      <th>email</th>\n",
       "      <th>email_verified</th>\n",
       "      <th>signup_date</th>\n",
       "      <th>referral_count</th>\n",
       "      <th>balance</th>\n",
       "    </tr>\n",
       "  </thead>\n",
       "  <tbody>\n",
       "    <tr>\n",
       "      <th>aaron</th>\n",
       "      <td>Aaron</td>\n",
       "      <td>Davis</td>\n",
       "      <td>aaron6348@gmail.com</td>\n",
       "      <td>True</td>\n",
       "      <td>2018-08-31</td>\n",
       "      <td>6</td>\n",
       "      <td>18.14</td>\n",
       "    </tr>\n",
       "    <tr>\n",
       "      <th>acook</th>\n",
       "      <td>Anthony</td>\n",
       "      <td>Cook</td>\n",
       "      <td>cook@gmail.com</td>\n",
       "      <td>True</td>\n",
       "      <td>2018-05-12</td>\n",
       "      <td>2</td>\n",
       "      <td>55.45</td>\n",
       "    </tr>\n",
       "    <tr>\n",
       "      <th>adam.saunders</th>\n",
       "      <td>Adam</td>\n",
       "      <td>Saunders</td>\n",
       "      <td>adam@gmail.com</td>\n",
       "      <td>False</td>\n",
       "      <td>2018-05-29</td>\n",
       "      <td>3</td>\n",
       "      <td>72.12</td>\n",
       "    </tr>\n",
       "    <tr>\n",
       "      <th>adrian</th>\n",
       "      <td>Adrian</td>\n",
       "      <td>Fang</td>\n",
       "      <td>adrian.fang@teamtreehouse.com</td>\n",
       "      <td>True</td>\n",
       "      <td>2018-04-28</td>\n",
       "      <td>3</td>\n",
       "      <td>30.01</td>\n",
       "    </tr>\n",
       "    <tr>\n",
       "      <th>adrian.blair</th>\n",
       "      <td>Adrian</td>\n",
       "      <td>Blair</td>\n",
       "      <td>adrian9335@gmail.com</td>\n",
       "      <td>True</td>\n",
       "      <td>2018-06-16</td>\n",
       "      <td>7</td>\n",
       "      <td>25.85</td>\n",
       "    </tr>\n",
       "  </tbody>\n",
       "</table>\n",
       "</div>"
      ],
      "text/plain": [
       "              first_name last_name                          email  \\\n",
       "aaron              Aaron     Davis            aaron6348@gmail.com   \n",
       "acook            Anthony      Cook                 cook@gmail.com   \n",
       "adam.saunders       Adam  Saunders                 adam@gmail.com   \n",
       "adrian            Adrian      Fang  adrian.fang@teamtreehouse.com   \n",
       "adrian.blair      Adrian     Blair           adrian9335@gmail.com   \n",
       "\n",
       "               email_verified signup_date  referral_count  balance  \n",
       "aaron                    True  2018-08-31               6    18.14  \n",
       "acook                    True  2018-05-12               2    55.45  \n",
       "adam.saunders           False  2018-05-29               3    72.12  \n",
       "adrian                   True  2018-04-28               3    30.01  \n",
       "adrian.blair             True  2018-06-16               7    25.85  "
      ]
     },
     "execution_count": 61,
     "metadata": {},
     "output_type": "execute_result"
    }
   ],
   "source": [
    "users[~no_referrals_index].head()"
   ]
  },
  {
   "cell_type": "code",
   "execution_count": 62,
   "id": "3fd6aa65",
   "metadata": {},
   "outputs": [
    {
     "data": {
      "text/html": [
       "<div>\n",
       "<style scoped>\n",
       "    .dataframe tbody tr th:only-of-type {\n",
       "        vertical-align: middle;\n",
       "    }\n",
       "\n",
       "    .dataframe tbody tr th {\n",
       "        vertical-align: top;\n",
       "    }\n",
       "\n",
       "    .dataframe thead th {\n",
       "        text-align: right;\n",
       "    }\n",
       "</style>\n",
       "<table border=\"1\" class=\"dataframe\">\n",
       "  <thead>\n",
       "    <tr style=\"text-align: right;\">\n",
       "      <th></th>\n",
       "      <th>balance</th>\n",
       "      <th>email</th>\n",
       "    </tr>\n",
       "  </thead>\n",
       "  <tbody>\n",
       "    <tr>\n",
       "      <th>alan9443</th>\n",
       "      <td>56.09</td>\n",
       "      <td>pope@hotmail.com</td>\n",
       "    </tr>\n",
       "    <tr>\n",
       "      <th>andrew.alvarez</th>\n",
       "      <td>81.66</td>\n",
       "      <td>aalvarez@hotmail.com</td>\n",
       "    </tr>\n",
       "    <tr>\n",
       "      <th>boyer7005</th>\n",
       "      <td>91.41</td>\n",
       "      <td>boyer8636@gmail.com</td>\n",
       "    </tr>\n",
       "    <tr>\n",
       "      <th>brandon.gilbert</th>\n",
       "      <td>10.17</td>\n",
       "      <td>brandon.gilbert@hotmail.com</td>\n",
       "    </tr>\n",
       "    <tr>\n",
       "      <th>brooke2027</th>\n",
       "      <td>7.22</td>\n",
       "      <td>brooke6938@gmail.com</td>\n",
       "    </tr>\n",
       "  </tbody>\n",
       "</table>\n",
       "</div>"
      ],
      "text/plain": [
       "                 balance                        email\n",
       "alan9443           56.09             pope@hotmail.com\n",
       "andrew.alvarez     81.66         aalvarez@hotmail.com\n",
       "boyer7005          91.41          boyer8636@gmail.com\n",
       "brandon.gilbert    10.17  brandon.gilbert@hotmail.com\n",
       "brooke2027          7.22         brooke6938@gmail.com"
      ]
     },
     "execution_count": 62,
     "metadata": {},
     "output_type": "execute_result"
    }
   ],
   "source": [
    "users.loc[no_referrals_index, ['balance', 'email']].head()"
   ]
  },
  {
   "cell_type": "code",
   "execution_count": 63,
   "id": "ca8b29d7",
   "metadata": {},
   "outputs": [
    {
     "data": {
      "text/html": [
       "<div>\n",
       "<style scoped>\n",
       "    .dataframe tbody tr th:only-of-type {\n",
       "        vertical-align: middle;\n",
       "    }\n",
       "\n",
       "    .dataframe tbody tr th {\n",
       "        vertical-align: top;\n",
       "    }\n",
       "\n",
       "    .dataframe thead th {\n",
       "        text-align: right;\n",
       "    }\n",
       "</style>\n",
       "<table border=\"1\" class=\"dataframe\">\n",
       "  <thead>\n",
       "    <tr style=\"text-align: right;\">\n",
       "      <th></th>\n",
       "      <th>first_name</th>\n",
       "      <th>last_name</th>\n",
       "      <th>email</th>\n",
       "      <th>email_verified</th>\n",
       "      <th>signup_date</th>\n",
       "      <th>referral_count</th>\n",
       "      <th>balance</th>\n",
       "    </tr>\n",
       "  </thead>\n",
       "  <tbody>\n",
       "    <tr>\n",
       "      <th>alan9443</th>\n",
       "      <td>Alan</td>\n",
       "      <td>Pope</td>\n",
       "      <td>pope@hotmail.com</td>\n",
       "      <td>True</td>\n",
       "      <td>2018-04-17</td>\n",
       "      <td>0</td>\n",
       "      <td>56.09</td>\n",
       "    </tr>\n",
       "    <tr>\n",
       "      <th>andrew.alvarez</th>\n",
       "      <td>Andrew</td>\n",
       "      <td>Alvarez</td>\n",
       "      <td>aalvarez@hotmail.com</td>\n",
       "      <td>False</td>\n",
       "      <td>2018-08-01</td>\n",
       "      <td>0</td>\n",
       "      <td>81.66</td>\n",
       "    </tr>\n",
       "    <tr>\n",
       "      <th>boyer7005</th>\n",
       "      <td>Sara</td>\n",
       "      <td>Boyer</td>\n",
       "      <td>boyer8636@gmail.com</td>\n",
       "      <td>True</td>\n",
       "      <td>2018-07-31</td>\n",
       "      <td>0</td>\n",
       "      <td>91.41</td>\n",
       "    </tr>\n",
       "    <tr>\n",
       "      <th>brandon.gilbert</th>\n",
       "      <td>Brandon</td>\n",
       "      <td>Gilbert</td>\n",
       "      <td>brandon.gilbert@hotmail.com</td>\n",
       "      <td>True</td>\n",
       "      <td>2018-04-28</td>\n",
       "      <td>0</td>\n",
       "      <td>10.17</td>\n",
       "    </tr>\n",
       "    <tr>\n",
       "      <th>brooke2027</th>\n",
       "      <td>Brooke</td>\n",
       "      <td>NaN</td>\n",
       "      <td>brooke6938@gmail.com</td>\n",
       "      <td>False</td>\n",
       "      <td>2018-05-23</td>\n",
       "      <td>0</td>\n",
       "      <td>7.22</td>\n",
       "    </tr>\n",
       "  </tbody>\n",
       "</table>\n",
       "</div>"
      ],
      "text/plain": [
       "                first_name last_name                        email  \\\n",
       "alan9443              Alan      Pope             pope@hotmail.com   \n",
       "andrew.alvarez      Andrew   Alvarez         aalvarez@hotmail.com   \n",
       "boyer7005             Sara     Boyer          boyer8636@gmail.com   \n",
       "brandon.gilbert    Brandon   Gilbert  brandon.gilbert@hotmail.com   \n",
       "brooke2027          Brooke       NaN         brooke6938@gmail.com   \n",
       "\n",
       "                 email_verified signup_date  referral_count  balance  \n",
       "alan9443                   True  2018-04-17               0    56.09  \n",
       "andrew.alvarez            False  2018-08-01               0    81.66  \n",
       "boyer7005                  True  2018-07-31               0    91.41  \n",
       "brandon.gilbert            True  2018-04-28               0    10.17  \n",
       "brooke2027                False  2018-05-23               0     7.22  "
      ]
     },
     "execution_count": 63,
     "metadata": {},
     "output_type": "execute_result"
    }
   ],
   "source": [
    "users[users['referral_count'] == 0].head()"
   ]
  },
  {
   "cell_type": "code",
   "execution_count": 64,
   "id": "a2627d82",
   "metadata": {},
   "outputs": [
    {
     "data": {
      "text/html": [
       "<div>\n",
       "<style scoped>\n",
       "    .dataframe tbody tr th:only-of-type {\n",
       "        vertical-align: middle;\n",
       "    }\n",
       "\n",
       "    .dataframe tbody tr th {\n",
       "        vertical-align: top;\n",
       "    }\n",
       "\n",
       "    .dataframe thead th {\n",
       "        text-align: right;\n",
       "    }\n",
       "</style>\n",
       "<table border=\"1\" class=\"dataframe\">\n",
       "  <thead>\n",
       "    <tr style=\"text-align: right;\">\n",
       "      <th></th>\n",
       "      <th>first_name</th>\n",
       "      <th>last_name</th>\n",
       "      <th>email</th>\n",
       "      <th>email_verified</th>\n",
       "      <th>signup_date</th>\n",
       "      <th>referral_count</th>\n",
       "      <th>balance</th>\n",
       "    </tr>\n",
       "  </thead>\n",
       "  <tbody>\n",
       "    <tr>\n",
       "      <th>alan9443</th>\n",
       "      <td>Alan</td>\n",
       "      <td>Pope</td>\n",
       "      <td>pope@hotmail.com</td>\n",
       "      <td>True</td>\n",
       "      <td>2018-04-17</td>\n",
       "      <td>0</td>\n",
       "      <td>56.09</td>\n",
       "    </tr>\n",
       "    <tr>\n",
       "      <th>boyer7005</th>\n",
       "      <td>Sara</td>\n",
       "      <td>Boyer</td>\n",
       "      <td>boyer8636@gmail.com</td>\n",
       "      <td>True</td>\n",
       "      <td>2018-07-31</td>\n",
       "      <td>0</td>\n",
       "      <td>91.41</td>\n",
       "    </tr>\n",
       "    <tr>\n",
       "      <th>brandon.gilbert</th>\n",
       "      <td>Brandon</td>\n",
       "      <td>Gilbert</td>\n",
       "      <td>brandon.gilbert@hotmail.com</td>\n",
       "      <td>True</td>\n",
       "      <td>2018-04-28</td>\n",
       "      <td>0</td>\n",
       "      <td>10.17</td>\n",
       "    </tr>\n",
       "    <tr>\n",
       "      <th>bryant</th>\n",
       "      <td>Darlene</td>\n",
       "      <td>Bryant</td>\n",
       "      <td>dbryant@yahoo.com</td>\n",
       "      <td>True</td>\n",
       "      <td>2018-07-19</td>\n",
       "      <td>0</td>\n",
       "      <td>36.91</td>\n",
       "    </tr>\n",
       "    <tr>\n",
       "      <th>calvin.perez</th>\n",
       "      <td>Calvin</td>\n",
       "      <td>Perez</td>\n",
       "      <td>cperez@gmail.com</td>\n",
       "      <td>True</td>\n",
       "      <td>2018-02-17</td>\n",
       "      <td>0</td>\n",
       "      <td>13.01</td>\n",
       "    </tr>\n",
       "  </tbody>\n",
       "</table>\n",
       "</div>"
      ],
      "text/plain": [
       "                first_name last_name                        email  \\\n",
       "alan9443              Alan      Pope             pope@hotmail.com   \n",
       "boyer7005             Sara     Boyer          boyer8636@gmail.com   \n",
       "brandon.gilbert    Brandon   Gilbert  brandon.gilbert@hotmail.com   \n",
       "bryant             Darlene    Bryant            dbryant@yahoo.com   \n",
       "calvin.perez        Calvin     Perez             cperez@gmail.com   \n",
       "\n",
       "                 email_verified signup_date  referral_count  balance  \n",
       "alan9443                   True  2018-04-17               0    56.09  \n",
       "boyer7005                  True  2018-07-31               0    91.41  \n",
       "brandon.gilbert            True  2018-04-28               0    10.17  \n",
       "bryant                     True  2018-07-19               0    36.91  \n",
       "calvin.perez               True  2018-02-17               0    13.01  "
      ]
     },
     "execution_count": 64,
     "metadata": {},
     "output_type": "execute_result"
    }
   ],
   "source": [
    "users[(users['referral_count'] == 0) & (users['email_verified'] == True)].head()"
   ]
  },
  {
   "cell_type": "code",
   "execution_count": 65,
   "id": "c22751a1",
   "metadata": {},
   "outputs": [
    {
     "data": {
      "text/plain": [
       "((475, 7), (998, 4))"
      ]
     },
     "execution_count": 65,
     "metadata": {},
     "output_type": "execute_result"
    }
   ],
   "source": [
    "# Setup\n",
    "from datetime import datetime\n",
    "import os\n",
    "\n",
    "import numpy as np\n",
    "import pandas as pd\n",
    "\n",
    "users = pd.read_csv(os.path.join('data', 'users.csv'), index_col=0)\n",
    "transactions = pd.read_csv(os.path.join('data', 'transactions.csv'), index_col=0)\n",
    "# Pop out a quick sanity check\n",
    "(users.shape, transactions.shape)"
   ]
  },
  {
   "cell_type": "code",
   "execution_count": 66,
   "id": "16094a1f",
   "metadata": {},
   "outputs": [
    {
     "data": {
      "text/html": [
       "<div>\n",
       "<style scoped>\n",
       "    .dataframe tbody tr th:only-of-type {\n",
       "        vertical-align: middle;\n",
       "    }\n",
       "\n",
       "    .dataframe tbody tr th {\n",
       "        vertical-align: top;\n",
       "    }\n",
       "\n",
       "    .dataframe thead th {\n",
       "        text-align: right;\n",
       "    }\n",
       "</style>\n",
       "<table border=\"1\" class=\"dataframe\">\n",
       "  <thead>\n",
       "    <tr style=\"text-align: right;\">\n",
       "      <th></th>\n",
       "      <th>first_name</th>\n",
       "      <th>last_name</th>\n",
       "      <th>email</th>\n",
       "      <th>email_verified</th>\n",
       "      <th>signup_date</th>\n",
       "      <th>referral_count</th>\n",
       "      <th>balance</th>\n",
       "    </tr>\n",
       "  </thead>\n",
       "  <tbody>\n",
       "    <tr>\n",
       "      <th>adrian</th>\n",
       "      <td>Adrian</td>\n",
       "      <td>Fang</td>\n",
       "      <td>adrian.fang@teamtreehouse.com</td>\n",
       "      <td>True</td>\n",
       "      <td>2018-04-28</td>\n",
       "      <td>3</td>\n",
       "      <td>30.01</td>\n",
       "    </tr>\n",
       "    <tr>\n",
       "      <th>adrian.blair</th>\n",
       "      <td>Adrian</td>\n",
       "      <td>Blair</td>\n",
       "      <td>adrian9335@gmail.com</td>\n",
       "      <td>True</td>\n",
       "      <td>2018-06-16</td>\n",
       "      <td>7</td>\n",
       "      <td>25.85</td>\n",
       "    </tr>\n",
       "  </tbody>\n",
       "</table>\n",
       "</div>"
      ],
      "text/plain": [
       "             first_name last_name                          email  \\\n",
       "adrian           Adrian      Fang  adrian.fang@teamtreehouse.com   \n",
       "adrian.blair     Adrian     Blair           adrian9335@gmail.com   \n",
       "\n",
       "              email_verified signup_date  referral_count  balance  \n",
       "adrian                  True  2018-04-28               3    30.01  \n",
       "adrian.blair            True  2018-06-16               7    25.85  "
      ]
     },
     "execution_count": 66,
     "metadata": {},
     "output_type": "execute_result"
    }
   ],
   "source": [
    "users[(users.first_name == \"Adrian\")]"
   ]
  },
  {
   "cell_type": "code",
   "execution_count": 67,
   "id": "0b786e42",
   "metadata": {},
   "outputs": [
    {
     "data": {
      "text/plain": [
       "adrian    30.01\n",
       "Name: balance, dtype: float64"
      ]
     },
     "execution_count": 67,
     "metadata": {},
     "output_type": "execute_result"
    }
   ],
   "source": [
    "users[(users.first_name == \"Adrian\") & (users.last_name == \"Fang\")]['balance']"
   ]
  },
  {
   "cell_type": "code",
   "execution_count": 68,
   "id": "f592f02d",
   "metadata": {},
   "outputs": [
    {
     "data": {
      "text/plain": [
       "first_name                               Adrian\n",
       "last_name                                  Fang\n",
       "email             adrian.fang@teamtreehouse.com\n",
       "email_verified                             True\n",
       "signup_date                          2018-04-28\n",
       "referral_count                                3\n",
       "balance                                    35.0\n",
       "Name: adrian, dtype: object"
      ]
     },
     "execution_count": 68,
     "metadata": {},
     "output_type": "execute_result"
    }
   ],
   "source": [
    "users.loc[(users.first_name == \"Adrian\") & (users.last_name == \"Fang\"), 'balance'] = 35.00\n",
    "# Display our updated user with the new value assigned\n",
    "users.loc['adrian']"
   ]
  },
  {
   "cell_type": "code",
   "execution_count": 69,
   "id": "87d051d3",
   "metadata": {},
   "outputs": [],
   "source": [
    "users.at['adrian', 'balance'] = 35.00"
   ]
  },
  {
   "cell_type": "code",
   "execution_count": 70,
   "id": "7a37eec7",
   "metadata": {},
   "outputs": [
    {
     "data": {
      "text/html": [
       "<div>\n",
       "<style scoped>\n",
       "    .dataframe tbody tr th:only-of-type {\n",
       "        vertical-align: middle;\n",
       "    }\n",
       "\n",
       "    .dataframe tbody tr th {\n",
       "        vertical-align: top;\n",
       "    }\n",
       "\n",
       "    .dataframe thead th {\n",
       "        text-align: right;\n",
       "    }\n",
       "</style>\n",
       "<table border=\"1\" class=\"dataframe\">\n",
       "  <thead>\n",
       "    <tr style=\"text-align: right;\">\n",
       "      <th></th>\n",
       "      <th>sender</th>\n",
       "      <th>receiver</th>\n",
       "      <th>amount</th>\n",
       "      <th>sent_date</th>\n",
       "    </tr>\n",
       "  </thead>\n",
       "  <tbody>\n",
       "    <tr>\n",
       "      <th>0</th>\n",
       "      <td>stein</td>\n",
       "      <td>smoyer</td>\n",
       "      <td>49.03</td>\n",
       "      <td>2018-01-24</td>\n",
       "    </tr>\n",
       "    <tr>\n",
       "      <th>1</th>\n",
       "      <td>holden4580</td>\n",
       "      <td>joshua.henry</td>\n",
       "      <td>34.64</td>\n",
       "      <td>2018-02-06</td>\n",
       "    </tr>\n",
       "    <tr>\n",
       "      <th>2</th>\n",
       "      <td>rose.eaton</td>\n",
       "      <td>emily.lewis</td>\n",
       "      <td>62.67</td>\n",
       "      <td>2018-02-15</td>\n",
       "    </tr>\n",
       "    <tr>\n",
       "      <th>3</th>\n",
       "      <td>lmoore</td>\n",
       "      <td>kallen</td>\n",
       "      <td>1.94</td>\n",
       "      <td>2018-03-05</td>\n",
       "    </tr>\n",
       "    <tr>\n",
       "      <th>4</th>\n",
       "      <td>scott3928</td>\n",
       "      <td>lmoore</td>\n",
       "      <td>27.82</td>\n",
       "      <td>2018-03-10</td>\n",
       "    </tr>\n",
       "  </tbody>\n",
       "</table>\n",
       "</div>"
      ],
      "text/plain": [
       "       sender      receiver  amount   sent_date\n",
       "0       stein        smoyer   49.03  2018-01-24\n",
       "1  holden4580  joshua.henry   34.64  2018-02-06\n",
       "2  rose.eaton   emily.lewis   62.67  2018-02-15\n",
       "3      lmoore        kallen    1.94  2018-03-05\n",
       "4   scott3928        lmoore   27.82  2018-03-10"
      ]
     },
     "execution_count": 70,
     "metadata": {},
     "output_type": "execute_result"
    }
   ],
   "source": [
    "transactions.head()"
   ]
  },
  {
   "cell_type": "code",
   "execution_count": 71,
   "id": "c17a82da",
   "metadata": {},
   "outputs": [],
   "source": [
    "record = dict(sender=np.nan, receiver='adrian', amount=4.99, sent_date=datetime.now().date())"
   ]
  },
  {
   "cell_type": "code",
   "execution_count": 72,
   "id": "597e3c3d",
   "metadata": {},
   "outputs": [
    {
     "name": "stderr",
     "output_type": "stream",
     "text": [
      "C:\\Users\\gabri\\AppData\\Local\\Temp\\ipykernel_20580\\425671274.py:1: FutureWarning: The frame.append method is deprecated and will be removed from pandas in a future version. Use pandas.concat instead.\n",
      "  transactions.append(record, ignore_index=True).tail()\n"
     ]
    },
    {
     "data": {
      "text/html": [
       "<div>\n",
       "<style scoped>\n",
       "    .dataframe tbody tr th:only-of-type {\n",
       "        vertical-align: middle;\n",
       "    }\n",
       "\n",
       "    .dataframe tbody tr th {\n",
       "        vertical-align: top;\n",
       "    }\n",
       "\n",
       "    .dataframe thead th {\n",
       "        text-align: right;\n",
       "    }\n",
       "</style>\n",
       "<table border=\"1\" class=\"dataframe\">\n",
       "  <thead>\n",
       "    <tr style=\"text-align: right;\">\n",
       "      <th></th>\n",
       "      <th>sender</th>\n",
       "      <th>receiver</th>\n",
       "      <th>amount</th>\n",
       "      <th>sent_date</th>\n",
       "    </tr>\n",
       "  </thead>\n",
       "  <tbody>\n",
       "    <tr>\n",
       "      <th>994</th>\n",
       "      <td>king3246</td>\n",
       "      <td>john</td>\n",
       "      <td>25.37</td>\n",
       "      <td>2018-09-25</td>\n",
       "    </tr>\n",
       "    <tr>\n",
       "      <th>995</th>\n",
       "      <td>shernandez</td>\n",
       "      <td>kristen1581</td>\n",
       "      <td>75.77</td>\n",
       "      <td>2018-09-25</td>\n",
       "    </tr>\n",
       "    <tr>\n",
       "      <th>996</th>\n",
       "      <td>leah6255</td>\n",
       "      <td>jholloway</td>\n",
       "      <td>63.62</td>\n",
       "      <td>2018-09-25</td>\n",
       "    </tr>\n",
       "    <tr>\n",
       "      <th>997</th>\n",
       "      <td>pamela</td>\n",
       "      <td>michelle4225</td>\n",
       "      <td>2.54</td>\n",
       "      <td>2018-09-25</td>\n",
       "    </tr>\n",
       "    <tr>\n",
       "      <th>998</th>\n",
       "      <td>NaN</td>\n",
       "      <td>adrian</td>\n",
       "      <td>4.99</td>\n",
       "      <td>2023-02-17</td>\n",
       "    </tr>\n",
       "  </tbody>\n",
       "</table>\n",
       "</div>"
      ],
      "text/plain": [
       "         sender      receiver  amount   sent_date\n",
       "994    king3246          john   25.37  2018-09-25\n",
       "995  shernandez   kristen1581   75.77  2018-09-25\n",
       "996    leah6255     jholloway   63.62  2018-09-25\n",
       "997      pamela  michelle4225    2.54  2018-09-25\n",
       "998         NaN        adrian    4.99  2023-02-17"
      ]
     },
     "execution_count": 72,
     "metadata": {},
     "output_type": "execute_result"
    }
   ],
   "source": [
    "transactions.append(record, ignore_index=True).tail()"
   ]
  },
  {
   "cell_type": "code",
   "execution_count": 73,
   "id": "3cd78d9d",
   "metadata": {},
   "outputs": [
    {
     "data": {
      "text/html": [
       "<div>\n",
       "<style scoped>\n",
       "    .dataframe tbody tr th:only-of-type {\n",
       "        vertical-align: middle;\n",
       "    }\n",
       "\n",
       "    .dataframe tbody tr th {\n",
       "        vertical-align: top;\n",
       "    }\n",
       "\n",
       "    .dataframe thead th {\n",
       "        text-align: right;\n",
       "    }\n",
       "</style>\n",
       "<table border=\"1\" class=\"dataframe\">\n",
       "  <thead>\n",
       "    <tr style=\"text-align: right;\">\n",
       "      <th></th>\n",
       "      <th>sender</th>\n",
       "      <th>receiver</th>\n",
       "      <th>amount</th>\n",
       "      <th>sent_date</th>\n",
       "    </tr>\n",
       "  </thead>\n",
       "  <tbody>\n",
       "    <tr>\n",
       "      <th>994</th>\n",
       "      <td>king3246</td>\n",
       "      <td>john</td>\n",
       "      <td>25.37</td>\n",
       "      <td>2018-09-25</td>\n",
       "    </tr>\n",
       "    <tr>\n",
       "      <th>995</th>\n",
       "      <td>shernandez</td>\n",
       "      <td>kristen1581</td>\n",
       "      <td>75.77</td>\n",
       "      <td>2018-09-25</td>\n",
       "    </tr>\n",
       "    <tr>\n",
       "      <th>996</th>\n",
       "      <td>leah6255</td>\n",
       "      <td>jholloway</td>\n",
       "      <td>63.62</td>\n",
       "      <td>2018-09-25</td>\n",
       "    </tr>\n",
       "    <tr>\n",
       "      <th>997</th>\n",
       "      <td>pamela</td>\n",
       "      <td>michelle4225</td>\n",
       "      <td>2.54</td>\n",
       "      <td>2018-09-25</td>\n",
       "    </tr>\n",
       "    <tr>\n",
       "      <th>998</th>\n",
       "      <td>NaN</td>\n",
       "      <td>adrian</td>\n",
       "      <td>4.99</td>\n",
       "      <td>2023-02-17</td>\n",
       "    </tr>\n",
       "  </tbody>\n",
       "</table>\n",
       "</div>"
      ],
      "text/plain": [
       "         sender      receiver  amount   sent_date\n",
       "994    king3246          john   25.37  2018-09-25\n",
       "995  shernandez   kristen1581   75.77  2018-09-25\n",
       "996    leah6255     jholloway   63.62  2018-09-25\n",
       "997      pamela  michelle4225    2.54  2018-09-25\n",
       "998         NaN        adrian    4.99  2023-02-17"
      ]
     },
     "execution_count": 73,
     "metadata": {},
     "output_type": "execute_result"
    }
   ],
   "source": [
    "# Largest current record, incremented\n",
    "next_key = transactions.index.max() + 1\n",
    "transactions.loc[next_key] = record \n",
    "# Make sure it got added\n",
    "transactions.tail()"
   ]
  },
  {
   "cell_type": "code",
   "execution_count": 74,
   "id": "52f3ce06",
   "metadata": {},
   "outputs": [
    {
     "data": {
      "text/html": [
       "<div>\n",
       "<style scoped>\n",
       "    .dataframe tbody tr th:only-of-type {\n",
       "        vertical-align: middle;\n",
       "    }\n",
       "\n",
       "    .dataframe tbody tr th {\n",
       "        vertical-align: top;\n",
       "    }\n",
       "\n",
       "    .dataframe thead th {\n",
       "        text-align: right;\n",
       "    }\n",
       "</style>\n",
       "<table border=\"1\" class=\"dataframe\">\n",
       "  <thead>\n",
       "    <tr style=\"text-align: right;\">\n",
       "      <th></th>\n",
       "      <th>sender</th>\n",
       "      <th>receiver</th>\n",
       "      <th>amount</th>\n",
       "      <th>sent_date</th>\n",
       "      <th>notes</th>\n",
       "    </tr>\n",
       "  </thead>\n",
       "  <tbody>\n",
       "    <tr>\n",
       "      <th>994</th>\n",
       "      <td>king3246</td>\n",
       "      <td>john</td>\n",
       "      <td>25.37</td>\n",
       "      <td>2018-09-25</td>\n",
       "      <td>NaN</td>\n",
       "    </tr>\n",
       "    <tr>\n",
       "      <th>995</th>\n",
       "      <td>shernandez</td>\n",
       "      <td>kristen1581</td>\n",
       "      <td>75.77</td>\n",
       "      <td>2018-09-25</td>\n",
       "      <td>NaN</td>\n",
       "    </tr>\n",
       "    <tr>\n",
       "      <th>996</th>\n",
       "      <td>leah6255</td>\n",
       "      <td>jholloway</td>\n",
       "      <td>63.62</td>\n",
       "      <td>2018-09-25</td>\n",
       "      <td>NaN</td>\n",
       "    </tr>\n",
       "    <tr>\n",
       "      <th>997</th>\n",
       "      <td>pamela</td>\n",
       "      <td>michelle4225</td>\n",
       "      <td>2.54</td>\n",
       "      <td>2018-09-25</td>\n",
       "      <td>NaN</td>\n",
       "    </tr>\n",
       "    <tr>\n",
       "      <th>998</th>\n",
       "      <td>NaN</td>\n",
       "      <td>adrian</td>\n",
       "      <td>4.99</td>\n",
       "      <td>2023-02-17</td>\n",
       "      <td>Adrian called customer support to report billi...</td>\n",
       "    </tr>\n",
       "  </tbody>\n",
       "</table>\n",
       "</div>"
      ],
      "text/plain": [
       "         sender      receiver  amount   sent_date  \\\n",
       "994    king3246          john   25.37  2018-09-25   \n",
       "995  shernandez   kristen1581   75.77  2018-09-25   \n",
       "996    leah6255     jholloway   63.62  2018-09-25   \n",
       "997      pamela  michelle4225    2.54  2018-09-25   \n",
       "998         NaN        adrian    4.99  2023-02-17   \n",
       "\n",
       "                                                 notes  \n",
       "994                                                NaN  \n",
       "995                                                NaN  \n",
       "996                                                NaN  \n",
       "997                                                NaN  \n",
       "998  Adrian called customer support to report billi...  "
      ]
     },
     "execution_count": 74,
     "metadata": {},
     "output_type": "execute_result"
    }
   ],
   "source": [
    "latest_id = transactions.index.max()\n",
    "# Add a new column named notes\n",
    "transactions.at[latest_id, 'notes'] = 'Adrian called customer support to report billing error.'\n",
    "transactions.tail()"
   ]
  },
  {
   "cell_type": "code",
   "execution_count": 75,
   "id": "fbcd40f1",
   "metadata": {},
   "outputs": [],
   "source": [
    "transactions['large'] = transactions.amount > 70"
   ]
  },
  {
   "cell_type": "code",
   "execution_count": 76,
   "id": "aeeb4e0f",
   "metadata": {},
   "outputs": [
    {
     "data": {
      "text/html": [
       "<div>\n",
       "<style scoped>\n",
       "    .dataframe tbody tr th:only-of-type {\n",
       "        vertical-align: middle;\n",
       "    }\n",
       "\n",
       "    .dataframe tbody tr th {\n",
       "        vertical-align: top;\n",
       "    }\n",
       "\n",
       "    .dataframe thead th {\n",
       "        text-align: right;\n",
       "    }\n",
       "</style>\n",
       "<table border=\"1\" class=\"dataframe\">\n",
       "  <thead>\n",
       "    <tr style=\"text-align: right;\">\n",
       "      <th></th>\n",
       "      <th>sender</th>\n",
       "      <th>receiver</th>\n",
       "      <th>amount</th>\n",
       "      <th>sent_date</th>\n",
       "      <th>notes</th>\n",
       "      <th>big_sender</th>\n",
       "    </tr>\n",
       "  </thead>\n",
       "  <tbody>\n",
       "    <tr>\n",
       "      <th>0</th>\n",
       "      <td>stein</td>\n",
       "      <td>smoyer</td>\n",
       "      <td>49.03</td>\n",
       "      <td>2018-01-24</td>\n",
       "      <td>NaN</td>\n",
       "      <td>False</td>\n",
       "    </tr>\n",
       "    <tr>\n",
       "      <th>1</th>\n",
       "      <td>holden4580</td>\n",
       "      <td>joshua.henry</td>\n",
       "      <td>34.64</td>\n",
       "      <td>2018-02-06</td>\n",
       "      <td>NaN</td>\n",
       "      <td>False</td>\n",
       "    </tr>\n",
       "    <tr>\n",
       "      <th>2</th>\n",
       "      <td>rose.eaton</td>\n",
       "      <td>emily.lewis</td>\n",
       "      <td>62.67</td>\n",
       "      <td>2018-02-15</td>\n",
       "      <td>NaN</td>\n",
       "      <td>False</td>\n",
       "    </tr>\n",
       "    <tr>\n",
       "      <th>3</th>\n",
       "      <td>lmoore</td>\n",
       "      <td>kallen</td>\n",
       "      <td>1.94</td>\n",
       "      <td>2018-03-05</td>\n",
       "      <td>NaN</td>\n",
       "      <td>False</td>\n",
       "    </tr>\n",
       "    <tr>\n",
       "      <th>4</th>\n",
       "      <td>scott3928</td>\n",
       "      <td>lmoore</td>\n",
       "      <td>27.82</td>\n",
       "      <td>2018-03-10</td>\n",
       "      <td>NaN</td>\n",
       "      <td>False</td>\n",
       "    </tr>\n",
       "  </tbody>\n",
       "</table>\n",
       "</div>"
      ],
      "text/plain": [
       "       sender      receiver  amount   sent_date notes  big_sender\n",
       "0       stein        smoyer   49.03  2018-01-24   NaN       False\n",
       "1  holden4580  joshua.henry   34.64  2018-02-06   NaN       False\n",
       "2  rose.eaton   emily.lewis   62.67  2018-02-15   NaN       False\n",
       "3      lmoore        kallen    1.94  2018-03-05   NaN       False\n",
       "4   scott3928        lmoore   27.82  2018-03-10   NaN       False"
      ]
     },
     "execution_count": 76,
     "metadata": {},
     "output_type": "execute_result"
    }
   ],
   "source": [
    "transactions.rename(columns={'large': 'big_sender'}, inplace=True)\n",
    "transactions.head()"
   ]
  },
  {
   "cell_type": "code",
   "execution_count": 77,
   "id": "9c56c677",
   "metadata": {},
   "outputs": [
    {
     "data": {
      "text/html": [
       "<div>\n",
       "<style scoped>\n",
       "    .dataframe tbody tr th:only-of-type {\n",
       "        vertical-align: middle;\n",
       "    }\n",
       "\n",
       "    .dataframe tbody tr th {\n",
       "        vertical-align: top;\n",
       "    }\n",
       "\n",
       "    .dataframe thead th {\n",
       "        text-align: right;\n",
       "    }\n",
       "</style>\n",
       "<table border=\"1\" class=\"dataframe\">\n",
       "  <thead>\n",
       "    <tr style=\"text-align: right;\">\n",
       "      <th></th>\n",
       "      <th>sender</th>\n",
       "      <th>receiver</th>\n",
       "      <th>amount</th>\n",
       "      <th>sent_date</th>\n",
       "      <th>big_sender</th>\n",
       "    </tr>\n",
       "  </thead>\n",
       "  <tbody>\n",
       "    <tr>\n",
       "      <th>0</th>\n",
       "      <td>stein</td>\n",
       "      <td>smoyer</td>\n",
       "      <td>49.03</td>\n",
       "      <td>2018-01-24</td>\n",
       "      <td>False</td>\n",
       "    </tr>\n",
       "    <tr>\n",
       "      <th>1</th>\n",
       "      <td>holden4580</td>\n",
       "      <td>joshua.henry</td>\n",
       "      <td>34.64</td>\n",
       "      <td>2018-02-06</td>\n",
       "      <td>False</td>\n",
       "    </tr>\n",
       "    <tr>\n",
       "      <th>2</th>\n",
       "      <td>rose.eaton</td>\n",
       "      <td>emily.lewis</td>\n",
       "      <td>62.67</td>\n",
       "      <td>2018-02-15</td>\n",
       "      <td>False</td>\n",
       "    </tr>\n",
       "    <tr>\n",
       "      <th>3</th>\n",
       "      <td>lmoore</td>\n",
       "      <td>kallen</td>\n",
       "      <td>1.94</td>\n",
       "      <td>2018-03-05</td>\n",
       "      <td>False</td>\n",
       "    </tr>\n",
       "    <tr>\n",
       "      <th>4</th>\n",
       "      <td>scott3928</td>\n",
       "      <td>lmoore</td>\n",
       "      <td>27.82</td>\n",
       "      <td>2018-03-10</td>\n",
       "      <td>False</td>\n",
       "    </tr>\n",
       "  </tbody>\n",
       "</table>\n",
       "</div>"
      ],
      "text/plain": [
       "       sender      receiver  amount   sent_date  big_sender\n",
       "0       stein        smoyer   49.03  2018-01-24       False\n",
       "1  holden4580  joshua.henry   34.64  2018-02-06       False\n",
       "2  rose.eaton   emily.lewis   62.67  2018-02-15       False\n",
       "3      lmoore        kallen    1.94  2018-03-05       False\n",
       "4   scott3928        lmoore   27.82  2018-03-10       False"
      ]
     },
     "execution_count": 77,
     "metadata": {},
     "output_type": "execute_result"
    }
   ],
   "source": [
    "transactions.drop(columns=['notes'], inplace=True)\n",
    "transactions.head()"
   ]
  },
  {
   "cell_type": "code",
   "execution_count": 78,
   "id": "8fd01a52",
   "metadata": {},
   "outputs": [
    {
     "data": {
      "text/html": [
       "<div>\n",
       "<style scoped>\n",
       "    .dataframe tbody tr th:only-of-type {\n",
       "        vertical-align: middle;\n",
       "    }\n",
       "\n",
       "    .dataframe tbody tr th {\n",
       "        vertical-align: top;\n",
       "    }\n",
       "\n",
       "    .dataframe thead th {\n",
       "        text-align: right;\n",
       "    }\n",
       "</style>\n",
       "<table border=\"1\" class=\"dataframe\">\n",
       "  <thead>\n",
       "    <tr style=\"text-align: right;\">\n",
       "      <th></th>\n",
       "      <th>sender</th>\n",
       "      <th>receiver</th>\n",
       "      <th>amount</th>\n",
       "      <th>sent_date</th>\n",
       "    </tr>\n",
       "  </thead>\n",
       "  <tbody>\n",
       "    <tr>\n",
       "      <th>0</th>\n",
       "      <td>stein</td>\n",
       "      <td>smoyer</td>\n",
       "      <td>49.03</td>\n",
       "      <td>2018-01-24</td>\n",
       "    </tr>\n",
       "    <tr>\n",
       "      <th>1</th>\n",
       "      <td>holden4580</td>\n",
       "      <td>joshua.henry</td>\n",
       "      <td>34.64</td>\n",
       "      <td>2018-02-06</td>\n",
       "    </tr>\n",
       "    <tr>\n",
       "      <th>2</th>\n",
       "      <td>rose.eaton</td>\n",
       "      <td>emily.lewis</td>\n",
       "      <td>62.67</td>\n",
       "      <td>2018-02-15</td>\n",
       "    </tr>\n",
       "    <tr>\n",
       "      <th>3</th>\n",
       "      <td>lmoore</td>\n",
       "      <td>kallen</td>\n",
       "      <td>1.94</td>\n",
       "      <td>2018-03-05</td>\n",
       "    </tr>\n",
       "    <tr>\n",
       "      <th>4</th>\n",
       "      <td>scott3928</td>\n",
       "      <td>lmoore</td>\n",
       "      <td>27.82</td>\n",
       "      <td>2018-03-10</td>\n",
       "    </tr>\n",
       "  </tbody>\n",
       "</table>\n",
       "</div>"
      ],
      "text/plain": [
       "       sender      receiver  amount   sent_date\n",
       "0       stein        smoyer   49.03  2018-01-24\n",
       "1  holden4580  joshua.henry   34.64  2018-02-06\n",
       "2  rose.eaton   emily.lewis   62.67  2018-02-15\n",
       "3      lmoore        kallen    1.94  2018-03-05\n",
       "4   scott3928        lmoore   27.82  2018-03-10"
      ]
     },
     "execution_count": 78,
     "metadata": {},
     "output_type": "execute_result"
    }
   ],
   "source": [
    "transactions.drop(['big_sender'], axis='columns', inplace=True)\n",
    "transactions.head()"
   ]
  },
  {
   "cell_type": "code",
   "execution_count": 79,
   "id": "a4b1875e",
   "metadata": {},
   "outputs": [
    {
     "data": {
      "text/html": [
       "<div>\n",
       "<style scoped>\n",
       "    .dataframe tbody tr th:only-of-type {\n",
       "        vertical-align: middle;\n",
       "    }\n",
       "\n",
       "    .dataframe tbody tr th {\n",
       "        vertical-align: top;\n",
       "    }\n",
       "\n",
       "    .dataframe thead th {\n",
       "        text-align: right;\n",
       "    }\n",
       "</style>\n",
       "<table border=\"1\" class=\"dataframe\">\n",
       "  <thead>\n",
       "    <tr style=\"text-align: right;\">\n",
       "      <th></th>\n",
       "      <th>sender</th>\n",
       "      <th>receiver</th>\n",
       "      <th>amount</th>\n",
       "      <th>sent_date</th>\n",
       "    </tr>\n",
       "  </thead>\n",
       "  <tbody>\n",
       "    <tr>\n",
       "      <th>993</th>\n",
       "      <td>coleman</td>\n",
       "      <td>sarah.evans</td>\n",
       "      <td>36.29</td>\n",
       "      <td>2018-09-25</td>\n",
       "    </tr>\n",
       "    <tr>\n",
       "      <th>994</th>\n",
       "      <td>king3246</td>\n",
       "      <td>john</td>\n",
       "      <td>25.37</td>\n",
       "      <td>2018-09-25</td>\n",
       "    </tr>\n",
       "    <tr>\n",
       "      <th>995</th>\n",
       "      <td>shernandez</td>\n",
       "      <td>kristen1581</td>\n",
       "      <td>75.77</td>\n",
       "      <td>2018-09-25</td>\n",
       "    </tr>\n",
       "    <tr>\n",
       "      <th>996</th>\n",
       "      <td>leah6255</td>\n",
       "      <td>jholloway</td>\n",
       "      <td>63.62</td>\n",
       "      <td>2018-09-25</td>\n",
       "    </tr>\n",
       "    <tr>\n",
       "      <th>997</th>\n",
       "      <td>pamela</td>\n",
       "      <td>michelle4225</td>\n",
       "      <td>2.54</td>\n",
       "      <td>2018-09-25</td>\n",
       "    </tr>\n",
       "  </tbody>\n",
       "</table>\n",
       "</div>"
      ],
      "text/plain": [
       "         sender      receiver  amount   sent_date\n",
       "993     coleman   sarah.evans   36.29  2018-09-25\n",
       "994    king3246          john   25.37  2018-09-25\n",
       "995  shernandez   kristen1581   75.77  2018-09-25\n",
       "996    leah6255     jholloway   63.62  2018-09-25\n",
       "997      pamela  michelle4225    2.54  2018-09-25"
      ]
     },
     "execution_count": 79,
     "metadata": {},
     "output_type": "execute_result"
    }
   ],
   "source": [
    "last_key = transactions.index.max()\n",
    "transactions.drop(index=[last_key], inplace=True)\n",
    "transactions.tail()"
   ]
  },
  {
   "cell_type": "code",
   "execution_count": 80,
   "id": "6e9f726d",
   "metadata": {},
   "outputs": [
    {
     "data": {
      "text/plain": [
       "((998, 4), (313, 4))"
      ]
     },
     "execution_count": 80,
     "metadata": {},
     "output_type": "execute_result"
    }
   ],
   "source": [
    "from datetime import datetime\n",
    "import os\n",
    "\n",
    "import pandas as pd\n",
    "\n",
    "from utils import render\n",
    "\n",
    "transactions = pd.read_csv(os.path.join('data', 'transactions.csv'), index_col=0)\n",
    "requests = pd.read_csv(os.path.join('data', 'requests.csv'), index_col=0)\n",
    "\n",
    "# Pop out a quick sanity check\n",
    "(transactions.shape, requests.shape)"
   ]
  },
  {
   "cell_type": "code",
   "execution_count": 81,
   "id": "d8d33e60",
   "metadata": {},
   "outputs": [
    {
     "data": {
      "text/html": [
       "<div>\n",
       "<style scoped>\n",
       "    .dataframe tbody tr th:only-of-type {\n",
       "        vertical-align: middle;\n",
       "    }\n",
       "\n",
       "    .dataframe tbody tr th {\n",
       "        vertical-align: top;\n",
       "    }\n",
       "\n",
       "    .dataframe thead th {\n",
       "        text-align: right;\n",
       "    }\n",
       "</style>\n",
       "<table border=\"1\" class=\"dataframe\">\n",
       "  <thead>\n",
       "    <tr style=\"text-align: right;\">\n",
       "      <th></th>\n",
       "      <th>from_user</th>\n",
       "      <th>to_user</th>\n",
       "      <th>amount</th>\n",
       "      <th>request_date</th>\n",
       "      <th>sender</th>\n",
       "      <th>receiver</th>\n",
       "      <th>sent_date</th>\n",
       "    </tr>\n",
       "  </thead>\n",
       "  <tbody>\n",
       "    <tr>\n",
       "      <th>0</th>\n",
       "      <td>chad.chen</td>\n",
       "      <td>paula7980</td>\n",
       "      <td>78.61</td>\n",
       "      <td>2018-02-12</td>\n",
       "      <td>paula7980</td>\n",
       "      <td>chad.chen</td>\n",
       "      <td>2018-07-15</td>\n",
       "    </tr>\n",
       "    <tr>\n",
       "      <th>1</th>\n",
       "      <td>kallen</td>\n",
       "      <td>lmoore</td>\n",
       "      <td>1.94</td>\n",
       "      <td>2018-02-23</td>\n",
       "      <td>lmoore</td>\n",
       "      <td>kallen</td>\n",
       "      <td>2018-03-05</td>\n",
       "    </tr>\n",
       "    <tr>\n",
       "      <th>2</th>\n",
       "      <td>gregory.blackwell</td>\n",
       "      <td>rodriguez5768</td>\n",
       "      <td>30.57</td>\n",
       "      <td>2018-03-04</td>\n",
       "      <td>rodriguez5768</td>\n",
       "      <td>gregory.blackwell</td>\n",
       "      <td>2018-03-17</td>\n",
       "    </tr>\n",
       "    <tr>\n",
       "      <th>3</th>\n",
       "      <td>kristina.miller</td>\n",
       "      <td>john.hardy</td>\n",
       "      <td>77.05</td>\n",
       "      <td>2018-03-12</td>\n",
       "      <td>john.hardy</td>\n",
       "      <td>kristina.miller</td>\n",
       "      <td>2018-04-25</td>\n",
       "    </tr>\n",
       "    <tr>\n",
       "      <th>4</th>\n",
       "      <td>lacey8987</td>\n",
       "      <td>mcguire</td>\n",
       "      <td>54.09</td>\n",
       "      <td>2018-03-13</td>\n",
       "      <td>mcguire</td>\n",
       "      <td>lacey8987</td>\n",
       "      <td>2018-06-28</td>\n",
       "    </tr>\n",
       "  </tbody>\n",
       "</table>\n",
       "</div>"
      ],
      "text/plain": [
       "           from_user        to_user  amount request_date         sender  \\\n",
       "0          chad.chen      paula7980   78.61   2018-02-12      paula7980   \n",
       "1             kallen         lmoore    1.94   2018-02-23         lmoore   \n",
       "2  gregory.blackwell  rodriguez5768   30.57   2018-03-04  rodriguez5768   \n",
       "3    kristina.miller     john.hardy   77.05   2018-03-12     john.hardy   \n",
       "4          lacey8987        mcguire   54.09   2018-03-13        mcguire   \n",
       "\n",
       "            receiver   sent_date  \n",
       "0          chad.chen  2018-07-15  \n",
       "1             kallen  2018-03-05  \n",
       "2  gregory.blackwell  2018-03-17  \n",
       "3    kristina.miller  2018-04-25  \n",
       "4          lacey8987  2018-06-28  "
      ]
     },
     "execution_count": 81,
     "metadata": {},
     "output_type": "execute_result"
    }
   ],
   "source": [
    "# Since we are calling merge on the `requests` DataFrame it is considered the left side\n",
    "successful_requests = requests.merge(\n",
    "    # And transactions is the right side\n",
    "    transactions, \n",
    "    # So now we line up columns that will make the join make sense.\n",
    "    left_on=['from_user', 'to_user', 'amount'], \n",
    "    right_on=['receiver', 'sender', 'amount']\n",
    ")\n",
    "# Let's take a look and see how we did\n",
    "successful_requests.head()"
   ]
  },
  {
   "cell_type": "code",
   "execution_count": 82,
   "id": "649b0089",
   "metadata": {},
   "outputs": [
    {
     "data": {
      "text/plain": [
       "from_user               object\n",
       "to_user                 object\n",
       "amount                 float64\n",
       "request_date    datetime64[ns]\n",
       "sender                  object\n",
       "receiver                object\n",
       "sent_date       datetime64[ns]\n",
       "dtype: object"
      ]
     },
     "execution_count": 82,
     "metadata": {},
     "output_type": "execute_result"
    }
   ],
   "source": [
    "successful_requests['request_date'] = pd.to_datetime(successful_requests['request_date'])\n",
    "successful_requests['sent_date'] = pd.to_datetime(successful_requests['sent_date'])\n",
    "# And now we can see they are converted\n",
    "successful_requests.dtypes"
   ]
  },
  {
   "cell_type": "code",
   "execution_count": 83,
   "id": "bd6653b5",
   "metadata": {},
   "outputs": [],
   "source": [
    "successful_requests['time_passed'] = successful_requests.sent_date - successful_requests.request_date"
   ]
  },
  {
   "cell_type": "code",
   "execution_count": 84,
   "id": "13797944",
   "metadata": {},
   "outputs": [
    {
     "data": {
      "text/html": [
       "<div>\n",
       "<style scoped>\n",
       "    .dataframe tbody tr th:only-of-type {\n",
       "        vertical-align: middle;\n",
       "    }\n",
       "\n",
       "    .dataframe tbody tr th {\n",
       "        vertical-align: top;\n",
       "    }\n",
       "\n",
       "    .dataframe thead th {\n",
       "        text-align: right;\n",
       "    }\n",
       "</style>\n",
       "<table border=\"1\" class=\"dataframe\">\n",
       "  <thead>\n",
       "    <tr style=\"text-align: right;\">\n",
       "      <th></th>\n",
       "      <th>from_user</th>\n",
       "      <th>to_user</th>\n",
       "      <th>amount</th>\n",
       "      <th>request_date</th>\n",
       "      <th>sender</th>\n",
       "      <th>receiver</th>\n",
       "      <th>sent_date</th>\n",
       "      <th>time_passed</th>\n",
       "    </tr>\n",
       "  </thead>\n",
       "  <tbody>\n",
       "    <tr>\n",
       "      <th>0</th>\n",
       "      <td>chad.chen</td>\n",
       "      <td>paula7980</td>\n",
       "      <td>78.61</td>\n",
       "      <td>2018-02-12</td>\n",
       "      <td>paula7980</td>\n",
       "      <td>chad.chen</td>\n",
       "      <td>2018-07-15</td>\n",
       "      <td>153 days</td>\n",
       "    </tr>\n",
       "    <tr>\n",
       "      <th>33</th>\n",
       "      <td>sthompson</td>\n",
       "      <td>andrade</td>\n",
       "      <td>14.07</td>\n",
       "      <td>2018-05-09</td>\n",
       "      <td>andrade</td>\n",
       "      <td>sthompson</td>\n",
       "      <td>2018-09-21</td>\n",
       "      <td>135 days</td>\n",
       "    </tr>\n",
       "    <tr>\n",
       "      <th>4</th>\n",
       "      <td>lacey8987</td>\n",
       "      <td>mcguire</td>\n",
       "      <td>54.09</td>\n",
       "      <td>2018-03-13</td>\n",
       "      <td>mcguire</td>\n",
       "      <td>lacey8987</td>\n",
       "      <td>2018-06-28</td>\n",
       "      <td>107 days</td>\n",
       "    </tr>\n",
       "    <tr>\n",
       "      <th>53</th>\n",
       "      <td>marcus.berry</td>\n",
       "      <td>melissa.mendoza</td>\n",
       "      <td>71.48</td>\n",
       "      <td>2018-05-31</td>\n",
       "      <td>melissa.mendoza</td>\n",
       "      <td>marcus.berry</td>\n",
       "      <td>2018-09-06</td>\n",
       "      <td>98 days</td>\n",
       "    </tr>\n",
       "    <tr>\n",
       "      <th>39</th>\n",
       "      <td>bishop</td>\n",
       "      <td>massey2102</td>\n",
       "      <td>18.27</td>\n",
       "      <td>2018-05-16</td>\n",
       "      <td>massey2102</td>\n",
       "      <td>bishop</td>\n",
       "      <td>2018-08-15</td>\n",
       "      <td>91 days</td>\n",
       "    </tr>\n",
       "  </tbody>\n",
       "</table>\n",
       "</div>"
      ],
      "text/plain": [
       "       from_user          to_user  amount request_date           sender  \\\n",
       "0      chad.chen        paula7980   78.61   2018-02-12        paula7980   \n",
       "33     sthompson          andrade   14.07   2018-05-09          andrade   \n",
       "4      lacey8987          mcguire   54.09   2018-03-13          mcguire   \n",
       "53  marcus.berry  melissa.mendoza   71.48   2018-05-31  melissa.mendoza   \n",
       "39        bishop       massey2102   18.27   2018-05-16       massey2102   \n",
       "\n",
       "        receiver  sent_date time_passed  \n",
       "0      chad.chen 2018-07-15    153 days  \n",
       "33     sthompson 2018-09-21    135 days  \n",
       "4      lacey8987 2018-06-28    107 days  \n",
       "53  marcus.berry 2018-09-06     98 days  \n",
       "39        bishop 2018-08-15     91 days  "
      ]
     },
     "execution_count": 84,
     "metadata": {},
     "output_type": "execute_result"
    }
   ],
   "source": [
    "successful_requests.sort_values(by='time_passed', ascending=False).head(5)"
   ]
  },
  {
   "cell_type": "code",
   "execution_count": 85,
   "id": "eca6d27b",
   "metadata": {
    "scrolled": true
   },
   "outputs": [
    {
     "data": {
      "text/plain": [
       "'Wow! $10,496.47 has passed through the request system in 214 transactions!!!'"
      ]
     },
     "execution_count": 85,
     "metadata": {},
     "output_type": "execute_result"
    }
   ],
   "source": [
    "\"Wow! ${:,.2f} has passed through the request system in {} transactions!!!\".format(\n",
    "    successful_requests.amount.sum(),\n",
    "    len(successful_requests),\n",
    ")"
   ]
  },
  {
   "cell_type": "code",
   "execution_count": 86,
   "id": "76b63b01",
   "metadata": {},
   "outputs": [
    {
     "data": {
      "text/plain": [
       "'Wow! $10,496.47 has passed through the request system in 214 transactions!!!'"
      ]
     },
     "execution_count": 86,
     "metadata": {},
     "output_type": "execute_result"
    }
   ],
   "source": [
    "# Setup\n",
    "from datetime import datetime\n",
    "import os\n",
    "\n",
    "import numpy as np\n",
    "import pandas as pd\n",
    "\n",
    "from utils import render\n",
    "\n",
    "users = pd.read_csv(os.path.join('data', 'users.csv'), index_col=0)\n",
    "transactions = pd.read_csv(os.path.join('data', 'transactions.csv'), index_col=0)\n",
    "requests = pd.read_csv(os.path.join('data', 'requests.csv'), index_col=0)\n",
    "\n",
    "# Perform the merge from the previous notebook \n",
    "#  (s2n06-combining-dataframes.ipynb)\n",
    "successful_requests = requests.merge(\n",
    "    transactions,\n",
    "    left_on=['from_user', 'to_user', 'amount'], \n",
    "    right_on=['receiver', 'sender', 'amount']\n",
    ")\n",
    "\n",
    "# Statement from previous notebook\n",
    "\"Wow! ${:,.2f} has passed through the request system in {} transactions!!!\".format(\n",
    "    successful_requests.amount.sum(),\n",
    "    len(successful_requests),\n",
    ")"
   ]
  },
  {
   "cell_type": "code",
   "execution_count": 87,
   "id": "9e6ed2c0",
   "metadata": {},
   "outputs": [
    {
     "data": {
      "text/plain": [
       "'Wow! $9,316.12 has passed through the request system in 191 transactions!!!'"
      ]
     },
     "execution_count": 87,
     "metadata": {},
     "output_type": "execute_result"
    }
   ],
   "source": [
    "# Let's get our records sorted chronologically\n",
    "successful_requests.sort_values('request_date', inplace=True) \n",
    "\n",
    "# And then we'll drop dupes keeping only the last one. \n",
    "#  Note the use of the inplace keyword\n",
    "successful_requests.drop_duplicates(('from_user', 'to_user', 'amount'), keep='last', inplace=True)\n",
    "\n",
    "# Statement from previous notebook\n",
    "\"Wow! ${:,.2f} has passed through the request system in {} transactions!!!\".format(\n",
    "    successful_requests.amount.sum(),\n",
    "    len(successful_requests),\n",
    ")"
   ]
  },
  {
   "cell_type": "code",
   "execution_count": 88,
   "id": "7aebb183",
   "metadata": {
    "scrolled": true
   },
   "outputs": [
    {
     "data": {
      "text/html": [
       "<div>\n",
       "<style scoped>\n",
       "    .dataframe tbody tr th:only-of-type {\n",
       "        vertical-align: middle;\n",
       "    }\n",
       "\n",
       "    .dataframe tbody tr th {\n",
       "        vertical-align: top;\n",
       "    }\n",
       "\n",
       "    .dataframe thead th {\n",
       "        text-align: right;\n",
       "    }\n",
       "</style>\n",
       "<table border=\"1\" class=\"dataframe\">\n",
       "  <thead>\n",
       "    <tr style=\"text-align: right;\">\n",
       "      <th></th>\n",
       "      <th>first_name</th>\n",
       "      <th>last_name</th>\n",
       "      <th>email</th>\n",
       "      <th>email_verified</th>\n",
       "      <th>signup_date</th>\n",
       "      <th>referral_count</th>\n",
       "      <th>balance</th>\n",
       "    </tr>\n",
       "  </thead>\n",
       "  <tbody>\n",
       "    <tr>\n",
       "      <th>aaron</th>\n",
       "      <td>Aaron</td>\n",
       "      <td>Davis</td>\n",
       "      <td>aaron6348@gmail.com</td>\n",
       "      <td>True</td>\n",
       "      <td>2018-08-31</td>\n",
       "      <td>6</td>\n",
       "      <td>18.14</td>\n",
       "    </tr>\n",
       "    <tr>\n",
       "      <th>acook</th>\n",
       "      <td>Anthony</td>\n",
       "      <td>Cook</td>\n",
       "      <td>cook@gmail.com</td>\n",
       "      <td>True</td>\n",
       "      <td>2018-05-12</td>\n",
       "      <td>2</td>\n",
       "      <td>55.45</td>\n",
       "    </tr>\n",
       "    <tr>\n",
       "      <th>adam.saunders</th>\n",
       "      <td>Adam</td>\n",
       "      <td>Saunders</td>\n",
       "      <td>adam@gmail.com</td>\n",
       "      <td>False</td>\n",
       "      <td>2018-05-29</td>\n",
       "      <td>3</td>\n",
       "      <td>72.12</td>\n",
       "    </tr>\n",
       "    <tr>\n",
       "      <th>adrian</th>\n",
       "      <td>Adrian</td>\n",
       "      <td>Fang</td>\n",
       "      <td>adrian.fang@teamtreehouse.com</td>\n",
       "      <td>True</td>\n",
       "      <td>2018-04-28</td>\n",
       "      <td>3</td>\n",
       "      <td>30.01</td>\n",
       "    </tr>\n",
       "    <tr>\n",
       "      <th>adrian.blair</th>\n",
       "      <td>Adrian</td>\n",
       "      <td>Blair</td>\n",
       "      <td>adrian9335@gmail.com</td>\n",
       "      <td>True</td>\n",
       "      <td>2018-06-16</td>\n",
       "      <td>7</td>\n",
       "      <td>25.85</td>\n",
       "    </tr>\n",
       "  </tbody>\n",
       "</table>\n",
       "</div>"
      ],
      "text/plain": [
       "              first_name last_name                          email  \\\n",
       "aaron              Aaron     Davis            aaron6348@gmail.com   \n",
       "acook            Anthony      Cook                 cook@gmail.com   \n",
       "adam.saunders       Adam  Saunders                 adam@gmail.com   \n",
       "adrian            Adrian      Fang  adrian.fang@teamtreehouse.com   \n",
       "adrian.blair      Adrian     Blair           adrian9335@gmail.com   \n",
       "\n",
       "               email_verified signup_date  referral_count  balance  \n",
       "aaron                    True  2018-08-31               6    18.14  \n",
       "acook                    True  2018-05-12               2    55.45  \n",
       "adam.saunders           False  2018-05-29               3    72.12  \n",
       "adrian                   True  2018-04-28               3    30.01  \n",
       "adrian.blair             True  2018-06-16               7    25.85  "
      ]
     },
     "execution_count": 88,
     "metadata": {},
     "output_type": "execute_result"
    }
   ],
   "source": [
    "# Create a boolean array where we check to see if the label (username) \n",
    "#   is in the `from_user` Series.\n",
    "made_request_index = users.index.isin(requests.from_user)\n",
    "# This will get us a list of all users who **have** made a request\n",
    "users[made_request_index].head()"
   ]
  },
  {
   "cell_type": "code",
   "execution_count": 89,
   "id": "36a2db8c",
   "metadata": {
    "scrolled": true
   },
   "outputs": [
    {
     "data": {
      "text/html": [
       "<div>\n",
       "<style scoped>\n",
       "    .dataframe tbody tr th:only-of-type {\n",
       "        vertical-align: middle;\n",
       "    }\n",
       "\n",
       "    .dataframe tbody tr th {\n",
       "        vertical-align: top;\n",
       "    }\n",
       "\n",
       "    .dataframe thead th {\n",
       "        text-align: right;\n",
       "    }\n",
       "</style>\n",
       "<table border=\"1\" class=\"dataframe\">\n",
       "  <thead>\n",
       "    <tr style=\"text-align: right;\">\n",
       "      <th></th>\n",
       "      <th>first_name</th>\n",
       "      <th>last_name</th>\n",
       "      <th>email</th>\n",
       "      <th>email_verified</th>\n",
       "      <th>signup_date</th>\n",
       "      <th>referral_count</th>\n",
       "      <th>balance</th>\n",
       "    </tr>\n",
       "  </thead>\n",
       "  <tbody>\n",
       "    <tr>\n",
       "      <th>alan9443</th>\n",
       "      <td>Alan</td>\n",
       "      <td>Pope</td>\n",
       "      <td>pope@hotmail.com</td>\n",
       "      <td>True</td>\n",
       "      <td>2018-04-17</td>\n",
       "      <td>0</td>\n",
       "      <td>56.09</td>\n",
       "    </tr>\n",
       "    <tr>\n",
       "      <th>alvarado</th>\n",
       "      <td>Denise</td>\n",
       "      <td>Alvarado</td>\n",
       "      <td>alvarado@hotmail.com</td>\n",
       "      <td>True</td>\n",
       "      <td>2018-09-07</td>\n",
       "      <td>6</td>\n",
       "      <td>26.72</td>\n",
       "    </tr>\n",
       "    <tr>\n",
       "      <th>amiller</th>\n",
       "      <td>Anne</td>\n",
       "      <td>Miller</td>\n",
       "      <td>miller@hotmail.com</td>\n",
       "      <td>False</td>\n",
       "      <td>2018-06-02</td>\n",
       "      <td>5</td>\n",
       "      <td>86.28</td>\n",
       "    </tr>\n",
       "    <tr>\n",
       "      <th>andersen</th>\n",
       "      <td>Mark</td>\n",
       "      <td>Andersen</td>\n",
       "      <td>mark.andersen@yahoo.com</td>\n",
       "      <td>True</td>\n",
       "      <td>2018-08-21</td>\n",
       "      <td>3</td>\n",
       "      <td>75.69</td>\n",
       "    </tr>\n",
       "    <tr>\n",
       "      <th>andrade</th>\n",
       "      <td>Melissa</td>\n",
       "      <td>Andrade</td>\n",
       "      <td>mandrade@yahoo.com</td>\n",
       "      <td>True</td>\n",
       "      <td>2018-01-06</td>\n",
       "      <td>3</td>\n",
       "      <td>83.22</td>\n",
       "    </tr>\n",
       "  </tbody>\n",
       "</table>\n",
       "</div>"
      ],
      "text/plain": [
       "         first_name last_name                    email  email_verified  \\\n",
       "alan9443       Alan      Pope         pope@hotmail.com            True   \n",
       "alvarado     Denise  Alvarado     alvarado@hotmail.com            True   \n",
       "amiller        Anne    Miller       miller@hotmail.com           False   \n",
       "andersen       Mark  Andersen  mark.andersen@yahoo.com            True   \n",
       "andrade     Melissa   Andrade       mandrade@yahoo.com            True   \n",
       "\n",
       "         signup_date  referral_count  balance  \n",
       "alan9443  2018-04-17               0    56.09  \n",
       "alvarado  2018-09-07               6    26.72  \n",
       "amiller   2018-06-02               5    86.28  \n",
       "andersen  2018-08-21               3    75.69  \n",
       "andrade   2018-01-06               3    83.22  "
      ]
     },
     "execution_count": 89,
     "metadata": {},
     "output_type": "execute_result"
    }
   ],
   "source": [
    "users[~made_request_index].head()"
   ]
  },
  {
   "cell_type": "code",
   "execution_count": 90,
   "id": "0a3ac797",
   "metadata": {
    "scrolled": true
   },
   "outputs": [
    {
     "data": {
      "text/plain": [
       "first_name        475\n",
       "last_name         430\n",
       "email             475\n",
       "email_verified    475\n",
       "signup_date       475\n",
       "referral_count    475\n",
       "balance           475\n",
       "dtype: int64"
      ]
     },
     "execution_count": 90,
     "metadata": {},
     "output_type": "execute_result"
    }
   ],
   "source": [
    "users.count()"
   ]
  },
  {
   "cell_type": "code",
   "execution_count": 91,
   "id": "507993f8",
   "metadata": {
    "scrolled": true
   },
   "outputs": [
    {
     "data": {
      "text/html": [
       "<div>\n",
       "<style scoped>\n",
       "    .dataframe tbody tr th:only-of-type {\n",
       "        vertical-align: middle;\n",
       "    }\n",
       "\n",
       "    .dataframe tbody tr th {\n",
       "        vertical-align: top;\n",
       "    }\n",
       "\n",
       "    .dataframe thead th {\n",
       "        text-align: right;\n",
       "    }\n",
       "</style>\n",
       "<table border=\"1\" class=\"dataframe\">\n",
       "  <thead>\n",
       "    <tr style=\"text-align: right;\">\n",
       "      <th></th>\n",
       "      <th>first_name</th>\n",
       "      <th>last_name</th>\n",
       "      <th>email</th>\n",
       "      <th>email_verified</th>\n",
       "      <th>signup_date</th>\n",
       "      <th>referral_count</th>\n",
       "      <th>balance</th>\n",
       "    </tr>\n",
       "  </thead>\n",
       "  <tbody>\n",
       "    <tr>\n",
       "      <th>anthony3761</th>\n",
       "      <td>Anthony</td>\n",
       "      <td>NaN</td>\n",
       "      <td>anthony9581@gmail.com</td>\n",
       "      <td>True</td>\n",
       "      <td>2018-08-16</td>\n",
       "      <td>6</td>\n",
       "      <td>59.81</td>\n",
       "    </tr>\n",
       "    <tr>\n",
       "      <th>bradley</th>\n",
       "      <td>Bradley</td>\n",
       "      <td>NaN</td>\n",
       "      <td>bradley3941@henderson.com</td>\n",
       "      <td>True</td>\n",
       "      <td>2018-06-24</td>\n",
       "      <td>4</td>\n",
       "      <td>22.24</td>\n",
       "    </tr>\n",
       "    <tr>\n",
       "      <th>bradley7808</th>\n",
       "      <td>Bradley</td>\n",
       "      <td>NaN</td>\n",
       "      <td>bradley8794@yahoo.com</td>\n",
       "      <td>True</td>\n",
       "      <td>2018-06-15</td>\n",
       "      <td>1</td>\n",
       "      <td>76.49</td>\n",
       "    </tr>\n",
       "    <tr>\n",
       "      <th>brenda</th>\n",
       "      <td>Brenda</td>\n",
       "      <td>NaN</td>\n",
       "      <td>brenda@hotmail.com</td>\n",
       "      <td>True</td>\n",
       "      <td>2018-07-28</td>\n",
       "      <td>7</td>\n",
       "      <td>6.18</td>\n",
       "    </tr>\n",
       "    <tr>\n",
       "      <th>brooke2027</th>\n",
       "      <td>Brooke</td>\n",
       "      <td>NaN</td>\n",
       "      <td>brooke6938@gmail.com</td>\n",
       "      <td>False</td>\n",
       "      <td>2018-05-23</td>\n",
       "      <td>0</td>\n",
       "      <td>7.22</td>\n",
       "    </tr>\n",
       "  </tbody>\n",
       "</table>\n",
       "</div>"
      ],
      "text/plain": [
       "            first_name last_name                      email  email_verified  \\\n",
       "anthony3761    Anthony       NaN      anthony9581@gmail.com            True   \n",
       "bradley        Bradley       NaN  bradley3941@henderson.com            True   \n",
       "bradley7808    Bradley       NaN      bradley8794@yahoo.com            True   \n",
       "brenda          Brenda       NaN         brenda@hotmail.com            True   \n",
       "brooke2027      Brooke       NaN       brooke6938@gmail.com           False   \n",
       "\n",
       "            signup_date  referral_count  balance  \n",
       "anthony3761  2018-08-16               6    59.81  \n",
       "bradley      2018-06-24               4    22.24  \n",
       "bradley7808  2018-06-15               1    76.49  \n",
       "brenda       2018-07-28               7     6.18  \n",
       "brooke2027   2018-05-23               0     7.22  "
      ]
     },
     "execution_count": 91,
     "metadata": {},
     "output_type": "execute_result"
    }
   ],
   "source": [
    "# Gather all users where the last name is missing\n",
    "users[users.last_name.isna()].head()"
   ]
  },
  {
   "cell_type": "code",
   "execution_count": 92,
   "id": "bd576c58",
   "metadata": {
    "scrolled": true
   },
   "outputs": [
    {
     "data": {
      "text/html": [
       "<div>\n",
       "<style scoped>\n",
       "    .dataframe tbody tr th:only-of-type {\n",
       "        vertical-align: middle;\n",
       "    }\n",
       "\n",
       "    .dataframe tbody tr th {\n",
       "        vertical-align: top;\n",
       "    }\n",
       "\n",
       "    .dataframe thead th {\n",
       "        text-align: right;\n",
       "    }\n",
       "</style>\n",
       "<table border=\"1\" class=\"dataframe\">\n",
       "  <thead>\n",
       "    <tr style=\"text-align: right;\">\n",
       "      <th></th>\n",
       "      <th>first_name</th>\n",
       "      <th>last_name</th>\n",
       "      <th>email</th>\n",
       "      <th>email_verified</th>\n",
       "      <th>signup_date</th>\n",
       "      <th>referral_count</th>\n",
       "      <th>balance</th>\n",
       "    </tr>\n",
       "  </thead>\n",
       "  <tbody>\n",
       "  </tbody>\n",
       "</table>\n",
       "</div>"
      ],
      "text/plain": [
       "Empty DataFrame\n",
       "Columns: [first_name, last_name, email, email_verified, signup_date, referral_count, balance]\n",
       "Index: []"
      ]
     },
     "execution_count": 92,
     "metadata": {},
     "output_type": "execute_result"
    }
   ],
   "source": [
    "# Make a copy of the DataFrame with \"Unknown\" as the last name where it is missing\n",
    "users_with_unknown = users.fillna('Unknown')\n",
    "\n",
    "# Make sure we got 'em all\n",
    "users_with_unknown[users_with_unknown.last_name.isna()]"
   ]
  },
  {
   "cell_type": "code",
   "execution_count": 93,
   "id": "5bb3c694",
   "metadata": {},
   "outputs": [
    {
     "data": {
      "text/plain": [
       "(475, 430)"
      ]
     },
     "execution_count": 93,
     "metadata": {},
     "output_type": "execute_result"
    }
   ],
   "source": [
    "users_with_last_names = users.dropna()\n",
    "\n",
    "# Row counts of the original \n",
    "(len(users), len(users_with_last_names))"
   ]
  },
  {
   "cell_type": "code",
   "execution_count": 94,
   "id": "b3d71e26",
   "metadata": {},
   "outputs": [],
   "source": [
    "# Setup\n",
    "import os\n",
    "\n",
    "import pandas as pd\n",
    "\n",
    "from utils import make_chaos\n",
    "\n",
    "pd.options.display.max_rows = 10\n",
    "transactions = pd.read_csv(os.path.join('data', 'transactions.csv'), index_col=0)\n",
    "# Pay no attention to the person behind the curtain\n",
    "make_chaos(transactions, 42, ['sender'], lambda val: '$' + val)\n",
    "make_chaos(transactions, 88, ['receiver'], lambda val: val.upper())"
   ]
  },
  {
   "cell_type": "code",
   "execution_count": 95,
   "id": "862c8931",
   "metadata": {},
   "outputs": [
    {
     "data": {
      "text/html": [
       "<div>\n",
       "<style scoped>\n",
       "    .dataframe tbody tr th:only-of-type {\n",
       "        vertical-align: middle;\n",
       "    }\n",
       "\n",
       "    .dataframe tbody tr th {\n",
       "        vertical-align: top;\n",
       "    }\n",
       "\n",
       "    .dataframe thead th {\n",
       "        text-align: right;\n",
       "    }\n",
       "</style>\n",
       "<table border=\"1\" class=\"dataframe\">\n",
       "  <thead>\n",
       "    <tr style=\"text-align: right;\">\n",
       "      <th></th>\n",
       "      <th>sender</th>\n",
       "      <th>receiver</th>\n",
       "      <th>amount</th>\n",
       "      <th>sent_date</th>\n",
       "    </tr>\n",
       "  </thead>\n",
       "  <tbody>\n",
       "    <tr>\n",
       "      <th>59</th>\n",
       "      <td>$porter</td>\n",
       "      <td>gail7896</td>\n",
       "      <td>75.16</td>\n",
       "      <td>2018-05-14</td>\n",
       "    </tr>\n",
       "    <tr>\n",
       "      <th>70</th>\n",
       "      <td>$emily.lewis</td>\n",
       "      <td>kevin</td>\n",
       "      <td>5.49</td>\n",
       "      <td>2018-05-21</td>\n",
       "    </tr>\n",
       "    <tr>\n",
       "      <th>158</th>\n",
       "      <td>$robinson</td>\n",
       "      <td>rodriguez</td>\n",
       "      <td>8.91</td>\n",
       "      <td>2018-06-25</td>\n",
       "    </tr>\n",
       "    <tr>\n",
       "      <th>168</th>\n",
       "      <td>$nancy</td>\n",
       "      <td>margaret265</td>\n",
       "      <td>84.15</td>\n",
       "      <td>2018-06-26</td>\n",
       "    </tr>\n",
       "    <tr>\n",
       "      <th>198</th>\n",
       "      <td>$acook</td>\n",
       "      <td>adam.saunders</td>\n",
       "      <td>9.31</td>\n",
       "      <td>2018-07-04</td>\n",
       "    </tr>\n",
       "    <tr>\n",
       "      <th>...</th>\n",
       "      <td>...</td>\n",
       "      <td>...</td>\n",
       "      <td>...</td>\n",
       "      <td>...</td>\n",
       "    </tr>\n",
       "    <tr>\n",
       "      <th>877</th>\n",
       "      <td>$april9082</td>\n",
       "      <td>jacob.davis</td>\n",
       "      <td>50.37</td>\n",
       "      <td>2018-09-21</td>\n",
       "    </tr>\n",
       "    <tr>\n",
       "      <th>889</th>\n",
       "      <td>$victor</td>\n",
       "      <td>anthony1788</td>\n",
       "      <td>39.06</td>\n",
       "      <td>2018-09-21</td>\n",
       "    </tr>\n",
       "    <tr>\n",
       "      <th>900</th>\n",
       "      <td>$andersen</td>\n",
       "      <td>corey.ingram</td>\n",
       "      <td>4.81</td>\n",
       "      <td>2018-09-22</td>\n",
       "    </tr>\n",
       "    <tr>\n",
       "      <th>927</th>\n",
       "      <td>$janet.williams</td>\n",
       "      <td>bsmith</td>\n",
       "      <td>50.15</td>\n",
       "      <td>2018-09-23</td>\n",
       "    </tr>\n",
       "    <tr>\n",
       "      <th>934</th>\n",
       "      <td>$robert8280</td>\n",
       "      <td>roger</td>\n",
       "      <td>98.35</td>\n",
       "      <td>2018-09-24</td>\n",
       "    </tr>\n",
       "  </tbody>\n",
       "</table>\n",
       "<p>42 rows × 4 columns</p>\n",
       "</div>"
      ],
      "text/plain": [
       "              sender       receiver  amount   sent_date\n",
       "59           $porter       gail7896   75.16  2018-05-14\n",
       "70      $emily.lewis          kevin    5.49  2018-05-21\n",
       "158        $robinson      rodriguez    8.91  2018-06-25\n",
       "168           $nancy    margaret265   84.15  2018-06-26\n",
       "198           $acook  adam.saunders    9.31  2018-07-04\n",
       "..               ...            ...     ...         ...\n",
       "877       $april9082    jacob.davis   50.37  2018-09-21\n",
       "889          $victor    anthony1788   39.06  2018-09-21\n",
       "900        $andersen   corey.ingram    4.81  2018-09-22\n",
       "927  $janet.williams         bsmith   50.15  2018-09-23\n",
       "934      $robert8280          roger   98.35  2018-09-24\n",
       "\n",
       "[42 rows x 4 columns]"
      ]
     },
     "execution_count": 95,
     "metadata": {},
     "output_type": "execute_result"
    }
   ],
   "source": [
    "transactions[transactions.sender.str.startswith('$')]"
   ]
  },
  {
   "cell_type": "code",
   "execution_count": 96,
   "id": "ffab0bcf",
   "metadata": {},
   "outputs": [
    {
     "name": "stderr",
     "output_type": "stream",
     "text": [
      "C:\\Users\\gabri\\AppData\\Local\\Temp\\ipykernel_20580\\2070587804.py:2: FutureWarning: The default value of regex will change from True to False in a future version. In addition, single character regular expressions will *not* be treated as literal strings when regex=True.\n",
      "  transactions.sender = transactions.sender.str.replace('$', '')\n"
     ]
    },
    {
     "data": {
      "text/plain": [
       "0"
      ]
     },
     "execution_count": 96,
     "metadata": {},
     "output_type": "execute_result"
    }
   ],
   "source": [
    "# Replace all \"$\" in the sender field with an empty string\n",
    "transactions.sender = transactions.sender.str.replace('$', '') \n",
    "# Verify we got them all\n",
    "len(transactions[transactions.sender.str.startswith('$')])"
   ]
  },
  {
   "cell_type": "code",
   "execution_count": 97,
   "id": "3e1c405b",
   "metadata": {},
   "outputs": [
    {
     "data": {
      "text/html": [
       "<div>\n",
       "<style scoped>\n",
       "    .dataframe tbody tr th:only-of-type {\n",
       "        vertical-align: middle;\n",
       "    }\n",
       "\n",
       "    .dataframe tbody tr th {\n",
       "        vertical-align: top;\n",
       "    }\n",
       "\n",
       "    .dataframe thead th {\n",
       "        text-align: right;\n",
       "    }\n",
       "</style>\n",
       "<table border=\"1\" class=\"dataframe\">\n",
       "  <thead>\n",
       "    <tr style=\"text-align: right;\">\n",
       "      <th></th>\n",
       "      <th>sender</th>\n",
       "      <th>receiver</th>\n",
       "      <th>amount</th>\n",
       "      <th>sent_date</th>\n",
       "    </tr>\n",
       "  </thead>\n",
       "  <tbody>\n",
       "    <tr>\n",
       "      <th>2</th>\n",
       "      <td>rose.eaton</td>\n",
       "      <td>EMILY.LEWIS</td>\n",
       "      <td>62.67</td>\n",
       "      <td>2018-02-15</td>\n",
       "    </tr>\n",
       "    <tr>\n",
       "      <th>5</th>\n",
       "      <td>francis.hernandez</td>\n",
       "      <td>LMOORE</td>\n",
       "      <td>91.46</td>\n",
       "      <td>2018-03-14</td>\n",
       "    </tr>\n",
       "    <tr>\n",
       "      <th>14</th>\n",
       "      <td>palmer</td>\n",
       "      <td>CHAD.CHEN</td>\n",
       "      <td>36.27</td>\n",
       "      <td>2018-04-07</td>\n",
       "    </tr>\n",
       "    <tr>\n",
       "      <th>28</th>\n",
       "      <td>elang</td>\n",
       "      <td>DONNA1922</td>\n",
       "      <td>26.07</td>\n",
       "      <td>2018-04-23</td>\n",
       "    </tr>\n",
       "    <tr>\n",
       "      <th>34</th>\n",
       "      <td>payne</td>\n",
       "      <td>GRIFFIN4992</td>\n",
       "      <td>85.21</td>\n",
       "      <td>2018-04-26</td>\n",
       "    </tr>\n",
       "    <tr>\n",
       "      <th>...</th>\n",
       "      <td>...</td>\n",
       "      <td>...</td>\n",
       "      <td>...</td>\n",
       "      <td>...</td>\n",
       "    </tr>\n",
       "    <tr>\n",
       "      <th>963</th>\n",
       "      <td>stanley7729</td>\n",
       "      <td>JOSEPH.LOPEZ</td>\n",
       "      <td>50.84</td>\n",
       "      <td>2018-09-25</td>\n",
       "    </tr>\n",
       "    <tr>\n",
       "      <th>977</th>\n",
       "      <td>martha6969</td>\n",
       "      <td>PATRICIA</td>\n",
       "      <td>87.33</td>\n",
       "      <td>2018-09-25</td>\n",
       "    </tr>\n",
       "    <tr>\n",
       "      <th>987</th>\n",
       "      <td>alvarado</td>\n",
       "      <td>PAMELA</td>\n",
       "      <td>48.74</td>\n",
       "      <td>2018-09-25</td>\n",
       "    </tr>\n",
       "    <tr>\n",
       "      <th>990</th>\n",
       "      <td>robert</td>\n",
       "      <td>HEATHER.WADE</td>\n",
       "      <td>86.44</td>\n",
       "      <td>2018-09-25</td>\n",
       "    </tr>\n",
       "    <tr>\n",
       "      <th>992</th>\n",
       "      <td>pamela</td>\n",
       "      <td>CALEB</td>\n",
       "      <td>25.01</td>\n",
       "      <td>2018-09-25</td>\n",
       "    </tr>\n",
       "  </tbody>\n",
       "</table>\n",
       "<p>88 rows × 4 columns</p>\n",
       "</div>"
      ],
      "text/plain": [
       "                sender      receiver  amount   sent_date\n",
       "2           rose.eaton   EMILY.LEWIS   62.67  2018-02-15\n",
       "5    francis.hernandez        LMOORE   91.46  2018-03-14\n",
       "14              palmer     CHAD.CHEN   36.27  2018-04-07\n",
       "28               elang     DONNA1922   26.07  2018-04-23\n",
       "34               payne   GRIFFIN4992   85.21  2018-04-26\n",
       "..                 ...           ...     ...         ...\n",
       "963        stanley7729  JOSEPH.LOPEZ   50.84  2018-09-25\n",
       "977         martha6969      PATRICIA   87.33  2018-09-25\n",
       "987           alvarado        PAMELA   48.74  2018-09-25\n",
       "990             robert  HEATHER.WADE   86.44  2018-09-25\n",
       "992             pamela         CALEB   25.01  2018-09-25\n",
       "\n",
       "[88 rows x 4 columns]"
      ]
     },
     "execution_count": 97,
     "metadata": {},
     "output_type": "execute_result"
    }
   ],
   "source": [
    "transactions[transactions.receiver.str.isupper()]"
   ]
  },
  {
   "cell_type": "code",
   "execution_count": 98,
   "id": "037009ec",
   "metadata": {},
   "outputs": [
    {
     "data": {
      "text/plain": [
       "0"
      ]
     },
     "execution_count": 98,
     "metadata": {},
     "output_type": "execute_result"
    }
   ],
   "source": [
    "# Update the receiver column of the specific rows that are uppercased.\n",
    "transactions.loc[transactions.receiver.str.isupper(), 'receiver'] = transactions.receiver.str.lower()\n",
    "# Verify that we got them\n",
    "len(transactions[transactions.receiver.str.isupper()])"
   ]
  },
  {
   "cell_type": "code",
   "execution_count": 99,
   "id": "09838098",
   "metadata": {},
   "outputs": [],
   "source": [
    "# Setup\n",
    "import os\n",
    "\n",
    "import pandas as pd\n",
    "\n",
    "from utils import make_chaos\n",
    "\n",
    "from tests.helpers import check\n",
    "\n",
    "pd.options.display.max_rows = 10\n",
    "users = pd.read_csv(os.path.join('data', 'users.csv'), index_col=0)\n",
    "# Pay no attention to the person behind the curtain\n",
    "make_chaos(users, 19, ['first_name'], lambda val: val.lower())"
   ]
  },
  {
   "cell_type": "code",
   "execution_count": 100,
   "id": "01495712",
   "metadata": {},
   "outputs": [
    {
     "data": {
      "text/html": [
       "<div>\n",
       "<style scoped>\n",
       "    .dataframe tbody tr th:only-of-type {\n",
       "        vertical-align: middle;\n",
       "    }\n",
       "\n",
       "    .dataframe tbody tr th {\n",
       "        vertical-align: top;\n",
       "    }\n",
       "\n",
       "    .dataframe thead th {\n",
       "        text-align: right;\n",
       "    }\n",
       "</style>\n",
       "<table border=\"1\" class=\"dataframe\">\n",
       "  <thead>\n",
       "    <tr style=\"text-align: right;\">\n",
       "      <th></th>\n",
       "      <th>first_name</th>\n",
       "      <th>last_name</th>\n",
       "      <th>email</th>\n",
       "      <th>email_verified</th>\n",
       "      <th>signup_date</th>\n",
       "      <th>referral_count</th>\n",
       "      <th>balance</th>\n",
       "    </tr>\n",
       "  </thead>\n",
       "  <tbody>\n",
       "    <tr>\n",
       "      <th>aaron</th>\n",
       "      <td>Aaron</td>\n",
       "      <td>Davis</td>\n",
       "      <td>aaron6348@gmail.com</td>\n",
       "      <td>True</td>\n",
       "      <td>2018-08-31</td>\n",
       "      <td>6.0</td>\n",
       "      <td>18.14</td>\n",
       "    </tr>\n",
       "    <tr>\n",
       "      <th>acook</th>\n",
       "      <td>Anthony</td>\n",
       "      <td>Cook</td>\n",
       "      <td>cook@gmail.com</td>\n",
       "      <td>True</td>\n",
       "      <td>2018-05-12</td>\n",
       "      <td>2.0</td>\n",
       "      <td>55.45</td>\n",
       "    </tr>\n",
       "    <tr>\n",
       "      <th>adam.saunders</th>\n",
       "      <td>Adam</td>\n",
       "      <td>Saunders</td>\n",
       "      <td>adam@gmail.com</td>\n",
       "      <td>False</td>\n",
       "      <td>2018-05-29</td>\n",
       "      <td>3.0</td>\n",
       "      <td>72.12</td>\n",
       "    </tr>\n",
       "    <tr>\n",
       "      <th>adrian</th>\n",
       "      <td>Adrian</td>\n",
       "      <td>Fang</td>\n",
       "      <td>adrian.fang@teamtreehouse.com</td>\n",
       "      <td>True</td>\n",
       "      <td>2018-04-28</td>\n",
       "      <td>3.0</td>\n",
       "      <td>30.01</td>\n",
       "    </tr>\n",
       "    <tr>\n",
       "      <th>adrian.blair</th>\n",
       "      <td>Adrian</td>\n",
       "      <td>Blair</td>\n",
       "      <td>adrian9335@gmail.com</td>\n",
       "      <td>True</td>\n",
       "      <td>2018-06-16</td>\n",
       "      <td>7.0</td>\n",
       "      <td>25.85</td>\n",
       "    </tr>\n",
       "    <tr>\n",
       "      <th>...</th>\n",
       "      <td>...</td>\n",
       "      <td>...</td>\n",
       "      <td>...</td>\n",
       "      <td>...</td>\n",
       "      <td>...</td>\n",
       "      <td>...</td>\n",
       "      <td>...</td>\n",
       "    </tr>\n",
       "    <tr>\n",
       "      <th>wilson</th>\n",
       "      <td>Robert</td>\n",
       "      <td>Wilson</td>\n",
       "      <td>robert@yahoo.com</td>\n",
       "      <td>False</td>\n",
       "      <td>2018-05-16</td>\n",
       "      <td>5.0</td>\n",
       "      <td>59.75</td>\n",
       "    </tr>\n",
       "    <tr>\n",
       "      <th>wking</th>\n",
       "      <td>Wanda</td>\n",
       "      <td>King</td>\n",
       "      <td>wanda.king@holt.com</td>\n",
       "      <td>True</td>\n",
       "      <td>2018-06-01</td>\n",
       "      <td>2.0</td>\n",
       "      <td>67.08</td>\n",
       "    </tr>\n",
       "    <tr>\n",
       "      <th>wright3590</th>\n",
       "      <td>Jacqueline</td>\n",
       "      <td>Wright</td>\n",
       "      <td>jacqueline.wright@gonzalez.com</td>\n",
       "      <td>True</td>\n",
       "      <td>2018-02-08</td>\n",
       "      <td>6.0</td>\n",
       "      <td>18.48</td>\n",
       "    </tr>\n",
       "    <tr>\n",
       "      <th>young</th>\n",
       "      <td>Jessica</td>\n",
       "      <td>Young</td>\n",
       "      <td>jessica4028@yahoo.com</td>\n",
       "      <td>True</td>\n",
       "      <td>2018-07-17</td>\n",
       "      <td>4.0</td>\n",
       "      <td>75.39</td>\n",
       "    </tr>\n",
       "    <tr>\n",
       "      <th>zachary.neal</th>\n",
       "      <td>Zachary</td>\n",
       "      <td>Neal</td>\n",
       "      <td>zneal@gmail.com</td>\n",
       "      <td>True</td>\n",
       "      <td>2018-07-26</td>\n",
       "      <td>1.0</td>\n",
       "      <td>39.90</td>\n",
       "    </tr>\n",
       "  </tbody>\n",
       "</table>\n",
       "<p>475 rows × 7 columns</p>\n",
       "</div>"
      ],
      "text/plain": [
       "               first_name last_name                           email  \\\n",
       "aaron               Aaron     Davis             aaron6348@gmail.com   \n",
       "acook             Anthony      Cook                  cook@gmail.com   \n",
       "adam.saunders        Adam  Saunders                  adam@gmail.com   \n",
       "adrian             Adrian      Fang   adrian.fang@teamtreehouse.com   \n",
       "adrian.blair       Adrian     Blair            adrian9335@gmail.com   \n",
       "...                   ...       ...                             ...   \n",
       "wilson             Robert    Wilson                robert@yahoo.com   \n",
       "wking               Wanda      King             wanda.king@holt.com   \n",
       "wright3590     Jacqueline    Wright  jacqueline.wright@gonzalez.com   \n",
       "young             Jessica     Young           jessica4028@yahoo.com   \n",
       "zachary.neal      Zachary      Neal                 zneal@gmail.com   \n",
       "\n",
       "              email_verified signup_date  referral_count  balance  \n",
       "aaron                   True  2018-08-31             6.0    18.14  \n",
       "acook                   True  2018-05-12             2.0    55.45  \n",
       "adam.saunders          False  2018-05-29             3.0    72.12  \n",
       "adrian                  True  2018-04-28             3.0    30.01  \n",
       "adrian.blair            True  2018-06-16             7.0    25.85  \n",
       "...                      ...         ...             ...      ...  \n",
       "wilson                 False  2018-05-16             5.0    59.75  \n",
       "wking                   True  2018-06-01             2.0    67.08  \n",
       "wright3590              True  2018-02-08             6.0    18.48  \n",
       "young                   True  2018-07-17             4.0    75.39  \n",
       "zachary.neal            True  2018-07-26             1.0    39.90  \n",
       "\n",
       "[475 rows x 7 columns]"
      ]
     },
     "execution_count": 100,
     "metadata": {},
     "output_type": "execute_result"
    }
   ],
   "source": [
    "## CHALLENGE - Verified email list ##\n",
    "\n",
    "# TODO: Narrow list to those that have email verified.\n",
    "#  The only columns should be first, last and email\n",
    "email_list = users[:]\n",
    "\n",
    "# TODO: Remove any rows missing last names\n",
    "\n",
    "\n",
    "# TODO: Ensure that the first names are the proper case\n",
    "\n",
    "\n",
    "# Return the new sorted DataFrame..last name then first name ascending\n",
    "email_list"
   ]
  },
  {
   "cell_type": "code",
   "execution_count": 102,
   "id": "07123b7d",
   "metadata": {},
   "outputs": [
    {
     "data": {
      "application/vnd.jupyter.widget-view+json": {
       "model_id": "569bd09d97394392af73cd220328044a",
       "version_major": 2,
       "version_minor": 0
      },
      "text/plain": [
       "Button(description='Run Tests', style=ButtonStyle())"
      ]
     },
     "metadata": {},
     "output_type": "display_data"
    },
    {
     "data": {
      "text/markdown": [
       "```\n",
       "EEEEE\n",
       "======================================================================\n",
       "ERROR: test_columns (tests.helpers.TestVerifiedEmailList)\n",
       "----------------------------------------------------------------------\n",
       "Traceback (most recent call last):\n",
       "  File \"C:\\Users\\gabri\\intro-to-numpy\\Introduction to Pandas\\tests\\test_cells.py\", line 89, in test_columns\n",
       "    len(self.df.columns),\n",
       "AttributeError: 'NoneType' object has no attribute 'columns'\n",
       "\n",
       "======================================================================\n",
       "ERROR: test_email_verified (tests.helpers.TestVerifiedEmailList)\n",
       "----------------------------------------------------------------------\n",
       "Traceback (most recent call last):\n",
       "  File \"C:\\Users\\gabri\\intro-to-numpy\\Introduction to Pandas\\tests\\test_cells.py\", line 98, in test_email_verified\n",
       "    len(self.df),\n",
       "TypeError: object of type 'NoneType' has no len()\n",
       "\n",
       "======================================================================\n",
       "ERROR: test_has_na (tests.helpers.TestVerifiedEmailList)\n",
       "----------------------------------------------------------------------\n",
       "Traceback (most recent call last):\n",
       "  File \"C:\\Users\\gabri\\intro-to-numpy\\Introduction to Pandas\\tests\\test_cells.py\", line 81, in test_has_na\n",
       "    sum(self.df.last_name.isna()),\n",
       "AttributeError: 'NoneType' object has no attribute 'last_name'\n",
       "\n",
       "======================================================================\n",
       "ERROR: test_sort (tests.helpers.TestVerifiedEmailList)\n",
       "----------------------------------------------------------------------\n",
       "Traceback (most recent call last):\n",
       "  File \"C:\\Users\\gabri\\intro-to-numpy\\Introduction to Pandas\\tests\\test_cells.py\", line 114, in test_sort\n",
       "    self.df.iloc[0, 0],\n",
       "AttributeError: 'NoneType' object has no attribute 'iloc'\n",
       "\n",
       "======================================================================\n",
       "ERROR: test_title_cased (tests.helpers.TestVerifiedEmailList)\n",
       "----------------------------------------------------------------------\n",
       "Traceback (most recent call last):\n",
       "  File \"C:\\Users\\gabri\\intro-to-numpy\\Introduction to Pandas\\tests\\test_cells.py\", line 105, in test_title_cased\n",
       "    sum(self.df.first_name.str.islower()),\n",
       "AttributeError: 'NoneType' object has no attribute 'first_name'\n",
       "\n",
       "----------------------------------------------------------------------\n",
       "Ran 5 tests in 0.051s\n",
       "\n",
       "FAILED (errors=5)\n",
       "\n",
       "```"
      ],
      "text/plain": [
       "<IPython.core.display.Markdown object>"
      ]
     },
     "metadata": {},
     "output_type": "display_data"
    }
   ],
   "source": [
    "check(__name__, 'Verified email list')"
   ]
  },
  {
   "cell_type": "code",
   "execution_count": 103,
   "id": "edf50764",
   "metadata": {},
   "outputs": [
    {
     "data": {
      "text/plain": [
       "(475, 998)"
      ]
     },
     "execution_count": 103,
     "metadata": {},
     "output_type": "execute_result"
    }
   ],
   "source": [
    "# Setup\n",
    "import os\n",
    "\n",
    "import pandas as pd\n",
    "\n",
    "pd.options.display.max_rows = 10\n",
    "users = pd.read_csv(os.path.join('data', 'users.csv'), index_col=0)\n",
    "transactions = pd.read_csv(os.path.join('data', 'transactions.csv'), index_col=0)\n",
    "# Sanity check\n",
    "(len(users), len(transactions))"
   ]
  },
  {
   "cell_type": "code",
   "execution_count": 104,
   "id": "fd662844",
   "metadata": {},
   "outputs": [
    {
     "data": {
      "text/plain": [
       "pandas.core.groupby.generic.DataFrameGroupBy"
      ]
     },
     "execution_count": 104,
     "metadata": {},
     "output_type": "execute_result"
    }
   ],
   "source": [
    "grouped_by_receiver = transactions.groupby('receiver')\n",
    "\n",
    "# Let's see what type of object we got back\n",
    "type(grouped_by_receiver)"
   ]
  },
  {
   "cell_type": "code",
   "execution_count": 105,
   "id": "b1c5dcfc",
   "metadata": {},
   "outputs": [
    {
     "data": {
      "text/plain": [
       "receiver\n",
       "aaron            6\n",
       "acook            1\n",
       "adam.saunders    2\n",
       "adrian           3\n",
       "adrian.blair     7\n",
       "                ..\n",
       "wilson           2\n",
       "wking            2\n",
       "wright3590       4\n",
       "young            2\n",
       "zachary.neal     4\n",
       "Length: 410, dtype: int64"
      ]
     },
     "execution_count": 105,
     "metadata": {},
     "output_type": "execute_result"
    }
   ],
   "source": [
    "# Returns a Series of total number of rows\n",
    "grouped_by_receiver.size()"
   ]
  },
  {
   "cell_type": "code",
   "execution_count": 106,
   "id": "f7f0a6f6",
   "metadata": {},
   "outputs": [
    {
     "data": {
      "text/html": [
       "<div>\n",
       "<style scoped>\n",
       "    .dataframe tbody tr th:only-of-type {\n",
       "        vertical-align: middle;\n",
       "    }\n",
       "\n",
       "    .dataframe tbody tr th {\n",
       "        vertical-align: top;\n",
       "    }\n",
       "\n",
       "    .dataframe thead th {\n",
       "        text-align: right;\n",
       "    }\n",
       "</style>\n",
       "<table border=\"1\" class=\"dataframe\">\n",
       "  <thead>\n",
       "    <tr style=\"text-align: right;\">\n",
       "      <th></th>\n",
       "      <th>sender</th>\n",
       "      <th>amount</th>\n",
       "      <th>sent_date</th>\n",
       "    </tr>\n",
       "    <tr>\n",
       "      <th>receiver</th>\n",
       "      <th></th>\n",
       "      <th></th>\n",
       "      <th></th>\n",
       "    </tr>\n",
       "  </thead>\n",
       "  <tbody>\n",
       "    <tr>\n",
       "      <th>aaron</th>\n",
       "      <td>6</td>\n",
       "      <td>6</td>\n",
       "      <td>6</td>\n",
       "    </tr>\n",
       "    <tr>\n",
       "      <th>acook</th>\n",
       "      <td>1</td>\n",
       "      <td>1</td>\n",
       "      <td>1</td>\n",
       "    </tr>\n",
       "    <tr>\n",
       "      <th>adam.saunders</th>\n",
       "      <td>2</td>\n",
       "      <td>2</td>\n",
       "      <td>2</td>\n",
       "    </tr>\n",
       "    <tr>\n",
       "      <th>adrian</th>\n",
       "      <td>3</td>\n",
       "      <td>3</td>\n",
       "      <td>3</td>\n",
       "    </tr>\n",
       "    <tr>\n",
       "      <th>adrian.blair</th>\n",
       "      <td>7</td>\n",
       "      <td>7</td>\n",
       "      <td>7</td>\n",
       "    </tr>\n",
       "    <tr>\n",
       "      <th>...</th>\n",
       "      <td>...</td>\n",
       "      <td>...</td>\n",
       "      <td>...</td>\n",
       "    </tr>\n",
       "    <tr>\n",
       "      <th>wilson</th>\n",
       "      <td>2</td>\n",
       "      <td>2</td>\n",
       "      <td>2</td>\n",
       "    </tr>\n",
       "    <tr>\n",
       "      <th>wking</th>\n",
       "      <td>2</td>\n",
       "      <td>2</td>\n",
       "      <td>2</td>\n",
       "    </tr>\n",
       "    <tr>\n",
       "      <th>wright3590</th>\n",
       "      <td>4</td>\n",
       "      <td>4</td>\n",
       "      <td>4</td>\n",
       "    </tr>\n",
       "    <tr>\n",
       "      <th>young</th>\n",
       "      <td>2</td>\n",
       "      <td>2</td>\n",
       "      <td>2</td>\n",
       "    </tr>\n",
       "    <tr>\n",
       "      <th>zachary.neal</th>\n",
       "      <td>4</td>\n",
       "      <td>4</td>\n",
       "      <td>4</td>\n",
       "    </tr>\n",
       "  </tbody>\n",
       "</table>\n",
       "<p>410 rows × 3 columns</p>\n",
       "</div>"
      ],
      "text/plain": [
       "               sender  amount  sent_date\n",
       "receiver                                \n",
       "aaron               6       6          6\n",
       "acook               1       1          1\n",
       "adam.saunders       2       2          2\n",
       "adrian              3       3          3\n",
       "adrian.blair        7       7          7\n",
       "...               ...     ...        ...\n",
       "wilson              2       2          2\n",
       "wking               2       2          2\n",
       "wright3590          4       4          4\n",
       "young               2       2          2\n",
       "zachary.neal        4       4          4\n",
       "\n",
       "[410 rows x 3 columns]"
      ]
     },
     "execution_count": 106,
     "metadata": {},
     "output_type": "execute_result"
    }
   ],
   "source": [
    "grouped_by_receiver.count()"
   ]
  },
  {
   "cell_type": "code",
   "execution_count": 107,
   "id": "d93b0cb8",
   "metadata": {},
   "outputs": [
    {
     "name": "stderr",
     "output_type": "stream",
     "text": [
      "C:\\Users\\gabri\\AppData\\Local\\Temp\\ipykernel_20580\\1514281904.py:1: FutureWarning: The default value of numeric_only in DataFrameGroupBy.sum is deprecated. In a future version, numeric_only will default to False. Either specify numeric_only or select only columns which should be valid for the function.\n",
      "  grouped_by_receiver.sum()\n"
     ]
    },
    {
     "data": {
      "text/html": [
       "<div>\n",
       "<style scoped>\n",
       "    .dataframe tbody tr th:only-of-type {\n",
       "        vertical-align: middle;\n",
       "    }\n",
       "\n",
       "    .dataframe tbody tr th {\n",
       "        vertical-align: top;\n",
       "    }\n",
       "\n",
       "    .dataframe thead th {\n",
       "        text-align: right;\n",
       "    }\n",
       "</style>\n",
       "<table border=\"1\" class=\"dataframe\">\n",
       "  <thead>\n",
       "    <tr style=\"text-align: right;\">\n",
       "      <th></th>\n",
       "      <th>amount</th>\n",
       "    </tr>\n",
       "    <tr>\n",
       "      <th>receiver</th>\n",
       "      <th></th>\n",
       "    </tr>\n",
       "  </thead>\n",
       "  <tbody>\n",
       "    <tr>\n",
       "      <th>aaron</th>\n",
       "      <td>366.15</td>\n",
       "    </tr>\n",
       "    <tr>\n",
       "      <th>acook</th>\n",
       "      <td>94.65</td>\n",
       "    </tr>\n",
       "    <tr>\n",
       "      <th>adam.saunders</th>\n",
       "      <td>101.15</td>\n",
       "    </tr>\n",
       "    <tr>\n",
       "      <th>adrian</th>\n",
       "      <td>124.36</td>\n",
       "    </tr>\n",
       "    <tr>\n",
       "      <th>adrian.blair</th>\n",
       "      <td>462.88</td>\n",
       "    </tr>\n",
       "    <tr>\n",
       "      <th>...</th>\n",
       "      <td>...</td>\n",
       "    </tr>\n",
       "    <tr>\n",
       "      <th>wilson</th>\n",
       "      <td>44.39</td>\n",
       "    </tr>\n",
       "    <tr>\n",
       "      <th>wking</th>\n",
       "      <td>74.07</td>\n",
       "    </tr>\n",
       "    <tr>\n",
       "      <th>wright3590</th>\n",
       "      <td>195.45</td>\n",
       "    </tr>\n",
       "    <tr>\n",
       "      <th>young</th>\n",
       "      <td>83.57</td>\n",
       "    </tr>\n",
       "    <tr>\n",
       "      <th>zachary.neal</th>\n",
       "      <td>186.01</td>\n",
       "    </tr>\n",
       "  </tbody>\n",
       "</table>\n",
       "<p>410 rows × 1 columns</p>\n",
       "</div>"
      ],
      "text/plain": [
       "               amount\n",
       "receiver             \n",
       "aaron          366.15\n",
       "acook           94.65\n",
       "adam.saunders  101.15\n",
       "adrian         124.36\n",
       "adrian.blair   462.88\n",
       "...               ...\n",
       "wilson          44.39\n",
       "wking           74.07\n",
       "wright3590     195.45\n",
       "young           83.57\n",
       "zachary.neal   186.01\n",
       "\n",
       "[410 rows x 1 columns]"
      ]
     },
     "execution_count": 107,
     "metadata": {},
     "output_type": "execute_result"
    }
   ],
   "source": [
    "grouped_by_receiver.sum()"
   ]
  },
  {
   "cell_type": "code",
   "execution_count": 108,
   "id": "d504c0e1",
   "metadata": {},
   "outputs": [
    {
     "data": {
      "text/plain": [
       "65"
      ]
     },
     "execution_count": 108,
     "metadata": {},
     "output_type": "execute_result"
    }
   ],
   "source": [
    "# Create a new column in users called transaction count, and set the values to the size of the matching group\n",
    "users['transaction_count'] = grouped_by_receiver.size()\n",
    "\n",
    "# Not every user has made a transaction, let's see what kind of missing data we are dealing with\n",
    "len(users[users.transaction_count.isna()])"
   ]
  },
  {
   "cell_type": "code",
   "execution_count": 109,
   "id": "8193e99d",
   "metadata": {},
   "outputs": [
    {
     "data": {
      "text/html": [
       "<div>\n",
       "<style scoped>\n",
       "    .dataframe tbody tr th:only-of-type {\n",
       "        vertical-align: middle;\n",
       "    }\n",
       "\n",
       "    .dataframe tbody tr th {\n",
       "        vertical-align: top;\n",
       "    }\n",
       "\n",
       "    .dataframe thead th {\n",
       "        text-align: right;\n",
       "    }\n",
       "</style>\n",
       "<table border=\"1\" class=\"dataframe\">\n",
       "  <thead>\n",
       "    <tr style=\"text-align: right;\">\n",
       "      <th></th>\n",
       "      <th>first_name</th>\n",
       "      <th>last_name</th>\n",
       "      <th>email</th>\n",
       "      <th>email_verified</th>\n",
       "      <th>signup_date</th>\n",
       "      <th>referral_count</th>\n",
       "      <th>balance</th>\n",
       "      <th>transaction_count</th>\n",
       "    </tr>\n",
       "  </thead>\n",
       "  <tbody>\n",
       "    <tr>\n",
       "      <th>aaron</th>\n",
       "      <td>Aaron</td>\n",
       "      <td>Davis</td>\n",
       "      <td>aaron6348@gmail.com</td>\n",
       "      <td>True</td>\n",
       "      <td>2018-08-31</td>\n",
       "      <td>6</td>\n",
       "      <td>18.14</td>\n",
       "      <td>6.0</td>\n",
       "    </tr>\n",
       "    <tr>\n",
       "      <th>acook</th>\n",
       "      <td>Anthony</td>\n",
       "      <td>Cook</td>\n",
       "      <td>cook@gmail.com</td>\n",
       "      <td>True</td>\n",
       "      <td>2018-05-12</td>\n",
       "      <td>2</td>\n",
       "      <td>55.45</td>\n",
       "      <td>1.0</td>\n",
       "    </tr>\n",
       "    <tr>\n",
       "      <th>adam.saunders</th>\n",
       "      <td>Adam</td>\n",
       "      <td>Saunders</td>\n",
       "      <td>adam@gmail.com</td>\n",
       "      <td>False</td>\n",
       "      <td>2018-05-29</td>\n",
       "      <td>3</td>\n",
       "      <td>72.12</td>\n",
       "      <td>2.0</td>\n",
       "    </tr>\n",
       "    <tr>\n",
       "      <th>adrian</th>\n",
       "      <td>Adrian</td>\n",
       "      <td>Fang</td>\n",
       "      <td>adrian.fang@teamtreehouse.com</td>\n",
       "      <td>True</td>\n",
       "      <td>2018-04-28</td>\n",
       "      <td>3</td>\n",
       "      <td>30.01</td>\n",
       "      <td>3.0</td>\n",
       "    </tr>\n",
       "    <tr>\n",
       "      <th>adrian.blair</th>\n",
       "      <td>Adrian</td>\n",
       "      <td>Blair</td>\n",
       "      <td>adrian9335@gmail.com</td>\n",
       "      <td>True</td>\n",
       "      <td>2018-06-16</td>\n",
       "      <td>7</td>\n",
       "      <td>25.85</td>\n",
       "      <td>7.0</td>\n",
       "    </tr>\n",
       "    <tr>\n",
       "      <th>...</th>\n",
       "      <td>...</td>\n",
       "      <td>...</td>\n",
       "      <td>...</td>\n",
       "      <td>...</td>\n",
       "      <td>...</td>\n",
       "      <td>...</td>\n",
       "      <td>...</td>\n",
       "      <td>...</td>\n",
       "    </tr>\n",
       "    <tr>\n",
       "      <th>wilson</th>\n",
       "      <td>Robert</td>\n",
       "      <td>Wilson</td>\n",
       "      <td>robert@yahoo.com</td>\n",
       "      <td>False</td>\n",
       "      <td>2018-05-16</td>\n",
       "      <td>5</td>\n",
       "      <td>59.75</td>\n",
       "      <td>2.0</td>\n",
       "    </tr>\n",
       "    <tr>\n",
       "      <th>wking</th>\n",
       "      <td>Wanda</td>\n",
       "      <td>King</td>\n",
       "      <td>wanda.king@holt.com</td>\n",
       "      <td>True</td>\n",
       "      <td>2018-06-01</td>\n",
       "      <td>2</td>\n",
       "      <td>67.08</td>\n",
       "      <td>2.0</td>\n",
       "    </tr>\n",
       "    <tr>\n",
       "      <th>wright3590</th>\n",
       "      <td>Jacqueline</td>\n",
       "      <td>Wright</td>\n",
       "      <td>jacqueline.wright@gonzalez.com</td>\n",
       "      <td>True</td>\n",
       "      <td>2018-02-08</td>\n",
       "      <td>6</td>\n",
       "      <td>18.48</td>\n",
       "      <td>4.0</td>\n",
       "    </tr>\n",
       "    <tr>\n",
       "      <th>young</th>\n",
       "      <td>Jessica</td>\n",
       "      <td>Young</td>\n",
       "      <td>jessica4028@yahoo.com</td>\n",
       "      <td>True</td>\n",
       "      <td>2018-07-17</td>\n",
       "      <td>4</td>\n",
       "      <td>75.39</td>\n",
       "      <td>2.0</td>\n",
       "    </tr>\n",
       "    <tr>\n",
       "      <th>zachary.neal</th>\n",
       "      <td>Zachary</td>\n",
       "      <td>Neal</td>\n",
       "      <td>zneal@gmail.com</td>\n",
       "      <td>True</td>\n",
       "      <td>2018-07-26</td>\n",
       "      <td>1</td>\n",
       "      <td>39.90</td>\n",
       "      <td>4.0</td>\n",
       "    </tr>\n",
       "  </tbody>\n",
       "</table>\n",
       "<p>475 rows × 8 columns</p>\n",
       "</div>"
      ],
      "text/plain": [
       "               first_name last_name                           email  \\\n",
       "aaron               Aaron     Davis             aaron6348@gmail.com   \n",
       "acook             Anthony      Cook                  cook@gmail.com   \n",
       "adam.saunders        Adam  Saunders                  adam@gmail.com   \n",
       "adrian             Adrian      Fang   adrian.fang@teamtreehouse.com   \n",
       "adrian.blair       Adrian     Blair            adrian9335@gmail.com   \n",
       "...                   ...       ...                             ...   \n",
       "wilson             Robert    Wilson                robert@yahoo.com   \n",
       "wking               Wanda      King             wanda.king@holt.com   \n",
       "wright3590     Jacqueline    Wright  jacqueline.wright@gonzalez.com   \n",
       "young             Jessica     Young           jessica4028@yahoo.com   \n",
       "zachary.neal      Zachary      Neal                 zneal@gmail.com   \n",
       "\n",
       "               email_verified signup_date  referral_count  balance  \\\n",
       "aaron                    True  2018-08-31               6    18.14   \n",
       "acook                    True  2018-05-12               2    55.45   \n",
       "adam.saunders           False  2018-05-29               3    72.12   \n",
       "adrian                   True  2018-04-28               3    30.01   \n",
       "adrian.blair             True  2018-06-16               7    25.85   \n",
       "...                       ...         ...             ...      ...   \n",
       "wilson                  False  2018-05-16               5    59.75   \n",
       "wking                    True  2018-06-01               2    67.08   \n",
       "wright3590               True  2018-02-08               6    18.48   \n",
       "young                    True  2018-07-17               4    75.39   \n",
       "zachary.neal             True  2018-07-26               1    39.90   \n",
       "\n",
       "               transaction_count  \n",
       "aaron                        6.0  \n",
       "acook                        1.0  \n",
       "adam.saunders                2.0  \n",
       "adrian                       3.0  \n",
       "adrian.blair                 7.0  \n",
       "...                          ...  \n",
       "wilson                       2.0  \n",
       "wking                        2.0  \n",
       "wright3590                   4.0  \n",
       "young                        2.0  \n",
       "zachary.neal                 4.0  \n",
       "\n",
       "[475 rows x 8 columns]"
      ]
     },
     "execution_count": 109,
     "metadata": {},
     "output_type": "execute_result"
    }
   ],
   "source": [
    "# Set all missing data to 0, since in reality, there have been 0 received transactions for this user\n",
    "users.transaction_count.fillna(0, inplace=True)\n",
    "users"
   ]
  },
  {
   "cell_type": "code",
   "execution_count": 110,
   "id": "4cd489f7",
   "metadata": {},
   "outputs": [],
   "source": [
    "# Convert from the default type of float64 to int64 (no precision needed)\n",
    "users.transaction_count = users.transaction_count.astype('int64')"
   ]
  },
  {
   "cell_type": "code",
   "execution_count": 111,
   "id": "0faf715e",
   "metadata": {},
   "outputs": [
    {
     "data": {
      "text/html": [
       "<div>\n",
       "<style scoped>\n",
       "    .dataframe tbody tr th:only-of-type {\n",
       "        vertical-align: middle;\n",
       "    }\n",
       "\n",
       "    .dataframe tbody tr th {\n",
       "        vertical-align: top;\n",
       "    }\n",
       "\n",
       "    .dataframe thead th {\n",
       "        text-align: right;\n",
       "    }\n",
       "</style>\n",
       "<table border=\"1\" class=\"dataframe\">\n",
       "  <thead>\n",
       "    <tr style=\"text-align: right;\">\n",
       "      <th></th>\n",
       "      <th>first_name</th>\n",
       "      <th>last_name</th>\n",
       "      <th>email</th>\n",
       "      <th>transaction_count</th>\n",
       "    </tr>\n",
       "  </thead>\n",
       "  <tbody>\n",
       "    <tr>\n",
       "      <th>scott3928</th>\n",
       "      <td>Scott</td>\n",
       "      <td>NaN</td>\n",
       "      <td>scott@yahoo.com</td>\n",
       "      <td>9</td>\n",
       "    </tr>\n",
       "    <tr>\n",
       "      <th>sfinley</th>\n",
       "      <td>Samuel</td>\n",
       "      <td>Finley</td>\n",
       "      <td>samuel@gmail.com</td>\n",
       "      <td>8</td>\n",
       "    </tr>\n",
       "    <tr>\n",
       "      <th>adrian.blair</th>\n",
       "      <td>Adrian</td>\n",
       "      <td>Blair</td>\n",
       "      <td>adrian9335@gmail.com</td>\n",
       "      <td>7</td>\n",
       "    </tr>\n",
       "    <tr>\n",
       "      <th>hdeleon</th>\n",
       "      <td>Hannah</td>\n",
       "      <td>Deleon</td>\n",
       "      <td>hannah@yahoo.com</td>\n",
       "      <td>7</td>\n",
       "    </tr>\n",
       "    <tr>\n",
       "      <th>miranda6426</th>\n",
       "      <td>Miranda</td>\n",
       "      <td>Rogers</td>\n",
       "      <td>miranda.rogers@gmail.com</td>\n",
       "      <td>7</td>\n",
       "    </tr>\n",
       "    <tr>\n",
       "      <th>aaron</th>\n",
       "      <td>Aaron</td>\n",
       "      <td>Davis</td>\n",
       "      <td>aaron6348@gmail.com</td>\n",
       "      <td>6</td>\n",
       "    </tr>\n",
       "    <tr>\n",
       "      <th>corey</th>\n",
       "      <td>Corey</td>\n",
       "      <td>Fuller</td>\n",
       "      <td>fuller8100@yahoo.com</td>\n",
       "      <td>6</td>\n",
       "    </tr>\n",
       "    <tr>\n",
       "      <th>heather</th>\n",
       "      <td>Heather</td>\n",
       "      <td>Ray</td>\n",
       "      <td>hray@yahoo.com</td>\n",
       "      <td>6</td>\n",
       "    </tr>\n",
       "    <tr>\n",
       "      <th>jennifer.hebert</th>\n",
       "      <td>Jennifer</td>\n",
       "      <td>Hebert</td>\n",
       "      <td>jennifer.hebert@yahoo.com</td>\n",
       "      <td>6</td>\n",
       "    </tr>\n",
       "    <tr>\n",
       "      <th>edwards</th>\n",
       "      <td>Michael</td>\n",
       "      <td>Edwards</td>\n",
       "      <td>edwards5456@gmail.com</td>\n",
       "      <td>6</td>\n",
       "    </tr>\n",
       "  </tbody>\n",
       "</table>\n",
       "</div>"
      ],
      "text/plain": [
       "                first_name last_name                      email  \\\n",
       "scott3928            Scott       NaN            scott@yahoo.com   \n",
       "sfinley             Samuel    Finley           samuel@gmail.com   \n",
       "adrian.blair        Adrian     Blair       adrian9335@gmail.com   \n",
       "hdeleon             Hannah    Deleon           hannah@yahoo.com   \n",
       "miranda6426        Miranda    Rogers   miranda.rogers@gmail.com   \n",
       "aaron                Aaron     Davis        aaron6348@gmail.com   \n",
       "corey                Corey    Fuller       fuller8100@yahoo.com   \n",
       "heather            Heather       Ray             hray@yahoo.com   \n",
       "jennifer.hebert   Jennifer    Hebert  jennifer.hebert@yahoo.com   \n",
       "edwards            Michael   Edwards      edwards5456@gmail.com   \n",
       "\n",
       "                 transaction_count  \n",
       "scott3928                        9  \n",
       "sfinley                          8  \n",
       "adrian.blair                     7  \n",
       "hdeleon                          7  \n",
       "miranda6426                      7  \n",
       "aaron                            6  \n",
       "corey                            6  \n",
       "heather                          6  \n",
       "jennifer.hebert                  6  \n",
       "edwards                          6  "
      ]
     },
     "execution_count": 111,
     "metadata": {},
     "output_type": "execute_result"
    }
   ],
   "source": [
    "# Sort our values by the new field descending (so the largest comes first), and then by first name ascending\n",
    "users.sort_values(\n",
    "    ['transaction_count', 'first_name'],\n",
    "    ascending=[False, True],\n",
    "    inplace=True\n",
    ")\n",
    "# Take a look at our top 10 receivers, showing only the columns we want\n",
    "users.loc[:, ['first_name', 'last_name', 'email', 'transaction_count']].head(10)"
   ]
  },
  {
   "cell_type": "code",
   "execution_count": null,
   "id": "ed33f31a",
   "metadata": {},
   "outputs": [],
   "source": []
  },
  {
   "cell_type": "code",
   "execution_count": null,
   "id": "04853b27",
   "metadata": {},
   "outputs": [],
   "source": []
  }
 ],
 "metadata": {
  "kernelspec": {
   "display_name": "Python 3 (ipykernel)",
   "language": "python",
   "name": "python3"
  },
  "language_info": {
   "codemirror_mode": {
    "name": "ipython",
    "version": 3
   },
   "file_extension": ".py",
   "mimetype": "text/x-python",
   "name": "python",
   "nbconvert_exporter": "python",
   "pygments_lexer": "ipython3",
   "version": "3.10.9"
  }
 },
 "nbformat": 4,
 "nbformat_minor": 5
}
