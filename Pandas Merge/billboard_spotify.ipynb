{
 "cells": [
  {
   "cell_type": "code",
   "execution_count": 1,
   "id": "8fc1252a",
   "metadata": {},
   "outputs": [
    {
     "data": {
      "text/plain": [
       "'1.5.2'"
      ]
     },
     "execution_count": 1,
     "metadata": {},
     "output_type": "execute_result"
    }
   ],
   "source": [
    "import pandas as pd\n",
    "pd.__version__"
   ]
  },
  {
   "cell_type": "code",
   "execution_count": 2,
   "id": "59de8001",
   "metadata": {},
   "outputs": [],
   "source": [
    "billboard = pd.read_csv(\"Billboard_100_2017-2018.csv\", index_col=\"ID\")\n",
    "spotify = pd.read_csv(\"Spotify_200_2017-2018.csv\", index_col=\"ID\")"
   ]
  },
  {
   "cell_type": "code",
   "execution_count": 3,
   "id": "0dac666d",
   "metadata": {},
   "outputs": [
    {
     "data": {
      "text/plain": [
       "(10153, 7)"
      ]
     },
     "execution_count": 3,
     "metadata": {},
     "output_type": "execute_result"
    }
   ],
   "source": [
    "billboard.shape"
   ]
  },
  {
   "cell_type": "code",
   "execution_count": 4,
   "id": "ef8aed95",
   "metadata": {},
   "outputs": [
    {
     "data": {
      "text/plain": [
       "(20735, 5)"
      ]
     },
     "execution_count": 4,
     "metadata": {},
     "output_type": "execute_result"
    }
   ],
   "source": [
    "spotify.shape"
   ]
  },
  {
   "cell_type": "code",
   "execution_count": 5,
   "id": "37efe196",
   "metadata": {},
   "outputs": [
    {
     "data": {
      "text/html": [
       "<div>\n",
       "<style scoped>\n",
       "    .dataframe tbody tr th:only-of-type {\n",
       "        vertical-align: middle;\n",
       "    }\n",
       "\n",
       "    .dataframe tbody tr th {\n",
       "        vertical-align: top;\n",
       "    }\n",
       "\n",
       "    .dataframe thead th {\n",
       "        text-align: right;\n",
       "    }\n",
       "</style>\n",
       "<table border=\"1\" class=\"dataframe\">\n",
       "  <thead>\n",
       "    <tr style=\"text-align: right;\">\n",
       "      <th></th>\n",
       "      <th>Artists</th>\n",
       "      <th>Name</th>\n",
       "      <th>Weekly.Rank</th>\n",
       "      <th>Peak.Position</th>\n",
       "      <th>Chart.Weeks</th>\n",
       "      <th>BB.Week</th>\n",
       "      <th>Release.Date</th>\n",
       "    </tr>\n",
       "    <tr>\n",
       "      <th>ID</th>\n",
       "      <th></th>\n",
       "      <th></th>\n",
       "      <th></th>\n",
       "      <th></th>\n",
       "      <th></th>\n",
       "      <th></th>\n",
       "      <th></th>\n",
       "    </tr>\n",
       "  </thead>\n",
       "  <tbody>\n",
       "    <tr>\n",
       "      <th>2666</th>\n",
       "      <td>Ariana Grande</td>\n",
       "      <td>Thank U, Next</td>\n",
       "      <td>1</td>\n",
       "      <td>1.0</td>\n",
       "      <td>7.0</td>\n",
       "      <td>2018-12-29</td>\n",
       "      <td>November 3, 2018</td>\n",
       "    </tr>\n",
       "    <tr>\n",
       "      <th>2667</th>\n",
       "      <td>Halsey</td>\n",
       "      <td>Without Me</td>\n",
       "      <td>2</td>\n",
       "      <td>2.0</td>\n",
       "      <td>11.0</td>\n",
       "      <td>2018-12-29</td>\n",
       "      <td>October 4, 2018</td>\n",
       "    </tr>\n",
       "    <tr>\n",
       "      <th>2668</th>\n",
       "      <td>Travis Scott</td>\n",
       "      <td>Sicko Mode</td>\n",
       "      <td>3</td>\n",
       "      <td>1.0</td>\n",
       "      <td>20.0</td>\n",
       "      <td>2018-12-29</td>\n",
       "      <td>August 3, 2018</td>\n",
       "    </tr>\n",
       "    <tr>\n",
       "      <th>2669</th>\n",
       "      <td>Post Malone, Swae Lee</td>\n",
       "      <td>Sunflower</td>\n",
       "      <td>4</td>\n",
       "      <td>4.0</td>\n",
       "      <td>9.0</td>\n",
       "      <td>2018-12-29</td>\n",
       "      <td>October 18, 2018</td>\n",
       "    </tr>\n",
       "    <tr>\n",
       "      <th>2670</th>\n",
       "      <td>Marshmello, Bastille</td>\n",
       "      <td>Happier</td>\n",
       "      <td>5</td>\n",
       "      <td>3.0</td>\n",
       "      <td>18.0</td>\n",
       "      <td>2018-12-29</td>\n",
       "      <td>August 17, 2018</td>\n",
       "    </tr>\n",
       "  </tbody>\n",
       "</table>\n",
       "</div>"
      ],
      "text/plain": [
       "                    Artists           Name  Weekly.Rank  Peak.Position  \\\n",
       "ID                                                                       \n",
       "2666          Ariana Grande  Thank U, Next            1            1.0   \n",
       "2667                 Halsey     Without Me            2            2.0   \n",
       "2668           Travis Scott     Sicko Mode            3            1.0   \n",
       "2669  Post Malone, Swae Lee      Sunflower            4            4.0   \n",
       "2670   Marshmello, Bastille        Happier            5            3.0   \n",
       "\n",
       "      Chart.Weeks     BB.Week      Release.Date  \n",
       "ID                                               \n",
       "2666          7.0  2018-12-29  November 3, 2018  \n",
       "2667         11.0  2018-12-29   October 4, 2018  \n",
       "2668         20.0  2018-12-29    August 3, 2018  \n",
       "2669          9.0  2018-12-29  October 18, 2018  \n",
       "2670         18.0  2018-12-29   August 17, 2018  "
      ]
     },
     "execution_count": 5,
     "metadata": {},
     "output_type": "execute_result"
    }
   ],
   "source": [
    "billboard.head()"
   ]
  },
  {
   "cell_type": "code",
   "execution_count": 6,
   "id": "37473d9d",
   "metadata": {},
   "outputs": [
    {
     "data": {
      "text/html": [
       "<div>\n",
       "<style scoped>\n",
       "    .dataframe tbody tr th:only-of-type {\n",
       "        vertical-align: middle;\n",
       "    }\n",
       "\n",
       "    .dataframe tbody tr th {\n",
       "        vertical-align: top;\n",
       "    }\n",
       "\n",
       "    .dataframe thead th {\n",
       "        text-align: right;\n",
       "    }\n",
       "</style>\n",
       "<table border=\"1\" class=\"dataframe\">\n",
       "  <thead>\n",
       "    <tr style=\"text-align: right;\">\n",
       "      <th></th>\n",
       "      <th>Name</th>\n",
       "      <th>Artists</th>\n",
       "      <th>Streams</th>\n",
       "      <th>S.Week</th>\n",
       "      <th>BB.Week</th>\n",
       "    </tr>\n",
       "    <tr>\n",
       "      <th>ID</th>\n",
       "      <th></th>\n",
       "      <th></th>\n",
       "      <th></th>\n",
       "      <th></th>\n",
       "      <th></th>\n",
       "    </tr>\n",
       "  </thead>\n",
       "  <tbody>\n",
       "    <tr>\n",
       "      <th>0</th>\n",
       "      <td>In My Feelings</td>\n",
       "      <td>Drake</td>\n",
       "      <td>30747676</td>\n",
       "      <td>2018-07-20</td>\n",
       "      <td>2018-07-21</td>\n",
       "    </tr>\n",
       "    <tr>\n",
       "      <th>1</th>\n",
       "      <td>Lucid Dreams</td>\n",
       "      <td>Juice WRLD</td>\n",
       "      <td>12930705</td>\n",
       "      <td>2018-07-20</td>\n",
       "      <td>2018-07-21</td>\n",
       "    </tr>\n",
       "    <tr>\n",
       "      <th>2</th>\n",
       "      <td>Nonstop</td>\n",
       "      <td>Drake</td>\n",
       "      <td>12312859</td>\n",
       "      <td>2018-07-20</td>\n",
       "      <td>2018-07-21</td>\n",
       "    </tr>\n",
       "    <tr>\n",
       "      <th>3</th>\n",
       "      <td>God Is A Woman</td>\n",
       "      <td>Ariana Grande</td>\n",
       "      <td>10771324</td>\n",
       "      <td>2018-07-20</td>\n",
       "      <td>2018-07-21</td>\n",
       "    </tr>\n",
       "    <tr>\n",
       "      <th>4</th>\n",
       "      <td>SAD!</td>\n",
       "      <td>XXXTENTACION</td>\n",
       "      <td>10503061</td>\n",
       "      <td>2018-07-20</td>\n",
       "      <td>2018-07-21</td>\n",
       "    </tr>\n",
       "    <tr>\n",
       "      <th>5</th>\n",
       "      <td>Taste</td>\n",
       "      <td>Tyga</td>\n",
       "      <td>9777479</td>\n",
       "      <td>2018-07-20</td>\n",
       "      <td>2018-07-21</td>\n",
       "    </tr>\n",
       "    <tr>\n",
       "      <th>6</th>\n",
       "      <td>Don’t Matter To Me</td>\n",
       "      <td>Drake</td>\n",
       "      <td>9769263</td>\n",
       "      <td>2018-07-20</td>\n",
       "      <td>2018-07-21</td>\n",
       "    </tr>\n",
       "    <tr>\n",
       "      <th>7</th>\n",
       "      <td>I Like It</td>\n",
       "      <td>Cardi B</td>\n",
       "      <td>9278476</td>\n",
       "      <td>2018-07-20</td>\n",
       "      <td>2018-07-21</td>\n",
       "    </tr>\n",
       "  </tbody>\n",
       "</table>\n",
       "</div>"
      ],
      "text/plain": [
       "                  Name        Artists   Streams      S.Week     BB.Week\n",
       "ID                                                                     \n",
       "0       In My Feelings          Drake  30747676  2018-07-20  2018-07-21\n",
       "1         Lucid Dreams     Juice WRLD  12930705  2018-07-20  2018-07-21\n",
       "2              Nonstop          Drake  12312859  2018-07-20  2018-07-21\n",
       "3       God Is A Woman  Ariana Grande  10771324  2018-07-20  2018-07-21\n",
       "4                 SAD!   XXXTENTACION  10503061  2018-07-20  2018-07-21\n",
       "5                Taste           Tyga   9777479  2018-07-20  2018-07-21\n",
       "6   Don’t Matter To Me          Drake   9769263  2018-07-20  2018-07-21\n",
       "7            I Like It        Cardi B   9278476  2018-07-20  2018-07-21"
      ]
     },
     "execution_count": 6,
     "metadata": {},
     "output_type": "execute_result"
    }
   ],
   "source": [
    "spotify.head(8)"
   ]
  },
  {
   "cell_type": "code",
   "execution_count": 7,
   "id": "97252e59",
   "metadata": {},
   "outputs": [],
   "source": [
    "ariana_bill = billboard[billboard[\"Artists\"].str.contains(\"Ariana Grande\")]\n",
    "ariana_spot = spotify[spotify[\"Artists\"].str.contains(\"Ariana Grande\")]"
   ]
  },
  {
   "cell_type": "code",
   "execution_count": 8,
   "id": "233198ec",
   "metadata": {},
   "outputs": [
    {
     "data": {
      "text/plain": [
       "(102, 7)"
      ]
     },
     "execution_count": 8,
     "metadata": {},
     "output_type": "execute_result"
    }
   ],
   "source": [
    "ariana_bill.shape"
   ]
  },
  {
   "cell_type": "code",
   "execution_count": 9,
   "id": "72caf6ee",
   "metadata": {
    "scrolled": false
   },
   "outputs": [
    {
     "data": {
      "text/plain": [
       "(186, 5)"
      ]
     },
     "execution_count": 9,
     "metadata": {},
     "output_type": "execute_result"
    }
   ],
   "source": [
    "ariana_spot.shape"
   ]
  },
  {
   "cell_type": "code",
   "execution_count": 10,
   "id": "6ec9b1cd",
   "metadata": {},
   "outputs": [],
   "source": [
    "ariana_combined = pd.merge(ariana_bill, ariana_spot, how=\"left\", on=[\"Name\", \"Artists\", \"BB.Week\"])"
   ]
  },
  {
   "cell_type": "code",
   "execution_count": 11,
   "id": "abf51f65",
   "metadata": {},
   "outputs": [
    {
     "data": {
      "text/plain": [
       "(102, 9)"
      ]
     },
     "execution_count": 11,
     "metadata": {},
     "output_type": "execute_result"
    }
   ],
   "source": [
    "ariana_combined.shape"
   ]
  },
  {
   "cell_type": "code",
   "execution_count": 12,
   "id": "8c4c2844",
   "metadata": {
    "scrolled": true
   },
   "outputs": [
    {
     "data": {
      "text/html": [
       "<div>\n",
       "<style scoped>\n",
       "    .dataframe tbody tr th:only-of-type {\n",
       "        vertical-align: middle;\n",
       "    }\n",
       "\n",
       "    .dataframe tbody tr th {\n",
       "        vertical-align: top;\n",
       "    }\n",
       "\n",
       "    .dataframe thead th {\n",
       "        text-align: right;\n",
       "    }\n",
       "</style>\n",
       "<table border=\"1\" class=\"dataframe\">\n",
       "  <thead>\n",
       "    <tr style=\"text-align: right;\">\n",
       "      <th></th>\n",
       "      <th>Artists</th>\n",
       "      <th>Name</th>\n",
       "      <th>Weekly.Rank</th>\n",
       "      <th>Peak.Position</th>\n",
       "      <th>Chart.Weeks</th>\n",
       "      <th>BB.Week</th>\n",
       "      <th>Release.Date</th>\n",
       "      <th>Streams</th>\n",
       "      <th>S.Week</th>\n",
       "    </tr>\n",
       "  </thead>\n",
       "  <tbody>\n",
       "    <tr>\n",
       "      <th>0</th>\n",
       "      <td>Ariana Grande</td>\n",
       "      <td>Thank U, Next</td>\n",
       "      <td>1</td>\n",
       "      <td>1.0</td>\n",
       "      <td>7.0</td>\n",
       "      <td>2018-12-29</td>\n",
       "      <td>November 3, 2018</td>\n",
       "      <td>9226168.0</td>\n",
       "      <td>2018-12-28</td>\n",
       "    </tr>\n",
       "    <tr>\n",
       "      <th>1</th>\n",
       "      <td>Ariana Grande</td>\n",
       "      <td>Breathin</td>\n",
       "      <td>19</td>\n",
       "      <td>12.0</td>\n",
       "      <td>18.0</td>\n",
       "      <td>2018-12-29</td>\n",
       "      <td>August 17, 2018</td>\n",
       "      <td>2435276.0</td>\n",
       "      <td>2018-12-28</td>\n",
       "    </tr>\n",
       "    <tr>\n",
       "      <th>2</th>\n",
       "      <td>Ariana Grande</td>\n",
       "      <td>Imagine</td>\n",
       "      <td>24</td>\n",
       "      <td>NaN</td>\n",
       "      <td>NaN</td>\n",
       "      <td>2018-12-29</td>\n",
       "      <td>December 14, 2018</td>\n",
       "      <td>5205506.0</td>\n",
       "      <td>2018-12-28</td>\n",
       "    </tr>\n",
       "    <tr>\n",
       "      <th>3</th>\n",
       "      <td>Ariana Grande</td>\n",
       "      <td>Thank U, Next</td>\n",
       "      <td>1</td>\n",
       "      <td>1.0</td>\n",
       "      <td>6.0</td>\n",
       "      <td>2018-12-22</td>\n",
       "      <td>November 3, 2018</td>\n",
       "      <td>11776847.0</td>\n",
       "      <td>2018-12-21</td>\n",
       "    </tr>\n",
       "    <tr>\n",
       "      <th>4</th>\n",
       "      <td>Ariana Grande</td>\n",
       "      <td>Breathin</td>\n",
       "      <td>14</td>\n",
       "      <td>12.0</td>\n",
       "      <td>17.0</td>\n",
       "      <td>2018-12-22</td>\n",
       "      <td>August 17, 2018</td>\n",
       "      <td>2899268.0</td>\n",
       "      <td>2018-12-21</td>\n",
       "    </tr>\n",
       "  </tbody>\n",
       "</table>\n",
       "</div>"
      ],
      "text/plain": [
       "         Artists           Name  Weekly.Rank  Peak.Position  Chart.Weeks  \\\n",
       "0  Ariana Grande  Thank U, Next            1            1.0          7.0   \n",
       "1  Ariana Grande       Breathin           19           12.0         18.0   \n",
       "2  Ariana Grande        Imagine           24            NaN          NaN   \n",
       "3  Ariana Grande  Thank U, Next            1            1.0          6.0   \n",
       "4  Ariana Grande       Breathin           14           12.0         17.0   \n",
       "\n",
       "      BB.Week       Release.Date     Streams      S.Week  \n",
       "0  2018-12-29   November 3, 2018   9226168.0  2018-12-28  \n",
       "1  2018-12-29    August 17, 2018   2435276.0  2018-12-28  \n",
       "2  2018-12-29  December 14, 2018   5205506.0  2018-12-28  \n",
       "3  2018-12-22   November 3, 2018  11776847.0  2018-12-21  \n",
       "4  2018-12-22    August 17, 2018   2899268.0  2018-12-21  "
      ]
     },
     "execution_count": 12,
     "metadata": {},
     "output_type": "execute_result"
    }
   ],
   "source": [
    "ariana_combined.head()"
   ]
  },
  {
   "cell_type": "code",
   "execution_count": 13,
   "id": "10eb74c1",
   "metadata": {},
   "outputs": [
    {
     "data": {
      "text/html": [
       "<div>\n",
       "<style scoped>\n",
       "    .dataframe tbody tr th:only-of-type {\n",
       "        vertical-align: middle;\n",
       "    }\n",
       "\n",
       "    .dataframe tbody tr th {\n",
       "        vertical-align: top;\n",
       "    }\n",
       "\n",
       "    .dataframe thead th {\n",
       "        text-align: right;\n",
       "    }\n",
       "</style>\n",
       "<table border=\"1\" class=\"dataframe\">\n",
       "  <thead>\n",
       "    <tr style=\"text-align: right;\">\n",
       "      <th></th>\n",
       "      <th>Artists</th>\n",
       "      <th>Name</th>\n",
       "      <th>BB.Week</th>\n",
       "      <th>Weekly.Rank</th>\n",
       "      <th>Streams</th>\n",
       "    </tr>\n",
       "  </thead>\n",
       "  <tbody>\n",
       "    <tr>\n",
       "      <th>0</th>\n",
       "      <td>Ariana Grande</td>\n",
       "      <td>Thank U, Next</td>\n",
       "      <td>2018-12-29</td>\n",
       "      <td>1</td>\n",
       "      <td>9226168.0</td>\n",
       "    </tr>\n",
       "    <tr>\n",
       "      <th>1</th>\n",
       "      <td>Ariana Grande</td>\n",
       "      <td>Breathin</td>\n",
       "      <td>2018-12-29</td>\n",
       "      <td>19</td>\n",
       "      <td>2435276.0</td>\n",
       "    </tr>\n",
       "    <tr>\n",
       "      <th>2</th>\n",
       "      <td>Ariana Grande</td>\n",
       "      <td>Imagine</td>\n",
       "      <td>2018-12-29</td>\n",
       "      <td>24</td>\n",
       "      <td>5205506.0</td>\n",
       "    </tr>\n",
       "    <tr>\n",
       "      <th>3</th>\n",
       "      <td>Ariana Grande</td>\n",
       "      <td>Thank U, Next</td>\n",
       "      <td>2018-12-22</td>\n",
       "      <td>1</td>\n",
       "      <td>11776847.0</td>\n",
       "    </tr>\n",
       "    <tr>\n",
       "      <th>4</th>\n",
       "      <td>Ariana Grande</td>\n",
       "      <td>Breathin</td>\n",
       "      <td>2018-12-22</td>\n",
       "      <td>14</td>\n",
       "      <td>2899268.0</td>\n",
       "    </tr>\n",
       "    <tr>\n",
       "      <th>...</th>\n",
       "      <td>...</td>\n",
       "      <td>...</td>\n",
       "      <td>...</td>\n",
       "      <td>...</td>\n",
       "      <td>...</td>\n",
       "    </tr>\n",
       "    <tr>\n",
       "      <th>97</th>\n",
       "      <td>Ariana Grande</td>\n",
       "      <td>Side To Side</td>\n",
       "      <td>2017-02-04</td>\n",
       "      <td>12</td>\n",
       "      <td>2897525.0</td>\n",
       "    </tr>\n",
       "    <tr>\n",
       "      <th>98</th>\n",
       "      <td>Ariana Grande</td>\n",
       "      <td>Side To Side</td>\n",
       "      <td>2017-01-28</td>\n",
       "      <td>9</td>\n",
       "      <td>2836346.0</td>\n",
       "    </tr>\n",
       "    <tr>\n",
       "      <th>99</th>\n",
       "      <td>Ariana Grande</td>\n",
       "      <td>Side To Side</td>\n",
       "      <td>2017-01-21</td>\n",
       "      <td>6</td>\n",
       "      <td>3022353.0</td>\n",
       "    </tr>\n",
       "    <tr>\n",
       "      <th>100</th>\n",
       "      <td>Ariana Grande</td>\n",
       "      <td>Side To Side</td>\n",
       "      <td>2017-01-14</td>\n",
       "      <td>7</td>\n",
       "      <td>3102930.0</td>\n",
       "    </tr>\n",
       "    <tr>\n",
       "      <th>101</th>\n",
       "      <td>Ariana Grande</td>\n",
       "      <td>Side To Side</td>\n",
       "      <td>2017-01-07</td>\n",
       "      <td>6</td>\n",
       "      <td>3222416.0</td>\n",
       "    </tr>\n",
       "  </tbody>\n",
       "</table>\n",
       "<p>102 rows × 5 columns</p>\n",
       "</div>"
      ],
      "text/plain": [
       "           Artists           Name     BB.Week  Weekly.Rank     Streams\n",
       "0    Ariana Grande  Thank U, Next  2018-12-29            1   9226168.0\n",
       "1    Ariana Grande       Breathin  2018-12-29           19   2435276.0\n",
       "2    Ariana Grande        Imagine  2018-12-29           24   5205506.0\n",
       "3    Ariana Grande  Thank U, Next  2018-12-22            1  11776847.0\n",
       "4    Ariana Grande       Breathin  2018-12-22           14   2899268.0\n",
       "..             ...            ...         ...          ...         ...\n",
       "97   Ariana Grande   Side To Side  2017-02-04           12   2897525.0\n",
       "98   Ariana Grande   Side To Side  2017-01-28            9   2836346.0\n",
       "99   Ariana Grande   Side To Side  2017-01-21            6   3022353.0\n",
       "100  Ariana Grande   Side To Side  2017-01-14            7   3102930.0\n",
       "101  Ariana Grande   Side To Side  2017-01-07            6   3222416.0\n",
       "\n",
       "[102 rows x 5 columns]"
      ]
     },
     "execution_count": 13,
     "metadata": {},
     "output_type": "execute_result"
    }
   ],
   "source": [
    "ariana_combined[[\"Artists\", \"Name\", \"BB.Week\", \"Weekly.Rank\", \"Streams\"]]"
   ]
  },
  {
   "cell_type": "code",
   "execution_count": 14,
   "id": "f0ac6322",
   "metadata": {
    "scrolled": false
   },
   "outputs": [
    {
     "data": {
      "text/html": [
       "<div>\n",
       "<style scoped>\n",
       "    .dataframe tbody tr th:only-of-type {\n",
       "        vertical-align: middle;\n",
       "    }\n",
       "\n",
       "    .dataframe tbody tr th {\n",
       "        vertical-align: top;\n",
       "    }\n",
       "\n",
       "    .dataframe thead th {\n",
       "        text-align: right;\n",
       "    }\n",
       "</style>\n",
       "<table border=\"1\" class=\"dataframe\">\n",
       "  <thead>\n",
       "    <tr style=\"text-align: right;\">\n",
       "      <th></th>\n",
       "      <th>Artists</th>\n",
       "      <th>Name</th>\n",
       "      <th>Weekly.Rank</th>\n",
       "      <th>Peak.Position</th>\n",
       "      <th>Chart.Weeks</th>\n",
       "      <th>BB.Week</th>\n",
       "      <th>Release.Date</th>\n",
       "      <th>Streams</th>\n",
       "      <th>S.Week</th>\n",
       "    </tr>\n",
       "  </thead>\n",
       "  <tbody>\n",
       "    <tr>\n",
       "      <th>72</th>\n",
       "      <td>Ariana Grande</td>\n",
       "      <td>The Light Is Coming</td>\n",
       "      <td>95</td>\n",
       "      <td>NaN</td>\n",
       "      <td>NaN</td>\n",
       "      <td>2018-07-07</td>\n",
       "      <td>June 20, 2018</td>\n",
       "      <td>NaN</td>\n",
       "      <td>NaN</td>\n",
       "    </tr>\n",
       "    <tr>\n",
       "      <th>92</th>\n",
       "      <td>Ariana Grande</td>\n",
       "      <td>Everyday</td>\n",
       "      <td>85</td>\n",
       "      <td>NaN</td>\n",
       "      <td>NaN</td>\n",
       "      <td>2017-03-04</td>\n",
       "      <td>May 20, 2016</td>\n",
       "      <td>NaN</td>\n",
       "      <td>NaN</td>\n",
       "    </tr>\n",
       "    <tr>\n",
       "      <th>94</th>\n",
       "      <td>Ariana Grande, John Legend</td>\n",
       "      <td>Beauty And The Beast</td>\n",
       "      <td>87</td>\n",
       "      <td>NaN</td>\n",
       "      <td>NaN</td>\n",
       "      <td>2017-02-25</td>\n",
       "      <td>February 3, 2017</td>\n",
       "      <td>NaN</td>\n",
       "      <td>NaN</td>\n",
       "    </tr>\n",
       "  </tbody>\n",
       "</table>\n",
       "</div>"
      ],
      "text/plain": [
       "                       Artists                  Name  Weekly.Rank  \\\n",
       "72               Ariana Grande   The Light Is Coming           95   \n",
       "92               Ariana Grande              Everyday           85   \n",
       "94  Ariana Grande, John Legend  Beauty And The Beast           87   \n",
       "\n",
       "    Peak.Position  Chart.Weeks     BB.Week      Release.Date  Streams S.Week  \n",
       "72            NaN          NaN  2018-07-07     June 20, 2018      NaN    NaN  \n",
       "92            NaN          NaN  2017-03-04      May 20, 2016      NaN    NaN  \n",
       "94            NaN          NaN  2017-02-25  February 3, 2017      NaN    NaN  "
      ]
     },
     "execution_count": 14,
     "metadata": {},
     "output_type": "execute_result"
    }
   ],
   "source": [
    "ariana_combined[ariana_combined['Streams'].isnull()]"
   ]
  },
  {
   "cell_type": "code",
   "execution_count": null,
   "id": "bc2d3a04",
   "metadata": {},
   "outputs": [],
   "source": []
  },
  {
   "cell_type": "code",
   "execution_count": null,
   "id": "ff4e71c0",
   "metadata": {},
   "outputs": [],
   "source": []
  },
  {
   "cell_type": "markdown",
   "id": "03cb1e6a",
   "metadata": {},
   "source": [
    "## Challenge 1:\n",
    "- Merge Billboard dataset and Spotify dataset\n",
    "- Display shape and head of merged dataset"
   ]
  },
  {
   "cell_type": "markdown",
   "id": "fe0f47da",
   "metadata": {},
   "source": [
    "### Merge billboard and spotify datasets"
   ]
  },
  {
   "cell_type": "code",
   "execution_count": 15,
   "id": "eb9699bf",
   "metadata": {},
   "outputs": [],
   "source": [
    "bill_spot = pd.merge(billboard, spotify, how='left', on=['Name', 'Artists', 'BB.Week'])"
   ]
  },
  {
   "cell_type": "markdown",
   "id": "6ec231b3",
   "metadata": {},
   "source": [
    "### Show dimensions of combined dataset"
   ]
  },
  {
   "cell_type": "code",
   "execution_count": 16,
   "id": "be7edf1a",
   "metadata": {},
   "outputs": [
    {
     "data": {
      "text/plain": [
       "(10153, 9)"
      ]
     },
     "execution_count": 16,
     "metadata": {},
     "output_type": "execute_result"
    }
   ],
   "source": [
    "bill_spot.shape"
   ]
  },
  {
   "cell_type": "markdown",
   "id": "96a74892",
   "metadata": {},
   "source": [
    "### Show dimensions of Billboard dataset"
   ]
  },
  {
   "cell_type": "code",
   "execution_count": 17,
   "id": "93ecd00d",
   "metadata": {},
   "outputs": [
    {
     "data": {
      "text/plain": [
       "(10153, 7)"
      ]
     },
     "execution_count": 17,
     "metadata": {},
     "output_type": "execute_result"
    }
   ],
   "source": [
    "billboard.shape"
   ]
  },
  {
   "cell_type": "markdown",
   "id": "cecb4fe4",
   "metadata": {},
   "source": [
    "### Show first five records of combined dataset"
   ]
  },
  {
   "cell_type": "code",
   "execution_count": 18,
   "id": "f4707a18",
   "metadata": {
    "scrolled": true
   },
   "outputs": [
    {
     "data": {
      "text/html": [
       "<div>\n",
       "<style scoped>\n",
       "    .dataframe tbody tr th:only-of-type {\n",
       "        vertical-align: middle;\n",
       "    }\n",
       "\n",
       "    .dataframe tbody tr th {\n",
       "        vertical-align: top;\n",
       "    }\n",
       "\n",
       "    .dataframe thead th {\n",
       "        text-align: right;\n",
       "    }\n",
       "</style>\n",
       "<table border=\"1\" class=\"dataframe\">\n",
       "  <thead>\n",
       "    <tr style=\"text-align: right;\">\n",
       "      <th></th>\n",
       "      <th>Artists</th>\n",
       "      <th>Name</th>\n",
       "      <th>Weekly.Rank</th>\n",
       "      <th>Peak.Position</th>\n",
       "      <th>Chart.Weeks</th>\n",
       "      <th>BB.Week</th>\n",
       "      <th>Release.Date</th>\n",
       "      <th>Streams</th>\n",
       "      <th>S.Week</th>\n",
       "    </tr>\n",
       "  </thead>\n",
       "  <tbody>\n",
       "    <tr>\n",
       "      <th>0</th>\n",
       "      <td>Ariana Grande</td>\n",
       "      <td>Thank U, Next</td>\n",
       "      <td>1</td>\n",
       "      <td>1.0</td>\n",
       "      <td>7.0</td>\n",
       "      <td>2018-12-29</td>\n",
       "      <td>November 3, 2018</td>\n",
       "      <td>9226168.0</td>\n",
       "      <td>2018-12-28</td>\n",
       "    </tr>\n",
       "    <tr>\n",
       "      <th>1</th>\n",
       "      <td>Halsey</td>\n",
       "      <td>Without Me</td>\n",
       "      <td>2</td>\n",
       "      <td>2.0</td>\n",
       "      <td>11.0</td>\n",
       "      <td>2018-12-29</td>\n",
       "      <td>October 4, 2018</td>\n",
       "      <td>7412009.0</td>\n",
       "      <td>2018-12-28</td>\n",
       "    </tr>\n",
       "    <tr>\n",
       "      <th>2</th>\n",
       "      <td>Travis Scott</td>\n",
       "      <td>Sicko Mode</td>\n",
       "      <td>3</td>\n",
       "      <td>1.0</td>\n",
       "      <td>20.0</td>\n",
       "      <td>2018-12-29</td>\n",
       "      <td>August 3, 2018</td>\n",
       "      <td>NaN</td>\n",
       "      <td>NaN</td>\n",
       "    </tr>\n",
       "    <tr>\n",
       "      <th>3</th>\n",
       "      <td>Post Malone, Swae Lee</td>\n",
       "      <td>Sunflower</td>\n",
       "      <td>4</td>\n",
       "      <td>4.0</td>\n",
       "      <td>9.0</td>\n",
       "      <td>2018-12-29</td>\n",
       "      <td>October 18, 2018</td>\n",
       "      <td>NaN</td>\n",
       "      <td>NaN</td>\n",
       "    </tr>\n",
       "    <tr>\n",
       "      <th>4</th>\n",
       "      <td>Marshmello, Bastille</td>\n",
       "      <td>Happier</td>\n",
       "      <td>5</td>\n",
       "      <td>3.0</td>\n",
       "      <td>18.0</td>\n",
       "      <td>2018-12-29</td>\n",
       "      <td>August 17, 2018</td>\n",
       "      <td>NaN</td>\n",
       "      <td>NaN</td>\n",
       "    </tr>\n",
       "  </tbody>\n",
       "</table>\n",
       "</div>"
      ],
      "text/plain": [
       "                 Artists           Name  Weekly.Rank  Peak.Position  \\\n",
       "0          Ariana Grande  Thank U, Next            1            1.0   \n",
       "1                 Halsey     Without Me            2            2.0   \n",
       "2           Travis Scott     Sicko Mode            3            1.0   \n",
       "3  Post Malone, Swae Lee      Sunflower            4            4.0   \n",
       "4   Marshmello, Bastille        Happier            5            3.0   \n",
       "\n",
       "   Chart.Weeks     BB.Week      Release.Date    Streams      S.Week  \n",
       "0          7.0  2018-12-29  November 3, 2018  9226168.0  2018-12-28  \n",
       "1         11.0  2018-12-29   October 4, 2018  7412009.0  2018-12-28  \n",
       "2         20.0  2018-12-29    August 3, 2018        NaN         NaN  \n",
       "3          9.0  2018-12-29  October 18, 2018        NaN         NaN  \n",
       "4         18.0  2018-12-29   August 17, 2018        NaN         NaN  "
      ]
     },
     "execution_count": 18,
     "metadata": {},
     "output_type": "execute_result"
    }
   ],
   "source": [
    "bill_spot.head()"
   ]
  },
  {
   "cell_type": "code",
   "execution_count": null,
   "id": "6bcd73d1",
   "metadata": {},
   "outputs": [],
   "source": []
  },
  {
   "cell_type": "code",
   "execution_count": null,
   "id": "0e5cebd0",
   "metadata": {},
   "outputs": [],
   "source": []
  },
  {
   "cell_type": "code",
   "execution_count": 19,
   "id": "2c30ae90",
   "metadata": {},
   "outputs": [],
   "source": [
    "billboard19 = pd.read_csv(\"Billboard_100_2019.csv\", index_col=\"ID\")\n",
    "spotify19 = pd.read_csv(\"Spotify_200_2019.csv\", index_col=\"ID\")"
   ]
  },
  {
   "cell_type": "code",
   "execution_count": 20,
   "id": "2da4fb9c",
   "metadata": {},
   "outputs": [],
   "source": [
    "ariana_bill19 = billboard19[billboard19[\"Artists\"].str.contains(\"Ariana Grande\")]\n",
    "ariana_spot19 = spotify19[spotify19[\"Artists\"].str.contains(\"Ariana Grande\")]"
   ]
  },
  {
   "cell_type": "code",
   "execution_count": 21,
   "id": "87a4ebe6",
   "metadata": {},
   "outputs": [
    {
     "data": {
      "text/html": [
       "<div>\n",
       "<style scoped>\n",
       "    .dataframe tbody tr th:only-of-type {\n",
       "        vertical-align: middle;\n",
       "    }\n",
       "\n",
       "    .dataframe tbody tr th {\n",
       "        vertical-align: top;\n",
       "    }\n",
       "\n",
       "    .dataframe thead th {\n",
       "        text-align: right;\n",
       "    }\n",
       "</style>\n",
       "<table border=\"1\" class=\"dataframe\">\n",
       "  <thead>\n",
       "    <tr style=\"text-align: right;\">\n",
       "      <th></th>\n",
       "      <th>Artists</th>\n",
       "      <th>Name</th>\n",
       "      <th>Weekly.Rank</th>\n",
       "      <th>Peak.Position</th>\n",
       "      <th>Chart.Weeks</th>\n",
       "      <th>BB.Week</th>\n",
       "      <th>Release.Date</th>\n",
       "    </tr>\n",
       "    <tr>\n",
       "      <th>ID</th>\n",
       "      <th></th>\n",
       "      <th></th>\n",
       "      <th></th>\n",
       "      <th></th>\n",
       "      <th></th>\n",
       "      <th></th>\n",
       "      <th></th>\n",
       "    </tr>\n",
       "  </thead>\n",
       "  <tbody>\n",
       "    <tr>\n",
       "      <th>2666</th>\n",
       "      <td>Ariana Grande</td>\n",
       "      <td>Thank U, Next</td>\n",
       "      <td>1</td>\n",
       "      <td>1.0</td>\n",
       "      <td>7.0</td>\n",
       "      <td>2018-12-29</td>\n",
       "      <td>November 3, 2018</td>\n",
       "    </tr>\n",
       "    <tr>\n",
       "      <th>2684</th>\n",
       "      <td>Ariana Grande</td>\n",
       "      <td>Breathin</td>\n",
       "      <td>19</td>\n",
       "      <td>12.0</td>\n",
       "      <td>18.0</td>\n",
       "      <td>2018-12-29</td>\n",
       "      <td>August 17, 2018</td>\n",
       "    </tr>\n",
       "    <tr>\n",
       "      <th>2689</th>\n",
       "      <td>Ariana Grande</td>\n",
       "      <td>Imagine</td>\n",
       "      <td>24</td>\n",
       "      <td>NaN</td>\n",
       "      <td>NaN</td>\n",
       "      <td>2018-12-29</td>\n",
       "      <td>December 14, 2018</td>\n",
       "    </tr>\n",
       "    <tr>\n",
       "      <th>2761</th>\n",
       "      <td>Ariana Grande</td>\n",
       "      <td>Thank U, Next</td>\n",
       "      <td>1</td>\n",
       "      <td>1.0</td>\n",
       "      <td>6.0</td>\n",
       "      <td>2018-12-22</td>\n",
       "      <td>November 3, 2018</td>\n",
       "    </tr>\n",
       "    <tr>\n",
       "      <th>2774</th>\n",
       "      <td>Ariana Grande</td>\n",
       "      <td>Breathin</td>\n",
       "      <td>14</td>\n",
       "      <td>12.0</td>\n",
       "      <td>17.0</td>\n",
       "      <td>2018-12-22</td>\n",
       "      <td>August 17, 2018</td>\n",
       "    </tr>\n",
       "  </tbody>\n",
       "</table>\n",
       "</div>"
      ],
      "text/plain": [
       "            Artists           Name  Weekly.Rank  Peak.Position  Chart.Weeks  \\\n",
       "ID                                                                            \n",
       "2666  Ariana Grande  Thank U, Next            1            1.0          7.0   \n",
       "2684  Ariana Grande       Breathin           19           12.0         18.0   \n",
       "2689  Ariana Grande        Imagine           24            NaN          NaN   \n",
       "2761  Ariana Grande  Thank U, Next            1            1.0          6.0   \n",
       "2774  Ariana Grande       Breathin           14           12.0         17.0   \n",
       "\n",
       "         BB.Week       Release.Date  \n",
       "ID                                   \n",
       "2666  2018-12-29   November 3, 2018  \n",
       "2684  2018-12-29    August 17, 2018  \n",
       "2689  2018-12-29  December 14, 2018  \n",
       "2761  2018-12-22   November 3, 2018  \n",
       "2774  2018-12-22    August 17, 2018  "
      ]
     },
     "execution_count": 21,
     "metadata": {},
     "output_type": "execute_result"
    }
   ],
   "source": [
    "ariana_bill.head()"
   ]
  },
  {
   "cell_type": "code",
   "execution_count": 22,
   "id": "b9f73497",
   "metadata": {},
   "outputs": [
    {
     "data": {
      "text/html": [
       "<div>\n",
       "<style scoped>\n",
       "    .dataframe tbody tr th:only-of-type {\n",
       "        vertical-align: middle;\n",
       "    }\n",
       "\n",
       "    .dataframe tbody tr th {\n",
       "        vertical-align: top;\n",
       "    }\n",
       "\n",
       "    .dataframe thead th {\n",
       "        text-align: right;\n",
       "    }\n",
       "</style>\n",
       "<table border=\"1\" class=\"dataframe\">\n",
       "  <thead>\n",
       "    <tr style=\"text-align: right;\">\n",
       "      <th></th>\n",
       "      <th>Artists</th>\n",
       "      <th>Name</th>\n",
       "      <th>Weekly.Rank</th>\n",
       "      <th>Peak.Position</th>\n",
       "      <th>Chart.Weeks</th>\n",
       "      <th>BB.Week</th>\n",
       "      <th>Release.Date</th>\n",
       "    </tr>\n",
       "    <tr>\n",
       "      <th>ID</th>\n",
       "      <th></th>\n",
       "      <th></th>\n",
       "      <th></th>\n",
       "      <th></th>\n",
       "      <th></th>\n",
       "      <th></th>\n",
       "      <th></th>\n",
       "    </tr>\n",
       "  </thead>\n",
       "  <tbody>\n",
       "    <tr>\n",
       "      <th>23</th>\n",
       "      <td>Ariana Grande</td>\n",
       "      <td>7 Rings</td>\n",
       "      <td>23</td>\n",
       "      <td>1.0</td>\n",
       "      <td>23.0</td>\n",
       "      <td>2019-07-06</td>\n",
       "      <td>January 18, 2019</td>\n",
       "    </tr>\n",
       "    <tr>\n",
       "      <th>49</th>\n",
       "      <td>Ariana Grande</td>\n",
       "      <td>Break Up With Your Girlfriend, I'm Bored</td>\n",
       "      <td>49</td>\n",
       "      <td>2.0</td>\n",
       "      <td>20.0</td>\n",
       "      <td>2019-07-06</td>\n",
       "      <td>February 8, 2019</td>\n",
       "    </tr>\n",
       "    <tr>\n",
       "      <th>118</th>\n",
       "      <td>Ariana Grande</td>\n",
       "      <td>7 Rings</td>\n",
       "      <td>19</td>\n",
       "      <td>1.0</td>\n",
       "      <td>22.0</td>\n",
       "      <td>2019-06-29</td>\n",
       "      <td>January 18, 2019</td>\n",
       "    </tr>\n",
       "    <tr>\n",
       "      <th>140</th>\n",
       "      <td>Ariana Grande</td>\n",
       "      <td>Break Up With Your Girlfriend, I'm Bored</td>\n",
       "      <td>41</td>\n",
       "      <td>2.0</td>\n",
       "      <td>19.0</td>\n",
       "      <td>2019-06-29</td>\n",
       "      <td>February 8, 2019</td>\n",
       "    </tr>\n",
       "    <tr>\n",
       "      <th>214</th>\n",
       "      <td>Ariana Grande</td>\n",
       "      <td>7 Rings</td>\n",
       "      <td>16</td>\n",
       "      <td>1.0</td>\n",
       "      <td>21.0</td>\n",
       "      <td>2019-06-22</td>\n",
       "      <td>January 18, 2019</td>\n",
       "    </tr>\n",
       "  </tbody>\n",
       "</table>\n",
       "</div>"
      ],
      "text/plain": [
       "           Artists                                      Name  Weekly.Rank  \\\n",
       "ID                                                                          \n",
       "23   Ariana Grande                                   7 Rings           23   \n",
       "49   Ariana Grande  Break Up With Your Girlfriend, I'm Bored           49   \n",
       "118  Ariana Grande                                   7 Rings           19   \n",
       "140  Ariana Grande  Break Up With Your Girlfriend, I'm Bored           41   \n",
       "214  Ariana Grande                                   7 Rings           16   \n",
       "\n",
       "     Peak.Position  Chart.Weeks     BB.Week      Release.Date  \n",
       "ID                                                             \n",
       "23             1.0         23.0  2019-07-06  January 18, 2019  \n",
       "49             2.0         20.0  2019-07-06  February 8, 2019  \n",
       "118            1.0         22.0  2019-06-29  January 18, 2019  \n",
       "140            2.0         19.0  2019-06-29  February 8, 2019  \n",
       "214            1.0         21.0  2019-06-22  January 18, 2019  "
      ]
     },
     "execution_count": 22,
     "metadata": {},
     "output_type": "execute_result"
    }
   ],
   "source": [
    "ariana_bill19.head()"
   ]
  },
  {
   "cell_type": "code",
   "execution_count": 23,
   "id": "b2a29964",
   "metadata": {
    "scrolled": true
   },
   "outputs": [
    {
     "data": {
      "text/plain": [
       "(102, 7)"
      ]
     },
     "execution_count": 23,
     "metadata": {},
     "output_type": "execute_result"
    }
   ],
   "source": [
    "ariana_bill.shape"
   ]
  },
  {
   "cell_type": "code",
   "execution_count": 24,
   "id": "ea2d4a20",
   "metadata": {},
   "outputs": [
    {
     "data": {
      "text/plain": [
       "(101, 7)"
      ]
     },
     "execution_count": 24,
     "metadata": {},
     "output_type": "execute_result"
    }
   ],
   "source": [
    "ariana_bill19.shape"
   ]
  },
  {
   "cell_type": "code",
   "execution_count": 25,
   "id": "12a2a82b",
   "metadata": {},
   "outputs": [],
   "source": [
    "ariana_bill_all = pd.concat([ariana_bill, ariana_bill19])"
   ]
  },
  {
   "cell_type": "code",
   "execution_count": 26,
   "id": "a29f5d23",
   "metadata": {
    "scrolled": true
   },
   "outputs": [
    {
     "data": {
      "text/plain": [
       "(203, 7)"
      ]
     },
     "execution_count": 26,
     "metadata": {},
     "output_type": "execute_result"
    }
   ],
   "source": [
    "ariana_bill_all.shape"
   ]
  },
  {
   "cell_type": "code",
   "execution_count": 27,
   "id": "95d1f156",
   "metadata": {
    "scrolled": true
   },
   "outputs": [
    {
     "data": {
      "text/html": [
       "<div>\n",
       "<style scoped>\n",
       "    .dataframe tbody tr th:only-of-type {\n",
       "        vertical-align: middle;\n",
       "    }\n",
       "\n",
       "    .dataframe tbody tr th {\n",
       "        vertical-align: top;\n",
       "    }\n",
       "\n",
       "    .dataframe thead th {\n",
       "        text-align: right;\n",
       "    }\n",
       "</style>\n",
       "<table border=\"1\" class=\"dataframe\">\n",
       "  <thead>\n",
       "    <tr style=\"text-align: right;\">\n",
       "      <th></th>\n",
       "      <th>Name</th>\n",
       "      <th>Artists</th>\n",
       "      <th>Streams</th>\n",
       "      <th>S.Week</th>\n",
       "      <th>BB.Week</th>\n",
       "    </tr>\n",
       "    <tr>\n",
       "      <th>ID</th>\n",
       "      <th></th>\n",
       "      <th></th>\n",
       "      <th></th>\n",
       "      <th></th>\n",
       "      <th></th>\n",
       "    </tr>\n",
       "  </thead>\n",
       "  <tbody>\n",
       "    <tr>\n",
       "      <th>3</th>\n",
       "      <td>God Is A Woman</td>\n",
       "      <td>Ariana Grande</td>\n",
       "      <td>10771324</td>\n",
       "      <td>2018-07-20</td>\n",
       "      <td>2018-07-21</td>\n",
       "    </tr>\n",
       "    <tr>\n",
       "      <th>28</th>\n",
       "      <td>No Tears Left To Cry</td>\n",
       "      <td>Ariana Grande</td>\n",
       "      <td>4509464</td>\n",
       "      <td>2018-07-20</td>\n",
       "      <td>2018-07-21</td>\n",
       "    </tr>\n",
       "    <tr>\n",
       "      <th>694</th>\n",
       "      <td>Side To Side</td>\n",
       "      <td>Ariana Grande</td>\n",
       "      <td>1886373</td>\n",
       "      <td>2017-03-10</td>\n",
       "      <td>2017-03-11</td>\n",
       "    </tr>\n",
       "    <tr>\n",
       "      <th>761</th>\n",
       "      <td>Everyday</td>\n",
       "      <td>Ariana Grande</td>\n",
       "      <td>1343728</td>\n",
       "      <td>2017-03-10</td>\n",
       "      <td>2017-03-11</td>\n",
       "    </tr>\n",
       "    <tr>\n",
       "      <th>815</th>\n",
       "      <td>No Tears Left To Cry</td>\n",
       "      <td>Ariana Grande</td>\n",
       "      <td>5296282</td>\n",
       "      <td>2018-05-25</td>\n",
       "      <td>2018-05-26</td>\n",
       "    </tr>\n",
       "  </tbody>\n",
       "</table>\n",
       "</div>"
      ],
      "text/plain": [
       "                     Name        Artists   Streams      S.Week     BB.Week\n",
       "ID                                                                        \n",
       "3          God Is A Woman  Ariana Grande  10771324  2018-07-20  2018-07-21\n",
       "28   No Tears Left To Cry  Ariana Grande   4509464  2018-07-20  2018-07-21\n",
       "694          Side To Side  Ariana Grande   1886373  2017-03-10  2017-03-11\n",
       "761              Everyday  Ariana Grande   1343728  2017-03-10  2017-03-11\n",
       "815  No Tears Left To Cry  Ariana Grande   5296282  2018-05-25  2018-05-26"
      ]
     },
     "execution_count": 27,
     "metadata": {},
     "output_type": "execute_result"
    }
   ],
   "source": [
    "ariana_spot.head()"
   ]
  },
  {
   "cell_type": "code",
   "execution_count": 28,
   "id": "1d396dd2",
   "metadata": {
    "scrolled": false
   },
   "outputs": [
    {
     "data": {
      "text/html": [
       "<div>\n",
       "<style scoped>\n",
       "    .dataframe tbody tr th:only-of-type {\n",
       "        vertical-align: middle;\n",
       "    }\n",
       "\n",
       "    .dataframe tbody tr th {\n",
       "        vertical-align: top;\n",
       "    }\n",
       "\n",
       "    .dataframe thead th {\n",
       "        text-align: right;\n",
       "    }\n",
       "</style>\n",
       "<table border=\"1\" class=\"dataframe\">\n",
       "  <thead>\n",
       "    <tr style=\"text-align: right;\">\n",
       "      <th></th>\n",
       "      <th>Name</th>\n",
       "      <th>Artists</th>\n",
       "      <th>Streams</th>\n",
       "      <th>S.Week</th>\n",
       "      <th>BB.Week</th>\n",
       "    </tr>\n",
       "    <tr>\n",
       "      <th>ID</th>\n",
       "      <th></th>\n",
       "      <th></th>\n",
       "      <th></th>\n",
       "      <th></th>\n",
       "      <th></th>\n",
       "    </tr>\n",
       "  </thead>\n",
       "  <tbody>\n",
       "    <tr>\n",
       "      <th>1001</th>\n",
       "      <td>7 Rings</td>\n",
       "      <td>Ariana Grande</td>\n",
       "      <td>6439592</td>\n",
       "      <td>2019-04-12</td>\n",
       "      <td>2019-04-13</td>\n",
       "    </tr>\n",
       "    <tr>\n",
       "      <th>1017</th>\n",
       "      <td>Monopoly</td>\n",
       "      <td>Ariana Grande, Victoria Monet</td>\n",
       "      <td>5512870</td>\n",
       "      <td>2019-04-12</td>\n",
       "      <td>2019-04-13</td>\n",
       "    </tr>\n",
       "    <tr>\n",
       "      <th>1022</th>\n",
       "      <td>Break Up With Your Girlfriend, I'm Bored</td>\n",
       "      <td>Ariana Grande</td>\n",
       "      <td>5080706</td>\n",
       "      <td>2019-04-12</td>\n",
       "      <td>2019-04-13</td>\n",
       "    </tr>\n",
       "    <tr>\n",
       "      <th>1045</th>\n",
       "      <td>Thank U, Next</td>\n",
       "      <td>Ariana Grande</td>\n",
       "      <td>3836034</td>\n",
       "      <td>2019-04-12</td>\n",
       "      <td>2019-04-13</td>\n",
       "    </tr>\n",
       "    <tr>\n",
       "      <th>1136</th>\n",
       "      <td>NASA</td>\n",
       "      <td>Ariana Grande</td>\n",
       "      <td>1943175</td>\n",
       "      <td>2019-04-12</td>\n",
       "      <td>2019-04-13</td>\n",
       "    </tr>\n",
       "  </tbody>\n",
       "</table>\n",
       "</div>"
      ],
      "text/plain": [
       "                                          Name                        Artists  \\\n",
       "ID                                                                              \n",
       "1001                                   7 Rings                  Ariana Grande   \n",
       "1017                                  Monopoly  Ariana Grande, Victoria Monet   \n",
       "1022  Break Up With Your Girlfriend, I'm Bored                  Ariana Grande   \n",
       "1045                             Thank U, Next                  Ariana Grande   \n",
       "1136                                      NASA                  Ariana Grande   \n",
       "\n",
       "      Streams      S.Week     BB.Week  \n",
       "ID                                     \n",
       "1001  6439592  2019-04-12  2019-04-13  \n",
       "1017  5512870  2019-04-12  2019-04-13  \n",
       "1022  5080706  2019-04-12  2019-04-13  \n",
       "1045  3836034  2019-04-12  2019-04-13  \n",
       "1136  1943175  2019-04-12  2019-04-13  "
      ]
     },
     "execution_count": 28,
     "metadata": {},
     "output_type": "execute_result"
    }
   ],
   "source": [
    "ariana_spot19.head()"
   ]
  },
  {
   "cell_type": "code",
   "execution_count": 29,
   "id": "5ad8bb51",
   "metadata": {
    "scrolled": true
   },
   "outputs": [
    {
     "data": {
      "text/plain": [
       "(186, 5)"
      ]
     },
     "execution_count": 29,
     "metadata": {},
     "output_type": "execute_result"
    }
   ],
   "source": [
    "ariana_spot.shape"
   ]
  },
  {
   "cell_type": "code",
   "execution_count": 30,
   "id": "623bb3a6",
   "metadata": {},
   "outputs": [
    {
     "data": {
      "text/plain": [
       "(196, 5)"
      ]
     },
     "execution_count": 30,
     "metadata": {},
     "output_type": "execute_result"
    }
   ],
   "source": [
    "ariana_spot19.shape"
   ]
  },
  {
   "cell_type": "code",
   "execution_count": 31,
   "id": "0735e9f2",
   "metadata": {},
   "outputs": [],
   "source": [
    "ariana_spot_all = pd.concat([ariana_spot, ariana_spot19])"
   ]
  },
  {
   "cell_type": "code",
   "execution_count": 32,
   "id": "b4402e6e",
   "metadata": {
    "scrolled": true
   },
   "outputs": [
    {
     "data": {
      "text/plain": [
       "(382, 5)"
      ]
     },
     "execution_count": 32,
     "metadata": {},
     "output_type": "execute_result"
    }
   ],
   "source": [
    "ariana_spot_all.shape"
   ]
  },
  {
   "cell_type": "code",
   "execution_count": null,
   "id": "e2c1584d",
   "metadata": {},
   "outputs": [],
   "source": []
  },
  {
   "cell_type": "code",
   "execution_count": null,
   "id": "8621c91d",
   "metadata": {},
   "outputs": [],
   "source": []
  },
  {
   "cell_type": "markdown",
   "id": "396bcde0",
   "metadata": {},
   "source": [
    "## Challenge 2\n",
    "- Read additonal CSV Files\n",
    "- Concatenate Billboard 100 2017-2018 data with Billboard 100 2019 data\n",
    "- Concatenate Spotify 200 2017-2018 data with Spotify 200 2019 data\n",
    "- Display shape of combined datasets"
   ]
  },
  {
   "cell_type": "markdown",
   "id": "12176e91",
   "metadata": {},
   "source": [
    "### Read additonal CSV files\n",
    "- Billboard 100 2019 data\n",
    "- Spotify 100 2019 data"
   ]
  },
  {
   "cell_type": "code",
   "execution_count": 35,
   "id": "e46f637b",
   "metadata": {},
   "outputs": [],
   "source": [
    "billboard19 = pd.read_csv(\"Billboard_100_2019.csv\", index_col=\"ID\")\n",
    "spotify19 = pd.read_csv(\"Spotify_200_2019.csv\", index_col=\"ID\")"
   ]
  },
  {
   "cell_type": "markdown",
   "id": "cf8ae1cf",
   "metadata": {},
   "source": [
    "## Concatenate datasets\n",
    "- billboard_all = billboard + billboard19\n",
    "- spotify_all = spotify + spotify19"
   ]
  },
  {
   "cell_type": "code",
   "execution_count": 38,
   "id": "3c4a24a2",
   "metadata": {},
   "outputs": [],
   "source": [
    "billboard_all = pd.concat([billboard, billboard19])"
   ]
  },
  {
   "cell_type": "code",
   "execution_count": 40,
   "id": "5c883a31",
   "metadata": {},
   "outputs": [],
   "source": [
    "spotify_all = pd.concat([spotify, spotify19])"
   ]
  },
  {
   "cell_type": "markdown",
   "id": "f9d967bd",
   "metadata": {},
   "source": [
    "### Show dimensions of billboard, billboard19, and billboard_all datasets"
   ]
  },
  {
   "cell_type": "code",
   "execution_count": null,
   "id": "9403306c",
   "metadata": {},
   "outputs": [],
   "source": []
  },
  {
   "cell_type": "code",
   "execution_count": 44,
   "id": "e13c01aa",
   "metadata": {},
   "outputs": [
    {
     "data": {
      "text/plain": [
       "(10153, 7)"
      ]
     },
     "execution_count": 44,
     "metadata": {},
     "output_type": "execute_result"
    }
   ],
   "source": [
    "billboard.shape"
   ]
  },
  {
   "cell_type": "code",
   "execution_count": 45,
   "id": "c6c06a00",
   "metadata": {},
   "outputs": [
    {
     "data": {
      "text/plain": [
       "(2665, 7)"
      ]
     },
     "execution_count": 45,
     "metadata": {},
     "output_type": "execute_result"
    }
   ],
   "source": [
    "billboard19.shape"
   ]
  },
  {
   "cell_type": "code",
   "execution_count": 46,
   "id": "35caa7e8",
   "metadata": {},
   "outputs": [
    {
     "data": {
      "text/plain": [
       "(12818, 7)"
      ]
     },
     "execution_count": 46,
     "metadata": {},
     "output_type": "execute_result"
    }
   ],
   "source": [
    "billboard_all.shape"
   ]
  },
  {
   "cell_type": "markdown",
   "id": "d49395fc",
   "metadata": {},
   "source": [
    "### Show dimensions of spotify, spotify19, and spotify_all datasets"
   ]
  },
  {
   "cell_type": "code",
   "execution_count": 47,
   "id": "60a9106e",
   "metadata": {},
   "outputs": [
    {
     "data": {
      "text/plain": [
       "(20735, 5)"
      ]
     },
     "execution_count": 47,
     "metadata": {},
     "output_type": "execute_result"
    }
   ],
   "source": [
    "spotify.shape"
   ]
  },
  {
   "cell_type": "code",
   "execution_count": 48,
   "id": "33b3f411",
   "metadata": {},
   "outputs": [
    {
     "data": {
      "text/plain": [
       "(5383, 5)"
      ]
     },
     "execution_count": 48,
     "metadata": {},
     "output_type": "execute_result"
    }
   ],
   "source": [
    "spotify19.shape"
   ]
  },
  {
   "cell_type": "code",
   "execution_count": 49,
   "id": "b1f7fc76",
   "metadata": {},
   "outputs": [
    {
     "data": {
      "text/plain": [
       "(26118, 5)"
      ]
     },
     "execution_count": 49,
     "metadata": {},
     "output_type": "execute_result"
    }
   ],
   "source": [
    "spotify_all.shape"
   ]
  },
  {
   "cell_type": "code",
   "execution_count": null,
   "id": "e06d50d2",
   "metadata": {},
   "outputs": [],
   "source": []
  },
  {
   "cell_type": "code",
   "execution_count": null,
   "id": "97b41bce",
   "metadata": {},
   "outputs": [],
   "source": []
  },
  {
   "cell_type": "code",
   "execution_count": 50,
   "id": "a3a47eeb",
   "metadata": {},
   "outputs": [
    {
     "data": {
      "text/plain": [
       "(203, 7)"
      ]
     },
     "execution_count": 50,
     "metadata": {},
     "output_type": "execute_result"
    }
   ],
   "source": [
    "ariana_bill_all.shape"
   ]
  },
  {
   "cell_type": "code",
   "execution_count": 51,
   "id": "28c9f418",
   "metadata": {},
   "outputs": [
    {
     "data": {
      "text/plain": [
       "(382, 5)"
      ]
     },
     "execution_count": 51,
     "metadata": {},
     "output_type": "execute_result"
    }
   ],
   "source": [
    "ariana_spot_all.shape"
   ]
  },
  {
   "cell_type": "code",
   "execution_count": 52,
   "id": "d5af1089",
   "metadata": {},
   "outputs": [],
   "source": [
    "ariana_final = pd.merge(ariana_bill_all, ariana_spot_all, how=\"left\", on=[\"Name\", \"Artists\", \"BB.Week\"])"
   ]
  },
  {
   "cell_type": "code",
   "execution_count": 53,
   "id": "f0498d54",
   "metadata": {
    "scrolled": true
   },
   "outputs": [
    {
     "data": {
      "text/plain": [
       "(203, 9)"
      ]
     },
     "execution_count": 53,
     "metadata": {},
     "output_type": "execute_result"
    }
   ],
   "source": [
    "ariana_final.shape"
   ]
  },
  {
   "cell_type": "code",
   "execution_count": 54,
   "id": "80d1ecbc",
   "metadata": {
    "scrolled": false
   },
   "outputs": [
    {
     "data": {
      "text/html": [
       "<div>\n",
       "<style scoped>\n",
       "    .dataframe tbody tr th:only-of-type {\n",
       "        vertical-align: middle;\n",
       "    }\n",
       "\n",
       "    .dataframe tbody tr th {\n",
       "        vertical-align: top;\n",
       "    }\n",
       "\n",
       "    .dataframe thead th {\n",
       "        text-align: right;\n",
       "    }\n",
       "</style>\n",
       "<table border=\"1\" class=\"dataframe\">\n",
       "  <thead>\n",
       "    <tr style=\"text-align: right;\">\n",
       "      <th></th>\n",
       "      <th>Artists</th>\n",
       "      <th>Name</th>\n",
       "      <th>Weekly.Rank</th>\n",
       "      <th>Peak.Position</th>\n",
       "      <th>Chart.Weeks</th>\n",
       "      <th>BB.Week</th>\n",
       "      <th>Release.Date</th>\n",
       "      <th>Streams</th>\n",
       "      <th>S.Week</th>\n",
       "    </tr>\n",
       "  </thead>\n",
       "  <tbody>\n",
       "    <tr>\n",
       "      <th>0</th>\n",
       "      <td>Ariana Grande</td>\n",
       "      <td>Thank U, Next</td>\n",
       "      <td>1</td>\n",
       "      <td>1.0</td>\n",
       "      <td>7.0</td>\n",
       "      <td>2018-12-29</td>\n",
       "      <td>November 3, 2018</td>\n",
       "      <td>9226168.0</td>\n",
       "      <td>2018-12-28</td>\n",
       "    </tr>\n",
       "    <tr>\n",
       "      <th>1</th>\n",
       "      <td>Ariana Grande</td>\n",
       "      <td>Breathin</td>\n",
       "      <td>19</td>\n",
       "      <td>12.0</td>\n",
       "      <td>18.0</td>\n",
       "      <td>2018-12-29</td>\n",
       "      <td>August 17, 2018</td>\n",
       "      <td>2435276.0</td>\n",
       "      <td>2018-12-28</td>\n",
       "    </tr>\n",
       "    <tr>\n",
       "      <th>2</th>\n",
       "      <td>Ariana Grande</td>\n",
       "      <td>Imagine</td>\n",
       "      <td>24</td>\n",
       "      <td>NaN</td>\n",
       "      <td>NaN</td>\n",
       "      <td>2018-12-29</td>\n",
       "      <td>December 14, 2018</td>\n",
       "      <td>5205506.0</td>\n",
       "      <td>2018-12-28</td>\n",
       "    </tr>\n",
       "    <tr>\n",
       "      <th>3</th>\n",
       "      <td>Ariana Grande</td>\n",
       "      <td>Thank U, Next</td>\n",
       "      <td>1</td>\n",
       "      <td>1.0</td>\n",
       "      <td>6.0</td>\n",
       "      <td>2018-12-22</td>\n",
       "      <td>November 3, 2018</td>\n",
       "      <td>11776847.0</td>\n",
       "      <td>2018-12-21</td>\n",
       "    </tr>\n",
       "    <tr>\n",
       "      <th>4</th>\n",
       "      <td>Ariana Grande</td>\n",
       "      <td>Breathin</td>\n",
       "      <td>14</td>\n",
       "      <td>12.0</td>\n",
       "      <td>17.0</td>\n",
       "      <td>2018-12-22</td>\n",
       "      <td>August 17, 2018</td>\n",
       "      <td>2899268.0</td>\n",
       "      <td>2018-12-21</td>\n",
       "    </tr>\n",
       "  </tbody>\n",
       "</table>\n",
       "</div>"
      ],
      "text/plain": [
       "         Artists           Name  Weekly.Rank  Peak.Position  Chart.Weeks  \\\n",
       "0  Ariana Grande  Thank U, Next            1            1.0          7.0   \n",
       "1  Ariana Grande       Breathin           19           12.0         18.0   \n",
       "2  Ariana Grande        Imagine           24            NaN          NaN   \n",
       "3  Ariana Grande  Thank U, Next            1            1.0          6.0   \n",
       "4  Ariana Grande       Breathin           14           12.0         17.0   \n",
       "\n",
       "      BB.Week       Release.Date     Streams      S.Week  \n",
       "0  2018-12-29   November 3, 2018   9226168.0  2018-12-28  \n",
       "1  2018-12-29    August 17, 2018   2435276.0  2018-12-28  \n",
       "2  2018-12-29  December 14, 2018   5205506.0  2018-12-28  \n",
       "3  2018-12-22   November 3, 2018  11776847.0  2018-12-21  \n",
       "4  2018-12-22    August 17, 2018   2899268.0  2018-12-21  "
      ]
     },
     "execution_count": 54,
     "metadata": {},
     "output_type": "execute_result"
    }
   ],
   "source": [
    "ariana_final.head()"
   ]
  },
  {
   "cell_type": "code",
   "execution_count": null,
   "id": "7b1dc17e",
   "metadata": {},
   "outputs": [],
   "source": []
  },
  {
   "cell_type": "code",
   "execution_count": null,
   "id": "06cd093b",
   "metadata": {},
   "outputs": [],
   "source": []
  },
  {
   "cell_type": "markdown",
   "id": "2d0ed1ae",
   "metadata": {},
   "source": [
    "## Challenge 3:\n",
    "- Merge Billboard dataset and Spotify dataset\n",
    "- Display shape and head of combined dataset"
   ]
  },
  {
   "cell_type": "markdown",
   "id": "ab69a438",
   "metadata": {},
   "source": [
    "### Merge billboard_all and spotify_all datasets"
   ]
  },
  {
   "cell_type": "code",
   "execution_count": 61,
   "id": "45b17030",
   "metadata": {},
   "outputs": [],
   "source": [
    "bill_spot_final = pd.merge(billboard_all, spotify_all, how=\"left\", on=[\"Name\", \"Artists\", \"BB.Week\"])"
   ]
  },
  {
   "cell_type": "markdown",
   "id": "b0de6d92",
   "metadata": {},
   "source": [
    "### Show dimensions of combined dataset"
   ]
  },
  {
   "cell_type": "code",
   "execution_count": 65,
   "id": "4c14a255",
   "metadata": {},
   "outputs": [
    {
     "data": {
      "text/plain": [
       "(12818, 9)"
      ]
     },
     "execution_count": 65,
     "metadata": {},
     "output_type": "execute_result"
    }
   ],
   "source": [
    "bill_spot_final.shape"
   ]
  },
  {
   "cell_type": "markdown",
   "id": "13c21c34",
   "metadata": {},
   "source": [
    "### Show first five records of combined dataset"
   ]
  },
  {
   "cell_type": "code",
   "execution_count": 66,
   "id": "d2e28d4e",
   "metadata": {
    "scrolled": true
   },
   "outputs": [
    {
     "data": {
      "text/html": [
       "<div>\n",
       "<style scoped>\n",
       "    .dataframe tbody tr th:only-of-type {\n",
       "        vertical-align: middle;\n",
       "    }\n",
       "\n",
       "    .dataframe tbody tr th {\n",
       "        vertical-align: top;\n",
       "    }\n",
       "\n",
       "    .dataframe thead th {\n",
       "        text-align: right;\n",
       "    }\n",
       "</style>\n",
       "<table border=\"1\" class=\"dataframe\">\n",
       "  <thead>\n",
       "    <tr style=\"text-align: right;\">\n",
       "      <th></th>\n",
       "      <th>Artists</th>\n",
       "      <th>Name</th>\n",
       "      <th>Weekly.Rank</th>\n",
       "      <th>Peak.Position</th>\n",
       "      <th>Chart.Weeks</th>\n",
       "      <th>BB.Week</th>\n",
       "      <th>Release.Date</th>\n",
       "      <th>Streams</th>\n",
       "      <th>S.Week</th>\n",
       "    </tr>\n",
       "  </thead>\n",
       "  <tbody>\n",
       "    <tr>\n",
       "      <th>0</th>\n",
       "      <td>Ariana Grande</td>\n",
       "      <td>Thank U, Next</td>\n",
       "      <td>1</td>\n",
       "      <td>1.0</td>\n",
       "      <td>7.0</td>\n",
       "      <td>2018-12-29</td>\n",
       "      <td>November 3, 2018</td>\n",
       "      <td>9226168.0</td>\n",
       "      <td>2018-12-28</td>\n",
       "    </tr>\n",
       "    <tr>\n",
       "      <th>1</th>\n",
       "      <td>Halsey</td>\n",
       "      <td>Without Me</td>\n",
       "      <td>2</td>\n",
       "      <td>2.0</td>\n",
       "      <td>11.0</td>\n",
       "      <td>2018-12-29</td>\n",
       "      <td>October 4, 2018</td>\n",
       "      <td>7412009.0</td>\n",
       "      <td>2018-12-28</td>\n",
       "    </tr>\n",
       "    <tr>\n",
       "      <th>2</th>\n",
       "      <td>Travis Scott</td>\n",
       "      <td>Sicko Mode</td>\n",
       "      <td>3</td>\n",
       "      <td>1.0</td>\n",
       "      <td>20.0</td>\n",
       "      <td>2018-12-29</td>\n",
       "      <td>August 3, 2018</td>\n",
       "      <td>NaN</td>\n",
       "      <td>NaN</td>\n",
       "    </tr>\n",
       "    <tr>\n",
       "      <th>3</th>\n",
       "      <td>Post Malone, Swae Lee</td>\n",
       "      <td>Sunflower</td>\n",
       "      <td>4</td>\n",
       "      <td>4.0</td>\n",
       "      <td>9.0</td>\n",
       "      <td>2018-12-29</td>\n",
       "      <td>October 18, 2018</td>\n",
       "      <td>NaN</td>\n",
       "      <td>NaN</td>\n",
       "    </tr>\n",
       "    <tr>\n",
       "      <th>4</th>\n",
       "      <td>Marshmello, Bastille</td>\n",
       "      <td>Happier</td>\n",
       "      <td>5</td>\n",
       "      <td>3.0</td>\n",
       "      <td>18.0</td>\n",
       "      <td>2018-12-29</td>\n",
       "      <td>August 17, 2018</td>\n",
       "      <td>NaN</td>\n",
       "      <td>NaN</td>\n",
       "    </tr>\n",
       "  </tbody>\n",
       "</table>\n",
       "</div>"
      ],
      "text/plain": [
       "                 Artists           Name  Weekly.Rank  Peak.Position  \\\n",
       "0          Ariana Grande  Thank U, Next            1            1.0   \n",
       "1                 Halsey     Without Me            2            2.0   \n",
       "2           Travis Scott     Sicko Mode            3            1.0   \n",
       "3  Post Malone, Swae Lee      Sunflower            4            4.0   \n",
       "4   Marshmello, Bastille        Happier            5            3.0   \n",
       "\n",
       "   Chart.Weeks     BB.Week      Release.Date    Streams      S.Week  \n",
       "0          7.0  2018-12-29  November 3, 2018  9226168.0  2018-12-28  \n",
       "1         11.0  2018-12-29   October 4, 2018  7412009.0  2018-12-28  \n",
       "2         20.0  2018-12-29    August 3, 2018        NaN         NaN  \n",
       "3          9.0  2018-12-29  October 18, 2018        NaN         NaN  \n",
       "4         18.0  2018-12-29   August 17, 2018        NaN         NaN  "
      ]
     },
     "execution_count": 66,
     "metadata": {},
     "output_type": "execute_result"
    }
   ],
   "source": [
    "bill_spot_final.head()"
   ]
  },
  {
   "cell_type": "code",
   "execution_count": null,
   "id": "254e0fbe",
   "metadata": {},
   "outputs": [],
   "source": []
  }
 ],
 "metadata": {
  "kernelspec": {
   "display_name": "Python 3 (ipykernel)",
   "language": "python",
   "name": "python3"
  },
  "language_info": {
   "codemirror_mode": {
    "name": "ipython",
    "version": 3
   },
   "file_extension": ".py",
   "mimetype": "text/x-python",
   "name": "python",
   "nbconvert_exporter": "python",
   "pygments_lexer": "ipython3",
   "version": "3.10.9"
  }
 },
 "nbformat": 4,
 "nbformat_minor": 5
}
