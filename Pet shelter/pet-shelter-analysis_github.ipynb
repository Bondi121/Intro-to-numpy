{
 "cells": [
  {
   "cell_type": "markdown",
   "id": "ffbdb81c",
   "metadata": {},
   "source": [
    "# Pet Shelter Analysis \n",
    "* Data from: https://www.kaggle.com/datasets/aaronschlegel/austin-animal-center-shelter-intakes-and-outcomes"
   ]
  },
  {
   "cell_type": "code",
   "execution_count": 1,
   "id": "06fbb87d",
   "metadata": {},
   "outputs": [],
   "source": [
    "import pandas as pd\n",
    "import numpy as np\n",
    "import datetime"
   ]
  },
  {
   "cell_type": "markdown",
   "id": "18f51fec",
   "metadata": {},
   "source": [
    "# Import csv files and check the basic info on each"
   ]
  },
  {
   "cell_type": "code",
   "execution_count": 2,
   "id": "667df689",
   "metadata": {},
   "outputs": [
    {
     "ename": "FileNotFoundError",
     "evalue": "[Errno 2] No such file or directory: '/Users/william/Documents/Treehouse/code/Python/Unit-Projects/pet-shelter-analysis/aac_intakes.csv'",
     "output_type": "error",
     "traceback": [
      "\u001b[1;31m---------------------------------------------------------------------------\u001b[0m",
      "\u001b[1;31mFileNotFoundError\u001b[0m                         Traceback (most recent call last)",
      "Cell \u001b[1;32mIn[2], line 2\u001b[0m\n\u001b[0;32m      1\u001b[0m \u001b[38;5;66;03m# https://datascientyst.com/read-analyse-large-csv-file-pandas-dask/\u001b[39;00m\n\u001b[1;32m----> 2\u001b[0m intakes \u001b[38;5;241m=\u001b[39m \u001b[43mpd\u001b[49m\u001b[38;5;241;43m.\u001b[39;49m\u001b[43mread_csv\u001b[49m\u001b[43m(\u001b[49m\u001b[38;5;124;43m'\u001b[39;49m\u001b[38;5;124;43m/Users/william/Documents/Treehouse/code/Python/Unit-Projects/pet-shelter-analysis/aac_intakes.csv\u001b[39;49m\u001b[38;5;124;43m'\u001b[39;49m\u001b[43m)\u001b[49m\n\u001b[0;32m      3\u001b[0m outcomes \u001b[38;5;241m=\u001b[39m pd\u001b[38;5;241m.\u001b[39mread_csv(\u001b[38;5;124m'\u001b[39m\u001b[38;5;124m/Users/william/Documents/Treehouse/code/Python/Unit-Projects/pet-shelter-analysis/aac_outcomes.csv\u001b[39m\u001b[38;5;124m'\u001b[39m)\n\u001b[0;32m      4\u001b[0m intakes_outcomes \u001b[38;5;241m=\u001b[39m pd\u001b[38;5;241m.\u001b[39mread_csv(\u001b[38;5;124m'\u001b[39m\u001b[38;5;124m/Users/william/Documents/Treehouse/code/Python/Unit-Projects/pet-shelter-analysis/aac_intakes_outcomes.csv\u001b[39m\u001b[38;5;124m'\u001b[39m)\n",
      "File \u001b[1;32m~\\miniconda3\\envs\\100days\\lib\\site-packages\\pandas\\util\\_decorators.py:211\u001b[0m, in \u001b[0;36mdeprecate_kwarg.<locals>._deprecate_kwarg.<locals>.wrapper\u001b[1;34m(*args, **kwargs)\u001b[0m\n\u001b[0;32m    209\u001b[0m     \u001b[38;5;28;01melse\u001b[39;00m:\n\u001b[0;32m    210\u001b[0m         kwargs[new_arg_name] \u001b[38;5;241m=\u001b[39m new_arg_value\n\u001b[1;32m--> 211\u001b[0m \u001b[38;5;28;01mreturn\u001b[39;00m func(\u001b[38;5;241m*\u001b[39margs, \u001b[38;5;241m*\u001b[39m\u001b[38;5;241m*\u001b[39mkwargs)\n",
      "File \u001b[1;32m~\\miniconda3\\envs\\100days\\lib\\site-packages\\pandas\\util\\_decorators.py:331\u001b[0m, in \u001b[0;36mdeprecate_nonkeyword_arguments.<locals>.decorate.<locals>.wrapper\u001b[1;34m(*args, **kwargs)\u001b[0m\n\u001b[0;32m    325\u001b[0m \u001b[38;5;28;01mif\u001b[39;00m \u001b[38;5;28mlen\u001b[39m(args) \u001b[38;5;241m>\u001b[39m num_allow_args:\n\u001b[0;32m    326\u001b[0m     warnings\u001b[38;5;241m.\u001b[39mwarn(\n\u001b[0;32m    327\u001b[0m         msg\u001b[38;5;241m.\u001b[39mformat(arguments\u001b[38;5;241m=\u001b[39m_format_argument_list(allow_args)),\n\u001b[0;32m    328\u001b[0m         \u001b[38;5;167;01mFutureWarning\u001b[39;00m,\n\u001b[0;32m    329\u001b[0m         stacklevel\u001b[38;5;241m=\u001b[39mfind_stack_level(),\n\u001b[0;32m    330\u001b[0m     )\n\u001b[1;32m--> 331\u001b[0m \u001b[38;5;28;01mreturn\u001b[39;00m func(\u001b[38;5;241m*\u001b[39margs, \u001b[38;5;241m*\u001b[39m\u001b[38;5;241m*\u001b[39mkwargs)\n",
      "File \u001b[1;32m~\\miniconda3\\envs\\100days\\lib\\site-packages\\pandas\\io\\parsers\\readers.py:950\u001b[0m, in \u001b[0;36mread_csv\u001b[1;34m(filepath_or_buffer, sep, delimiter, header, names, index_col, usecols, squeeze, prefix, mangle_dupe_cols, dtype, engine, converters, true_values, false_values, skipinitialspace, skiprows, skipfooter, nrows, na_values, keep_default_na, na_filter, verbose, skip_blank_lines, parse_dates, infer_datetime_format, keep_date_col, date_parser, dayfirst, cache_dates, iterator, chunksize, compression, thousands, decimal, lineterminator, quotechar, quoting, doublequote, escapechar, comment, encoding, encoding_errors, dialect, error_bad_lines, warn_bad_lines, on_bad_lines, delim_whitespace, low_memory, memory_map, float_precision, storage_options)\u001b[0m\n\u001b[0;32m    935\u001b[0m kwds_defaults \u001b[38;5;241m=\u001b[39m _refine_defaults_read(\n\u001b[0;32m    936\u001b[0m     dialect,\n\u001b[0;32m    937\u001b[0m     delimiter,\n\u001b[1;32m   (...)\u001b[0m\n\u001b[0;32m    946\u001b[0m     defaults\u001b[38;5;241m=\u001b[39m{\u001b[38;5;124m\"\u001b[39m\u001b[38;5;124mdelimiter\u001b[39m\u001b[38;5;124m\"\u001b[39m: \u001b[38;5;124m\"\u001b[39m\u001b[38;5;124m,\u001b[39m\u001b[38;5;124m\"\u001b[39m},\n\u001b[0;32m    947\u001b[0m )\n\u001b[0;32m    948\u001b[0m kwds\u001b[38;5;241m.\u001b[39mupdate(kwds_defaults)\n\u001b[1;32m--> 950\u001b[0m \u001b[38;5;28;01mreturn\u001b[39;00m \u001b[43m_read\u001b[49m\u001b[43m(\u001b[49m\u001b[43mfilepath_or_buffer\u001b[49m\u001b[43m,\u001b[49m\u001b[43m \u001b[49m\u001b[43mkwds\u001b[49m\u001b[43m)\u001b[49m\n",
      "File \u001b[1;32m~\\miniconda3\\envs\\100days\\lib\\site-packages\\pandas\\io\\parsers\\readers.py:605\u001b[0m, in \u001b[0;36m_read\u001b[1;34m(filepath_or_buffer, kwds)\u001b[0m\n\u001b[0;32m    602\u001b[0m _validate_names(kwds\u001b[38;5;241m.\u001b[39mget(\u001b[38;5;124m\"\u001b[39m\u001b[38;5;124mnames\u001b[39m\u001b[38;5;124m\"\u001b[39m, \u001b[38;5;28;01mNone\u001b[39;00m))\n\u001b[0;32m    604\u001b[0m \u001b[38;5;66;03m# Create the parser.\u001b[39;00m\n\u001b[1;32m--> 605\u001b[0m parser \u001b[38;5;241m=\u001b[39m TextFileReader(filepath_or_buffer, \u001b[38;5;241m*\u001b[39m\u001b[38;5;241m*\u001b[39mkwds)\n\u001b[0;32m    607\u001b[0m \u001b[38;5;28;01mif\u001b[39;00m chunksize \u001b[38;5;129;01mor\u001b[39;00m iterator:\n\u001b[0;32m    608\u001b[0m     \u001b[38;5;28;01mreturn\u001b[39;00m parser\n",
      "File \u001b[1;32m~\\miniconda3\\envs\\100days\\lib\\site-packages\\pandas\\io\\parsers\\readers.py:1442\u001b[0m, in \u001b[0;36mTextFileReader.__init__\u001b[1;34m(self, f, engine, **kwds)\u001b[0m\n\u001b[0;32m   1439\u001b[0m     \u001b[38;5;28mself\u001b[39m\u001b[38;5;241m.\u001b[39moptions[\u001b[38;5;124m\"\u001b[39m\u001b[38;5;124mhas_index_names\u001b[39m\u001b[38;5;124m\"\u001b[39m] \u001b[38;5;241m=\u001b[39m kwds[\u001b[38;5;124m\"\u001b[39m\u001b[38;5;124mhas_index_names\u001b[39m\u001b[38;5;124m\"\u001b[39m]\n\u001b[0;32m   1441\u001b[0m \u001b[38;5;28mself\u001b[39m\u001b[38;5;241m.\u001b[39mhandles: IOHandles \u001b[38;5;241m|\u001b[39m \u001b[38;5;28;01mNone\u001b[39;00m \u001b[38;5;241m=\u001b[39m \u001b[38;5;28;01mNone\u001b[39;00m\n\u001b[1;32m-> 1442\u001b[0m \u001b[38;5;28mself\u001b[39m\u001b[38;5;241m.\u001b[39m_engine \u001b[38;5;241m=\u001b[39m \u001b[38;5;28;43mself\u001b[39;49m\u001b[38;5;241;43m.\u001b[39;49m\u001b[43m_make_engine\u001b[49m\u001b[43m(\u001b[49m\u001b[43mf\u001b[49m\u001b[43m,\u001b[49m\u001b[43m \u001b[49m\u001b[38;5;28;43mself\u001b[39;49m\u001b[38;5;241;43m.\u001b[39;49m\u001b[43mengine\u001b[49m\u001b[43m)\u001b[49m\n",
      "File \u001b[1;32m~\\miniconda3\\envs\\100days\\lib\\site-packages\\pandas\\io\\parsers\\readers.py:1735\u001b[0m, in \u001b[0;36mTextFileReader._make_engine\u001b[1;34m(self, f, engine)\u001b[0m\n\u001b[0;32m   1733\u001b[0m     \u001b[38;5;28;01mif\u001b[39;00m \u001b[38;5;124m\"\u001b[39m\u001b[38;5;124mb\u001b[39m\u001b[38;5;124m\"\u001b[39m \u001b[38;5;129;01mnot\u001b[39;00m \u001b[38;5;129;01min\u001b[39;00m mode:\n\u001b[0;32m   1734\u001b[0m         mode \u001b[38;5;241m+\u001b[39m\u001b[38;5;241m=\u001b[39m \u001b[38;5;124m\"\u001b[39m\u001b[38;5;124mb\u001b[39m\u001b[38;5;124m\"\u001b[39m\n\u001b[1;32m-> 1735\u001b[0m \u001b[38;5;28mself\u001b[39m\u001b[38;5;241m.\u001b[39mhandles \u001b[38;5;241m=\u001b[39m \u001b[43mget_handle\u001b[49m\u001b[43m(\u001b[49m\n\u001b[0;32m   1736\u001b[0m \u001b[43m    \u001b[49m\u001b[43mf\u001b[49m\u001b[43m,\u001b[49m\n\u001b[0;32m   1737\u001b[0m \u001b[43m    \u001b[49m\u001b[43mmode\u001b[49m\u001b[43m,\u001b[49m\n\u001b[0;32m   1738\u001b[0m \u001b[43m    \u001b[49m\u001b[43mencoding\u001b[49m\u001b[38;5;241;43m=\u001b[39;49m\u001b[38;5;28;43mself\u001b[39;49m\u001b[38;5;241;43m.\u001b[39;49m\u001b[43moptions\u001b[49m\u001b[38;5;241;43m.\u001b[39;49m\u001b[43mget\u001b[49m\u001b[43m(\u001b[49m\u001b[38;5;124;43m\"\u001b[39;49m\u001b[38;5;124;43mencoding\u001b[39;49m\u001b[38;5;124;43m\"\u001b[39;49m\u001b[43m,\u001b[49m\u001b[43m \u001b[49m\u001b[38;5;28;43;01mNone\u001b[39;49;00m\u001b[43m)\u001b[49m\u001b[43m,\u001b[49m\n\u001b[0;32m   1739\u001b[0m \u001b[43m    \u001b[49m\u001b[43mcompression\u001b[49m\u001b[38;5;241;43m=\u001b[39;49m\u001b[38;5;28;43mself\u001b[39;49m\u001b[38;5;241;43m.\u001b[39;49m\u001b[43moptions\u001b[49m\u001b[38;5;241;43m.\u001b[39;49m\u001b[43mget\u001b[49m\u001b[43m(\u001b[49m\u001b[38;5;124;43m\"\u001b[39;49m\u001b[38;5;124;43mcompression\u001b[39;49m\u001b[38;5;124;43m\"\u001b[39;49m\u001b[43m,\u001b[49m\u001b[43m \u001b[49m\u001b[38;5;28;43;01mNone\u001b[39;49;00m\u001b[43m)\u001b[49m\u001b[43m,\u001b[49m\n\u001b[0;32m   1740\u001b[0m \u001b[43m    \u001b[49m\u001b[43mmemory_map\u001b[49m\u001b[38;5;241;43m=\u001b[39;49m\u001b[38;5;28;43mself\u001b[39;49m\u001b[38;5;241;43m.\u001b[39;49m\u001b[43moptions\u001b[49m\u001b[38;5;241;43m.\u001b[39;49m\u001b[43mget\u001b[49m\u001b[43m(\u001b[49m\u001b[38;5;124;43m\"\u001b[39;49m\u001b[38;5;124;43mmemory_map\u001b[39;49m\u001b[38;5;124;43m\"\u001b[39;49m\u001b[43m,\u001b[49m\u001b[43m \u001b[49m\u001b[38;5;28;43;01mFalse\u001b[39;49;00m\u001b[43m)\u001b[49m\u001b[43m,\u001b[49m\n\u001b[0;32m   1741\u001b[0m \u001b[43m    \u001b[49m\u001b[43mis_text\u001b[49m\u001b[38;5;241;43m=\u001b[39;49m\u001b[43mis_text\u001b[49m\u001b[43m,\u001b[49m\n\u001b[0;32m   1742\u001b[0m \u001b[43m    \u001b[49m\u001b[43merrors\u001b[49m\u001b[38;5;241;43m=\u001b[39;49m\u001b[38;5;28;43mself\u001b[39;49m\u001b[38;5;241;43m.\u001b[39;49m\u001b[43moptions\u001b[49m\u001b[38;5;241;43m.\u001b[39;49m\u001b[43mget\u001b[49m\u001b[43m(\u001b[49m\u001b[38;5;124;43m\"\u001b[39;49m\u001b[38;5;124;43mencoding_errors\u001b[39;49m\u001b[38;5;124;43m\"\u001b[39;49m\u001b[43m,\u001b[49m\u001b[43m \u001b[49m\u001b[38;5;124;43m\"\u001b[39;49m\u001b[38;5;124;43mstrict\u001b[39;49m\u001b[38;5;124;43m\"\u001b[39;49m\u001b[43m)\u001b[49m\u001b[43m,\u001b[49m\n\u001b[0;32m   1743\u001b[0m \u001b[43m    \u001b[49m\u001b[43mstorage_options\u001b[49m\u001b[38;5;241;43m=\u001b[39;49m\u001b[38;5;28;43mself\u001b[39;49m\u001b[38;5;241;43m.\u001b[39;49m\u001b[43moptions\u001b[49m\u001b[38;5;241;43m.\u001b[39;49m\u001b[43mget\u001b[49m\u001b[43m(\u001b[49m\u001b[38;5;124;43m\"\u001b[39;49m\u001b[38;5;124;43mstorage_options\u001b[39;49m\u001b[38;5;124;43m\"\u001b[39;49m\u001b[43m,\u001b[49m\u001b[43m \u001b[49m\u001b[38;5;28;43;01mNone\u001b[39;49;00m\u001b[43m)\u001b[49m\u001b[43m,\u001b[49m\n\u001b[0;32m   1744\u001b[0m \u001b[43m\u001b[49m\u001b[43m)\u001b[49m\n\u001b[0;32m   1745\u001b[0m \u001b[38;5;28;01massert\u001b[39;00m \u001b[38;5;28mself\u001b[39m\u001b[38;5;241m.\u001b[39mhandles \u001b[38;5;129;01mis\u001b[39;00m \u001b[38;5;129;01mnot\u001b[39;00m \u001b[38;5;28;01mNone\u001b[39;00m\n\u001b[0;32m   1746\u001b[0m f \u001b[38;5;241m=\u001b[39m \u001b[38;5;28mself\u001b[39m\u001b[38;5;241m.\u001b[39mhandles\u001b[38;5;241m.\u001b[39mhandle\n",
      "File \u001b[1;32m~\\miniconda3\\envs\\100days\\lib\\site-packages\\pandas\\io\\common.py:856\u001b[0m, in \u001b[0;36mget_handle\u001b[1;34m(path_or_buf, mode, encoding, compression, memory_map, is_text, errors, storage_options)\u001b[0m\n\u001b[0;32m    851\u001b[0m \u001b[38;5;28;01melif\u001b[39;00m \u001b[38;5;28misinstance\u001b[39m(handle, \u001b[38;5;28mstr\u001b[39m):\n\u001b[0;32m    852\u001b[0m     \u001b[38;5;66;03m# Check whether the filename is to be opened in binary mode.\u001b[39;00m\n\u001b[0;32m    853\u001b[0m     \u001b[38;5;66;03m# Binary mode does not support 'encoding' and 'newline'.\u001b[39;00m\n\u001b[0;32m    854\u001b[0m     \u001b[38;5;28;01mif\u001b[39;00m ioargs\u001b[38;5;241m.\u001b[39mencoding \u001b[38;5;129;01mand\u001b[39;00m \u001b[38;5;124m\"\u001b[39m\u001b[38;5;124mb\u001b[39m\u001b[38;5;124m\"\u001b[39m \u001b[38;5;129;01mnot\u001b[39;00m \u001b[38;5;129;01min\u001b[39;00m ioargs\u001b[38;5;241m.\u001b[39mmode:\n\u001b[0;32m    855\u001b[0m         \u001b[38;5;66;03m# Encoding\u001b[39;00m\n\u001b[1;32m--> 856\u001b[0m         handle \u001b[38;5;241m=\u001b[39m \u001b[38;5;28;43mopen\u001b[39;49m\u001b[43m(\u001b[49m\n\u001b[0;32m    857\u001b[0m \u001b[43m            \u001b[49m\u001b[43mhandle\u001b[49m\u001b[43m,\u001b[49m\n\u001b[0;32m    858\u001b[0m \u001b[43m            \u001b[49m\u001b[43mioargs\u001b[49m\u001b[38;5;241;43m.\u001b[39;49m\u001b[43mmode\u001b[49m\u001b[43m,\u001b[49m\n\u001b[0;32m    859\u001b[0m \u001b[43m            \u001b[49m\u001b[43mencoding\u001b[49m\u001b[38;5;241;43m=\u001b[39;49m\u001b[43mioargs\u001b[49m\u001b[38;5;241;43m.\u001b[39;49m\u001b[43mencoding\u001b[49m\u001b[43m,\u001b[49m\n\u001b[0;32m    860\u001b[0m \u001b[43m            \u001b[49m\u001b[43merrors\u001b[49m\u001b[38;5;241;43m=\u001b[39;49m\u001b[43merrors\u001b[49m\u001b[43m,\u001b[49m\n\u001b[0;32m    861\u001b[0m \u001b[43m            \u001b[49m\u001b[43mnewline\u001b[49m\u001b[38;5;241;43m=\u001b[39;49m\u001b[38;5;124;43m\"\u001b[39;49m\u001b[38;5;124;43m\"\u001b[39;49m\u001b[43m,\u001b[49m\n\u001b[0;32m    862\u001b[0m \u001b[43m        \u001b[49m\u001b[43m)\u001b[49m\n\u001b[0;32m    863\u001b[0m     \u001b[38;5;28;01melse\u001b[39;00m:\n\u001b[0;32m    864\u001b[0m         \u001b[38;5;66;03m# Binary mode\u001b[39;00m\n\u001b[0;32m    865\u001b[0m         handle \u001b[38;5;241m=\u001b[39m \u001b[38;5;28mopen\u001b[39m(handle, ioargs\u001b[38;5;241m.\u001b[39mmode)\n",
      "\u001b[1;31mFileNotFoundError\u001b[0m: [Errno 2] No such file or directory: '/Users/william/Documents/Treehouse/code/Python/Unit-Projects/pet-shelter-analysis/aac_intakes.csv'"
     ]
    }
   ],
   "source": [
    "# https://datascientyst.com/read-analyse-large-csv-file-pandas-dask/\n",
    "intakes = pd.read_csv('/Users/william/Documents/Treehouse/code/Python/Unit-Projects/pet-shelter-analysis/aac_intakes.csv')\n",
    "outcomes = pd.read_csv('/Users/william/Documents/Treehouse/code/Python/Unit-Projects/pet-shelter-analysis/aac_outcomes.csv')\n",
    "intakes_outcomes = pd.read_csv('/Users/william/Documents/Treehouse/code/Python/Unit-Projects/pet-shelter-analysis/aac_intakes_outcomes.csv')\n"
   ]
  },
  {
   "cell_type": "code",
   "execution_count": null,
   "id": "294a20df",
   "metadata": {
    "scrolled": false
   },
   "outputs": [],
   "source": [
    "intakes_outcomes.head()"
   ]
  },
  {
   "cell_type": "code",
   "execution_count": null,
   "id": "874f40e3",
   "metadata": {},
   "outputs": [],
   "source": [
    "outcomes.info()"
   ]
  },
  {
   "cell_type": "markdown",
   "id": "b9adab79",
   "metadata": {},
   "source": [
    "# 1. Is there an area where more pets are found?\n",
    "Find the top 5 places where animals are found so the shelter can coordinate with local volunteers and animal control to monitor these areas.\n",
    "\n",
    "Hint: Try to group the found locations together."
   ]
  },
  {
   "cell_type": "code",
   "execution_count": null,
   "id": "855faba5",
   "metadata": {
    "scrolled": false
   },
   "outputs": [],
   "source": [
    "# https://datascientyst.com/get-top-10-highest-lowest-values-pandas/\n",
    "grouped_by_found_location = intakes.groupby('found_location')\n",
    "top_fifteen_locations = grouped_by_found_location.size().nlargest(n=15)\n",
    "print(top_fifteen_locations)"
   ]
  },
  {
   "cell_type": "markdown",
   "id": "c9272d2a",
   "metadata": {},
   "source": [
    "### The top 5 places in Austin where animals were found were 7201 Levander Loop, 4434 Frontier Trl, 124 W Anderson Ln, 1156 W Cesar Chavez, and 12034 Research Blvd. \n",
    "\n",
    "This information was found by grouping the intakes data by 'found_location' and then using nlargest to get the top fifteen locations. Locations outside of Austin or 'other' categories, such as 'Outside Jurisdiction', were removed so that workers could focus on specific areas. "
   ]
  },
  {
   "cell_type": "markdown",
   "id": "a4645b8f",
   "metadata": {},
   "source": [
    "# 2. What is the average number of pets found in a month in the year 2015? Are there months where there is a higher number of animals found?\n",
    "Knowing the number of pets the shelter might see in a month can help them gather enough resources and donations to care for the animals they receive."
   ]
  },
  {
   "cell_type": "code",
   "execution_count": null,
   "id": "62c73097",
   "metadata": {
    "scrolled": true
   },
   "outputs": [],
   "source": [
    "# https://www.geeksforgeeks.org/convert-the-column-type-from-string-to-datetime-format-in-pandas-dataframe/\n",
    "intakes['datetime'] = pd.to_datetime(intakes['datetime'])\n",
    "\n",
    "# https://datascientyst.com/convert-month-number-to-month-name-pandas-dataframe/\n",
    "intakes['month_found'] = intakes['datetime'].dt.month_name()\n",
    "intakes['year_found'] = intakes['datetime'].dt.year\n",
    "\n",
    "#The below also work but are longer. Maybe because 'datetime' is already imported, 'dt' can be used\n",
    "#intakes['month_found'] = pd.DatetimeIndex(intakes['datetime']).month_name()\n",
    "#intakes['year_found'] = pd.DatetimeIndex(intakes['datetime']).year\n"
   ]
  },
  {
   "cell_type": "code",
   "execution_count": null,
   "id": "5f23409d",
   "metadata": {},
   "outputs": [],
   "source": [
    "average_pets_found_in_2015 = round(intakes[intakes['year_found'] == 2015].groupby('month_found').size().mean())\n",
    "print(f'In 2015, the average number of pets found per month was approximately {average_pets_found_in_2015}')"
   ]
  },
  {
   "cell_type": "code",
   "execution_count": null,
   "id": "4bbd250c",
   "metadata": {},
   "outputs": [],
   "source": [
    "group_by_month_found = intakes[intakes['year_found'] == 2015].groupby('month_found')\n",
    "highest_months = group_by_month_found.size().nlargest(n=3)\n",
    "\n",
    "print(highest_months)\n",
    "print(f'The months with the highest number of animals found were {highest_months.index[0]}, {highest_months.index[1]}, and {highest_months.index[2]}')\n",
    "\n"
   ]
  },
  {
   "cell_type": "markdown",
   "id": "2aad3a29",
   "metadata": {},
   "source": [
    "### In 2015, the average number of pets found per month was approximately 1559\n",
    "\n",
    "### The months with the highest number of animals found were June, May, and October\n",
    "\n",
    "To start, new columns for month and year found were created by extracting the information from the datetime column and saving them as integers in new columns. \n",
    "To get the average found in 2015, the intakes data was filtered for entries from 2015, that was grouped by the month found, 'size()' was used to get the number found each month, and 'mean()' was used to get the average of the generated column.\n",
    "To get the months with the highest number of animals found, the intakes data was once again filtered for entries from 2015, grouped by the month found, and 'size()' was used to get the number found each month. nlargest(n=3) was then used to find the three columns with the largest entries."
   ]
  },
  {
   "cell_type": "markdown",
   "id": "74cd8c50",
   "metadata": {},
   "source": [
    "# 3. What is the ratio of incoming pets vs. adopted pets?\n",
    "This key metric helps the shelter know how they are doing."
   ]
  },
  {
   "cell_type": "code",
   "execution_count": null,
   "id": "b2a43bfa",
   "metadata": {},
   "outputs": [],
   "source": [
    "# https://docs.python.org/3/library/fractions.html\n",
    "# https://bobbyhadz.com/blog/python-attributeerror-float-object-has-no-attribute-round\n",
    "from fractions import Fraction\n",
    "total_incoming_pets = len(intakes_outcomes)\n",
    "total_adopted_pets = len(intakes_outcomes[intakes_outcomes['outcome_type'] == 'Adoption'])\n",
    "incoming_vs_adopted_fraction = Fraction(total_adopted_pets/total_incoming_pets).limit_denominator(10)\n",
    "incoming_vs_adopted_percent = round(((total_adopted_pets/total_incoming_pets)*100), 2)\n",
    "print(f'The ratio of incoming pets to adopted pets is approximately: {incoming_vs_adopted_fraction.denominator}:{incoming_vs_adopted_fraction.numerator}\\nSo about {incoming_vs_adopted_percent}% of pets are adopted.')\n",
    "\n"
   ]
  },
  {
   "cell_type": "markdown",
   "id": "309a982f",
   "metadata": {},
   "source": [
    "### The ratio of incoming pets to adopted pets is approximately: 7:3\n",
    "### So about 42.17% of pets are adopted.\n",
    "\n",
    "The lenth of the incomes_outcomes file was used to determine the total number of pets taken in, and the total number of pets adopted was found by filtering the file by 'outcome_type' that equaled 'Adoption'. By using the Fractions module, the numerator and denominator of the resultind fraction could be used to show the ratio."
   ]
  },
  {
   "cell_type": "markdown",
   "id": "320362ae",
   "metadata": {},
   "source": [
    "# 4. What is the distribution of the types of animals in the shelter?\n",
    "Find the count of each type of animal in the shelter."
   ]
  },
  {
   "cell_type": "code",
   "execution_count": null,
   "id": "ed66d9c2",
   "metadata": {},
   "outputs": [],
   "source": [
    "import matplotlib.pyplot as plt\n",
    "count_by_animal = intakes.groupby('animal_type').size()\n",
    "count_by_animal_graph = intakes.groupby('animal_type').size().plot.bar()\n",
    "print(count_by_animal)\n",
    "print(count_by_animal_graph)"
   ]
  },
  {
   "cell_type": "markdown",
   "id": "870bec37",
   "metadata": {},
   "source": [
    "### The number of animals in the shelter are as follows: \n",
    "* Dog: 45,743\n",
    "* Cat: 29,659\n",
    "* Bird: 342\n",
    "* Livestock: 9\n",
    "* Other: 4434\n",
    "\n",
    "This information was determined by grouping the intakes by 'animal_type' and then getting the number for each group by using 'size()'"
   ]
  },
  {
   "cell_type": "markdown",
   "id": "2c6ac64f",
   "metadata": {},
   "source": [
    "# 5. What are the adoption rates for specific breeds?\n",
    "Find the top 5 dog breeds in the shelter (based on count) and then find the adoption percentage of each breed."
   ]
  },
  {
   "cell_type": "code",
   "execution_count": null,
   "id": "9f8ecf2e",
   "metadata": {
    "scrolled": true
   },
   "outputs": [],
   "source": [
    "# https://stackoverflow.com/questions/18327624/find-elements-index-in-pandas-series\n",
    "top_dog_breeds_in_shelter_series = outcomes[outcomes['animal_type'] == 'Dog'].groupby('breed').size().nlargest(n=5)\n",
    "\n",
    "for label, value in top_dog_breeds_in_shelter_series.items():\n",
    "    number_adopted = len(outcomes[(outcomes['breed'] == label) & (outcomes['outcome_type'] == 'Adoption')])\n",
    "    print(f'The adoption rate for {label} is {round((number_adopted/value)*100)}%')\n"
   ]
  },
  {
   "cell_type": "markdown",
   "id": "a8697af3",
   "metadata": {},
   "source": [
    "### The adoption rates for specific dog breeds is as follows:\n",
    "* The adoption rate for Pit Bull Mix is 37%\n",
    "* The adoption rate for Chihuahua Shorthair Mix is 47%\n",
    "* The adoption rate for Labrador Retriever Mix is 50%\n",
    "* The adoption rate for German Shepherd Mix is 48%\n",
    "* The adoption rate for Australian Cattle Dog Mix is 56%\n",
    "\n",
    "This information was determined by first finding the top 5 dog breeds in the shelter by filtering for dogs, grouping by breed, using 'size()' to get the number for each breed, and finally using 'nlargest(n=5)' to get the top 5. After this, the resulting dog breeds were used to filter the outcomes data and find the number of each breed that had been adopted. With these two pieces of information, the adoption percentage was determined."
   ]
  },
  {
   "cell_type": "markdown",
   "id": "7e4e0cb3",
   "metadata": {},
   "source": [
    "# 6. What are the adoption rates for different colorings?\n",
    "Find the top 5 colorings in the shelter (based on count) and then find the adoption percentage of each color."
   ]
  },
  {
   "cell_type": "code",
   "execution_count": null,
   "id": "dbaf5172",
   "metadata": {
    "scrolled": true
   },
   "outputs": [],
   "source": [
    "top_colorings_in_shelter_series = outcomes.groupby('color').size().nlargest(n=5)\n",
    "\n",
    "for label, value in top_colorings_in_shelter_series.items():\n",
    "    number_adopted = len(outcomes[(outcomes['color'] == label) & (outcomes['outcome_type'] == 'Adoption')])\n",
    "    print(f'The adoption rate for {label} pets is {round((number_adopted/value)*100)}%')\n"
   ]
  },
  {
   "cell_type": "markdown",
   "id": "1977ef99",
   "metadata": {},
   "source": [
    "### The adoption rates for different colorings is as follows:\n",
    "* The adoption rate for Black/White pets is 45%\n",
    "* The adoption rate for Black pets is 41%\n",
    "* The adoption rate for Brown Tabby pets is 42%\n",
    "* The adoption rate for Brown pets is 22%\n",
    "* The adoption rate for White pets is 38%\n",
    "\n",
    "This information was determined by first finding the top 5 colorings in the shelter by grouping by color, using 'size()' to get the number for each breed, and finally using 'nlargest(n=5)' to get the top 5. After this, the resulting colorings were used to filter the outcomes data and find the number of each coloring that had been adopted. With these two pieces of information, the adoption percentage was determined."
   ]
  },
  {
   "cell_type": "markdown",
   "id": "df121c76",
   "metadata": {},
   "source": [
    "# 7. About how many animals are spayed/neutered each month?\n",
    "This will help the shelter allocate resources and staff. Assume that all intact males and females will be spayed/neutered."
   ]
  },
  {
   "cell_type": "code",
   "execution_count": null,
   "id": "80c28b0a",
   "metadata": {},
   "outputs": [],
   "source": [
    "total_intact_pets_by_year = intakes[(intakes['sex_upon_intake'] == 'Intact Male') | (intakes['sex_upon_intake'] == 'Intact Female')].groupby('year_found').size()\n",
    "total_intact_pets_by_year_cleaned = total_intact_pets_by_year.drop(labels = [2013, 2018])\n",
    "avg_per_month = round((total_intact_pets_by_year_cleaned.sum())/((len(total_intact_pets_by_year_cleaned))*12))\n",
    "\n",
    "print(f'About {avg_per_month} animals are spayed/neutered each month')\n"
   ]
  },
  {
   "cell_type": "markdown",
   "id": "389153ff",
   "metadata": {},
   "source": [
    "### About 933 animals are spayed/neutered each month\n",
    "\n",
    "To determine this information, the intakes file was filtered based on 'sex_upon_intake' being either 'Intact Male' or 'Intact Female', grouping by the year found, and then using 'size()' to get the number of animals spayed/neutered each year. The first and last years were not complete years, so they were dropped. Finally, the number of remaining intact animals was combined and then divided by the total number of months over which they occurred. "
   ]
  },
  {
   "cell_type": "markdown",
   "id": "0ae72d67",
   "metadata": {},
   "source": [
    "# EE-1. How many animals in the shelter are repeats? Which animal was returned to the shelter the most?\n",
    "This means the animal has been brought in more than once."
   ]
  },
  {
   "cell_type": "code",
   "execution_count": null,
   "id": "af3f2aa0",
   "metadata": {},
   "outputs": [],
   "source": [
    "intakes_by_id = intakes.groupby('animal_id').size()\n",
    "number_of_repeats = intakes_by_id[intakes_by_id > 1].count()\n",
    "print(f'{number_of_repeats} animals have been brought in more than once')"
   ]
  },
  {
   "cell_type": "code",
   "execution_count": null,
   "id": "2ee410c1",
   "metadata": {},
   "outputs": [],
   "source": [
    "most_repeat_visits = intakes_by_id.nlargest(n=1)\n",
    "\n",
    "#https://stackoverflow.com/questions/24273130/get-first-element-of-series-without-knowing-the-index\n",
    "name_of_pet_with_most_repeat_visits = intakes[intakes['animal_id'] == most_repeat_visits.index[0]]['name'].iloc[0]\n",
    "pet_with_most_repeat_visits_type = intakes[intakes['animal_id'] == most_repeat_visits.index[0]]['breed'].iloc[0]\n",
    "number_of_visits = intakes[intakes['animal_id'] == most_repeat_visits.index[0]]['name'].count()\n",
    "print(f'With {number_of_visits} visits, {name_of_pet_with_most_repeat_visits}, a {pet_with_most_repeat_visits_type} with the id of {most_repeat_visits.index[0]}, has visited the shelter the most.')\n",
    "\n"
   ]
  },
  {
   "cell_type": "markdown",
   "id": "f4436f0f",
   "metadata": {},
   "source": [
    "### 6154 animals have been brought in more than once\n",
    "### With 13 visits, Lil Bit, a Rat Terrier Mix with the id of A721033, has visited the shelter the most.\n",
    "\n",
    "To get the total number of repeat animals, the intakes file was grouped by 'animal_id' and 'size()' was used to set the number of time that id was present. Finally, a count was taken of each id that showed up more than once by filtering for ids with a size greater than 1 and using 'count()' to determine the final number of repeats.\n",
    "\n",
    "To get the animal with the most repeat visits, nlargest(n=1) was used with the previously generated data to find the column with the largest number repeat vists. The animal_id for this animal was then used to select futher information, such as the animals name and breed. "
   ]
  },
  {
   "cell_type": "markdown",
   "id": "bf933b28",
   "metadata": {},
   "source": [
    "# EE-2. What are the adoption rates for the following age groups?\n",
    "* baby: 4 months and less\n",
    "* young: 5 months - 2 years\n",
    "* adult: 3 years - 10 years\n",
    "* senior: 11+"
   ]
  },
  {
   "cell_type": "code",
   "execution_count": null,
   "id": "dc6aa26e",
   "metadata": {
    "scrolled": true
   },
   "outputs": [],
   "source": [
    "age_at_outcome_total = intakes_outcomes.groupby('age_upon_outcome_(days)').size()\n",
    "age_at_outcome_adopted = intakes_outcomes[intakes_outcomes['outcome_type'] == 'Adoption'].groupby('age_upon_outcome_(days)').size()\n",
    "#print(age_at_outcome_total.sum())\n",
    "#print(age_at_outcome_adopted)\n",
    "\n",
    "total_baby = age_at_outcome_total[age_at_outcome_total.index < 152].sum()\n",
    "total_young = age_at_outcome_total[(age_at_outcome_total.index >= 152) & (age_at_outcome_total.index < 1096)].sum()\n",
    "total_adult = age_at_outcome_total[(age_at_outcome_total.index >= 1096) & (age_at_outcome_total.index < 4018)].sum()\n",
    "total_senior = age_at_outcome_total[age_at_outcome_total.index >= 4018].sum()\n",
    "\n",
    "adopted_baby = age_at_outcome_adopted[age_at_outcome_adopted.index < 152].sum()\n",
    "adopted_young = age_at_outcome_adopted[(age_at_outcome_adopted.index >= 152) & (age_at_outcome_adopted.index < 1096)].sum()\n",
    "adopted_adult = age_at_outcome_adopted[(age_at_outcome_adopted.index >= 1096) & (age_at_outcome_adopted.index < 4018)].sum()\n",
    "adopted_senior = age_at_outcome_adopted[age_at_outcome_adopted.index >= 4018].sum()\n",
    "\n",
    "baby_adoption_rate = round((adopted_baby/total_baby)*100)\n",
    "young_adoption_rate = round((adopted_young/total_young)*100)\n",
    "adult_adoption_rate = round((adopted_adult/total_adult)*100)\n",
    "senior_adoption_rate = round((adopted_senior/total_senior)*100)\n",
    "\n",
    "print(f'The adoption rate for the \"baby\" age group is {baby_adoption_rate}%')\n",
    "print(f'The adoption rate for the \"young\" age group is {young_adoption_rate}%')\n",
    "print(f'The adoption rate for the \"adult\" age group is {adult_adoption_rate}%')\n",
    "print(f'The adoption rate for the \"senior\" age group is {senior_adoption_rate}%')\n"
   ]
  },
  {
   "cell_type": "markdown",
   "id": "d5c5f081",
   "metadata": {},
   "source": [
    "### The adoption rates for the given age groups are as follows:\n",
    "* The adoption rate for the \"baby\" age group is 51%\n",
    "* The adoption rate for the \"young\" age group is 40%\n",
    "* The adoption rate for the \"adult\" age group is 32%\n",
    "* The adoption rate for the \"senior\" age group is 19%\n",
    "\n",
    "First numbers for total outcomes and total adoptions were set by using 'size()' on data set formed from grouping by age_upon_outcome_(days) and age_upon_outcome_(days) after filtering by 'outcome_type'] == 'Adoption'. With this, numbers for all outcomes and adopted were set for each age group by using conditional filtering of the previously generated totals. By dividing the total by the corresponding adopted number, the adoption rate per age group was generated.  "
   ]
  },
  {
   "cell_type": "markdown",
   "id": "15c698ec",
   "metadata": {},
   "source": [
    "# EE-3. If spay/neuter for a dog costs 100 dollars and a spay/neuter for a cat costs 50 dollars, how much did the shelter spend in 2015 on these procedures?"
   ]
  },
  {
   "cell_type": "code",
   "execution_count": null,
   "id": "9921a4c6",
   "metadata": {},
   "outputs": [],
   "source": [
    "intact_dogs_in_2015 = intakes[((intakes['animal_type'] == 'Dog') & (intakes['year_found'] == 2015)) & ((intakes['sex_upon_intake'] == 'Intact Male') | (intakes['sex_upon_intake'] == 'Intact Female'))].groupby('year_found').size()\n",
    "intact_cats_in_2015 = intakes[((intakes['animal_type'] == 'Cat') & (intakes['year_found'] == 2015)) & ((intakes['sex_upon_intake'] == 'Intact Male') | (intakes['sex_upon_intake'] == 'Intact Female'))].groupby('year_found').size()\n",
    "cost_per_dog = 100\n",
    "cost_per_cat = 50\n",
    "cost_for_all_dogs_2015 = intact_dogs_in_2015.iloc[0]*cost_per_dog\n",
    "cost_for_all_cats_2015 = intact_cats_in_2015.iloc[0]*cost_per_cat\n",
    "total_costs_2015 = cost_for_all_dogs_2015 + cost_for_all_cats_2015\n",
    "\n",
    "print(f'In 2015, the shelter spent a total of ${total_costs_2015} for these procedures. ${cost_for_all_dogs_2015} for dogs and ${cost_for_all_cats_2015} for cats')\n",
    "\n"
   ]
  },
  {
   "cell_type": "markdown",
   "id": "f45b9c7a",
   "metadata": {},
   "source": [
    "### In 2015, the shelter spent a total of 863,250 dollars for these procedures. 610,000 for dogs and 253,250 for cats.\n",
    "\n",
    "To get the total cost, first, the number of intact dogs and cats was found by filtering by animal type, year found, and sex upon intake. These two totals were multiplied by the cost for the procedure for their respective animals. By adding these two costs together, a final cost was determined. "
   ]
  }
 ],
 "metadata": {
  "kernelspec": {
   "display_name": "Python 3 (ipykernel)",
   "language": "python",
   "name": "python3"
  },
  "language_info": {
   "codemirror_mode": {
    "name": "ipython",
    "version": 3
   },
   "file_extension": ".py",
   "mimetype": "text/x-python",
   "name": "python",
   "nbconvert_exporter": "python",
   "pygments_lexer": "ipython3",
   "version": "3.10.9"
  }
 },
 "nbformat": 4,
 "nbformat_minor": 5
}
