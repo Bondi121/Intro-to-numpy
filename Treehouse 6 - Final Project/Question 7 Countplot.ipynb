{
 "cells": [
  {
   "cell_type": "code",
   "execution_count": 1,
   "id": "50bf24a1",
   "metadata": {},
   "outputs": [
    {
     "data": {
      "text/html": [
       "<div>\n",
       "<style scoped>\n",
       "    .dataframe tbody tr th:only-of-type {\n",
       "        vertical-align: middle;\n",
       "    }\n",
       "\n",
       "    .dataframe tbody tr th {\n",
       "        vertical-align: top;\n",
       "    }\n",
       "\n",
       "    .dataframe thead th {\n",
       "        text-align: right;\n",
       "    }\n",
       "</style>\n",
       "<table border=\"1\" class=\"dataframe\">\n",
       "  <thead>\n",
       "    <tr style=\"text-align: right;\">\n",
       "      <th></th>\n",
       "      <th>Rank</th>\n",
       "      <th>Name</th>\n",
       "      <th>Platform</th>\n",
       "      <th>Year</th>\n",
       "      <th>Genre</th>\n",
       "      <th>Publisher</th>\n",
       "      <th>NA_Sales</th>\n",
       "      <th>EU_Sales</th>\n",
       "      <th>JP_Sales</th>\n",
       "      <th>Other_Sales</th>\n",
       "      <th>Global_Sales</th>\n",
       "    </tr>\n",
       "  </thead>\n",
       "  <tbody>\n",
       "    <tr>\n",
       "      <th>0</th>\n",
       "      <td>1</td>\n",
       "      <td>Wii Sports</td>\n",
       "      <td>Nintendo</td>\n",
       "      <td>2006</td>\n",
       "      <td>Sports</td>\n",
       "      <td>Nintendo</td>\n",
       "      <td>41.49</td>\n",
       "      <td>29.02</td>\n",
       "      <td>3.77</td>\n",
       "      <td>8.46</td>\n",
       "      <td>82.74</td>\n",
       "    </tr>\n",
       "    <tr>\n",
       "      <th>1</th>\n",
       "      <td>2</td>\n",
       "      <td>Mario Kart Wii</td>\n",
       "      <td>Nintendo</td>\n",
       "      <td>2008</td>\n",
       "      <td>Racing</td>\n",
       "      <td>Nintendo</td>\n",
       "      <td>15.85</td>\n",
       "      <td>12.88</td>\n",
       "      <td>3.79</td>\n",
       "      <td>3.31</td>\n",
       "      <td>35.82</td>\n",
       "    </tr>\n",
       "    <tr>\n",
       "      <th>2</th>\n",
       "      <td>3</td>\n",
       "      <td>Wii Sports Resort</td>\n",
       "      <td>Nintendo</td>\n",
       "      <td>2009</td>\n",
       "      <td>Sports</td>\n",
       "      <td>Nintendo</td>\n",
       "      <td>15.75</td>\n",
       "      <td>11.01</td>\n",
       "      <td>3.28</td>\n",
       "      <td>2.96</td>\n",
       "      <td>33.00</td>\n",
       "    </tr>\n",
       "    <tr>\n",
       "      <th>3</th>\n",
       "      <td>4</td>\n",
       "      <td>New Super Mario Bros.</td>\n",
       "      <td>Nintendo</td>\n",
       "      <td>2006</td>\n",
       "      <td>Platform</td>\n",
       "      <td>Nintendo</td>\n",
       "      <td>11.38</td>\n",
       "      <td>9.23</td>\n",
       "      <td>6.50</td>\n",
       "      <td>2.90</td>\n",
       "      <td>30.01</td>\n",
       "    </tr>\n",
       "    <tr>\n",
       "      <th>4</th>\n",
       "      <td>5</td>\n",
       "      <td>Wii Play</td>\n",
       "      <td>Nintendo</td>\n",
       "      <td>2006</td>\n",
       "      <td>Misc</td>\n",
       "      <td>Nintendo</td>\n",
       "      <td>14.03</td>\n",
       "      <td>9.20</td>\n",
       "      <td>2.93</td>\n",
       "      <td>2.85</td>\n",
       "      <td>29.02</td>\n",
       "    </tr>\n",
       "    <tr>\n",
       "      <th>5</th>\n",
       "      <td>6</td>\n",
       "      <td>New Super Mario Bros. Wii</td>\n",
       "      <td>Nintendo</td>\n",
       "      <td>2009</td>\n",
       "      <td>Platform</td>\n",
       "      <td>Nintendo</td>\n",
       "      <td>14.59</td>\n",
       "      <td>7.06</td>\n",
       "      <td>4.70</td>\n",
       "      <td>2.26</td>\n",
       "      <td>28.62</td>\n",
       "    </tr>\n",
       "    <tr>\n",
       "      <th>6</th>\n",
       "      <td>7</td>\n",
       "      <td>Nintendogs</td>\n",
       "      <td>Nintendo</td>\n",
       "      <td>2005</td>\n",
       "      <td>Simulation</td>\n",
       "      <td>Nintendo</td>\n",
       "      <td>9.07</td>\n",
       "      <td>11.00</td>\n",
       "      <td>1.93</td>\n",
       "      <td>2.75</td>\n",
       "      <td>24.76</td>\n",
       "    </tr>\n",
       "    <tr>\n",
       "      <th>7</th>\n",
       "      <td>8</td>\n",
       "      <td>Mario Kart DS</td>\n",
       "      <td>Nintendo</td>\n",
       "      <td>2005</td>\n",
       "      <td>Racing</td>\n",
       "      <td>Nintendo</td>\n",
       "      <td>9.81</td>\n",
       "      <td>7.57</td>\n",
       "      <td>4.13</td>\n",
       "      <td>1.92</td>\n",
       "      <td>23.42</td>\n",
       "    </tr>\n",
       "    <tr>\n",
       "      <th>8</th>\n",
       "      <td>9</td>\n",
       "      <td>Wii Fit</td>\n",
       "      <td>Nintendo</td>\n",
       "      <td>2007</td>\n",
       "      <td>Sports</td>\n",
       "      <td>Nintendo</td>\n",
       "      <td>8.94</td>\n",
       "      <td>8.03</td>\n",
       "      <td>3.60</td>\n",
       "      <td>2.15</td>\n",
       "      <td>22.72</td>\n",
       "    </tr>\n",
       "    <tr>\n",
       "      <th>9</th>\n",
       "      <td>10</td>\n",
       "      <td>Wii Fit Plus</td>\n",
       "      <td>Nintendo</td>\n",
       "      <td>2009</td>\n",
       "      <td>Sports</td>\n",
       "      <td>Nintendo</td>\n",
       "      <td>9.09</td>\n",
       "      <td>8.59</td>\n",
       "      <td>2.53</td>\n",
       "      <td>1.79</td>\n",
       "      <td>22.00</td>\n",
       "    </tr>\n",
       "  </tbody>\n",
       "</table>\n",
       "</div>"
      ],
      "text/plain": [
       "   Rank                       Name  Platform  Year       Genre Publisher  \\\n",
       "0     1                 Wii Sports  Nintendo  2006      Sports  Nintendo   \n",
       "1     2             Mario Kart Wii  Nintendo  2008      Racing  Nintendo   \n",
       "2     3          Wii Sports Resort  Nintendo  2009      Sports  Nintendo   \n",
       "3     4      New Super Mario Bros.  Nintendo  2006    Platform  Nintendo   \n",
       "4     5                   Wii Play  Nintendo  2006        Misc  Nintendo   \n",
       "5     6  New Super Mario Bros. Wii  Nintendo  2009    Platform  Nintendo   \n",
       "6     7                 Nintendogs  Nintendo  2005  Simulation  Nintendo   \n",
       "7     8              Mario Kart DS  Nintendo  2005      Racing  Nintendo   \n",
       "8     9                    Wii Fit  Nintendo  2007      Sports  Nintendo   \n",
       "9    10               Wii Fit Plus  Nintendo  2009      Sports  Nintendo   \n",
       "\n",
       "   NA_Sales  EU_Sales  JP_Sales  Other_Sales  Global_Sales  \n",
       "0     41.49     29.02      3.77         8.46         82.74  \n",
       "1     15.85     12.88      3.79         3.31         35.82  \n",
       "2     15.75     11.01      3.28         2.96         33.00  \n",
       "3     11.38      9.23      6.50         2.90         30.01  \n",
       "4     14.03      9.20      2.93         2.85         29.02  \n",
       "5     14.59      7.06      4.70         2.26         28.62  \n",
       "6      9.07     11.00      1.93         2.75         24.76  \n",
       "7      9.81      7.57      4.13         1.92         23.42  \n",
       "8      8.94      8.03      3.60         2.15         22.72  \n",
       "9      9.09      8.59      2.53         1.79         22.00  "
      ]
     },
     "execution_count": 1,
     "metadata": {},
     "output_type": "execute_result"
    }
   ],
   "source": [
    "import csv\n",
    "import matplotlib.pyplot as plt\n",
    "import seaborn as sns\n",
    "import pandas as pd\n",
    "import numpy as np\n",
    "\n",
    "sns.set_theme(style=\"whitegrid\")\n",
    "\n",
    "videogames = pd.read_csv('top100videogamesales.csv')\n",
    "videogames.head(10)"
   ]
  },
  {
   "cell_type": "code",
   "execution_count": 2,
   "id": "5fa08170",
   "metadata": {},
   "outputs": [
    {
     "data": {
      "image/png": "[encoded data removed]",
      "text/plain": [
       "<Figure size 750x425 with 1 Axes>"
      ]
     },
     "metadata": {},
     "output_type": "display_data"
    }
   ],
   "source": [
    "import csv\n",
    "import matplotlib.pyplot as plt\n",
    "\n",
    "input_file = 'top100videogamesales.csv'\n",
    "plt.figure(figsize=(7.5, 4.25))\n",
    "plt.style.use('classic')\n",
    "\n",
    "with open(input_file, 'r') as old_faithful_data:\n",
    "    eruptions = list(csv.reader(old_faithful_data))\n",
    "    \n",
    "eruptions.pop(0)\n",
    "\n",
    "eruption_times = []\n",
    "\n",
    "for event in range (0, len(eruptions)-1):\n",
    "    if eruptions[event][4] == \"Action\":\n",
    "        eruption_times.append(float(eruptions[event][10]))\n",
    "    \n",
    "\n",
    "plt.subplot(1,1,1)\n",
    "num_bins=8\n",
    "plt.hist(eruption_times, num_bins)\n",
    "plt.title('Old Faithful Eruptions')\n",
    "plt.xlabel('Length of Eruption (mins)')\n",
    "\n",
    "plt.show()"
   ]
  },
  {
   "cell_type": "code",
   "execution_count": null,
   "id": "dd545bf4",
   "metadata": {},
   "outputs": [],
   "source": [
    "action_games = videogames[videogames['Genre'] == 'Action']\n",
    "action_games[['Global_Sales']].plot(kind ='hist', bins=17, figsize=(10,8), color=\"green\", linestyle=\"solid\", title = 'Action Videogames sales distribution')"
   ]
  },
  {
   "cell_type": "code",
   "execution_count": 8,
   "id": "3c78cca0",
   "metadata": {
    "scrolled": true
   },
   "outputs": [
    {
     "data": {
      "image/png": "[encoded data removed]",
      "text/plain": [
       "<Figure size 640x480 with 1 Axes>"
      ]
     },
     "metadata": {},
     "output_type": "display_data"
    }
   ],
   "source": [
    "nintendo = videogames[videogames['Platform']=='Nintendo']\n",
    "playstation = videogames[videogames['Platform']=='PlayStation']\n",
    "xbox = videogames[videogames['Platform']=='XBox']\n",
    "other = videogames[videogames['Platform']=='Other']\n",
    "\n",
    "platform_values = np.array([len(nintendo), len(playstation), len(xbox), len(other)])\n",
    "platform_labels = np.array(['Nintendo', 'PlayStation', 'XBox', 'Other'])\n",
    "\n",
    "sns.barplot(x=platform_labels, y=platform_values, palette=[\"orange\", \"cyan\", \"brown\", \"beige\"])\n",
    "plt.show()"
   ]
  },
  {
   "cell_type": "code",
   "execution_count": 9,
   "id": "21183aa0",
   "metadata": {},
   "outputs": [
    {
     "data": {
      "text/plain": [
       "array([46, 34, 19,  1])"
      ]
     },
     "execution_count": 9,
     "metadata": {},
     "output_type": "execute_result"
    }
   ],
   "source": [
    "platform_values = np.array([len(nintendo), len(playstation), len(xbox), len(other)])\n",
    "platform_values"
   ]
  },
  {
   "cell_type": "code",
   "execution_count": 10,
   "id": "482c5e6e",
   "metadata": {},
   "outputs": [
    {
     "data": {
      "text/plain": [
       "array(['Nintendo', 'PlayStation', 'XBox', 'Other'], dtype='<U11')"
      ]
     },
     "execution_count": 10,
     "metadata": {},
     "output_type": "execute_result"
    }
   ],
   "source": [
    "platform_labels"
   ]
  }
 ],
 "metadata": {
  "kernelspec": {
   "display_name": "Python 3 (ipykernel)",
   "language": "python",
   "name": "python3"
  },
  "language_info": {
   "codemirror_mode": {
    "name": "ipython",
    "version": 3
   },
   "file_extension": ".py",
   "mimetype": "text/x-python",
   "name": "python",
   "nbconvert_exporter": "python",
   "pygments_lexer": "ipython3",
   "version": "3.10.9"
  }
 },
 "nbformat": 4,
 "nbformat_minor": 5
}
