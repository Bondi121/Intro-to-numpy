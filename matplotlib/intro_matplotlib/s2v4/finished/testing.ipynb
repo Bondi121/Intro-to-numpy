{
 "cells": [
  {
   "cell_type": "code",
   "execution_count": 16,
   "id": "2c0802e8",
   "metadata": {},
   "outputs": [
    {
     "ename": "NameError",
     "evalue": "name 'petal' is not defined",
     "output_type": "error",
     "traceback": [
      "\u001b[1;31m---------------------------------------------------------------------------\u001b[0m",
      "\u001b[1;31mNameError\u001b[0m                                 Traceback (most recent call last)",
      "Cell \u001b[1;32mIn[16], line 21\u001b[0m\n\u001b[0;32m     18\u001b[0m petal_lengths\u001b[38;5;241m.\u001b[39mappend([\u001b[38;5;28mfloat\u001b[39m(petal[\u001b[38;5;241m2\u001b[39m]) \u001b[38;5;28;01mfor\u001b[39;00m petal \u001b[38;5;129;01min\u001b[39;00m group])\n\u001b[0;32m     19\u001b[0m \u001b[38;5;66;03m#print(species)\u001b[39;00m\n\u001b[0;32m     20\u001b[0m \u001b[38;5;66;03m#print(group)\u001b[39;00m\n\u001b[1;32m---> 21\u001b[0m \u001b[38;5;28mprint\u001b[39m(\u001b[43mpetal\u001b[49m)\n",
      "\u001b[1;31mNameError\u001b[0m: name 'petal' is not defined"
     ]
    },
    {
     "data": {
      "text/plain": [
       "<Figure size 600x340 with 0 Axes>"
      ]
     },
     "metadata": {},
     "output_type": "display_data"
    }
   ],
   "source": [
    "from itertools import groupby\n",
    "\n",
    "import csv\n",
    "import matplotlib.pyplot as plt\n",
    "\n",
    "input_file = 'iris.csv'\n",
    "plt.figure(figsize=(7.5, 4.25))\n",
    "plt.style.use('classic')\n",
    "\n",
    "with open(input_file, 'r') as iris_data:\n",
    "    irises = list(csv.reader(iris_data))\n",
    "\n",
    "irises.pop()\n",
    "\n",
    "petal_lengths = []\n",
    "\n",
    "for species, group in groupby(irises, lambda i: i[4]):\n",
    "    petal_lengths.append([float(petal[2]) for petal in group])\n",
    "    #print(species)\n",
    "    #print(group)\n",
    "   "
   ]
  }
 ],
 "metadata": {
  "kernelspec": {
   "display_name": "Python 3 (ipykernel)",
   "language": "python",
   "name": "python3"
  },
  "language_info": {
   "codemirror_mode": {
    "name": "ipython",
    "version": 3
   },
   "file_extension": ".py",
   "mimetype": "text/x-python",
   "name": "python",
   "nbconvert_exporter": "python",
   "pygments_lexer": "ipython3",
   "version": "3.10.9"
  }
 },
 "nbformat": 4,
 "nbformat_minor": 5
}
